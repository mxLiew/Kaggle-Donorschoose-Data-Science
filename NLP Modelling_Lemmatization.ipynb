{
 "cells": [
  {
   "cell_type": "code",
   "execution_count": 25,
   "metadata": {},
   "outputs": [
    {
     "name": "stderr",
     "output_type": "stream",
     "text": [
      "[nltk_data] Downloading package punkt to\n",
      "[nltk_data]     C:\\Users\\liewm\\AppData\\Roaming\\nltk_data...\n",
      "[nltk_data]   Package punkt is already up-to-date!\n",
      "[nltk_data] Downloading package stopwords to\n",
      "[nltk_data]     C:\\Users\\liewm\\AppData\\Roaming\\nltk_data...\n",
      "[nltk_data]   Package stopwords is already up-to-date!\n",
      "[nltk_data] Downloading package wordnet to\n",
      "[nltk_data]     C:\\Users\\liewm\\AppData\\Roaming\\nltk_data...\n",
      "[nltk_data]   Package wordnet is already up-to-date!\n"
     ]
    }
   ],
   "source": [
    "import pandas as pd\n",
    "import collections\n",
    "from sklearn import preprocessing\n",
    "from sklearn import metrics\n",
    "import matplotlib.pyplot as plt \n",
    "plt.rc(\"font\", size=14)\n",
    "from sklearn.linear_model import LogisticRegression\n",
    "from sklearn.model_selection import train_test_split\n",
    "from sklearn.preprocessing import StandardScaler\n",
    "import statsmodels.api as sm\n",
    "from scipy import stats\n",
    "import seaborn as sns\n",
    "import nltk\n",
    "from nltk.tokenize import word_tokenize\n",
    "nltk.download('punkt')\n",
    "nltk.download('stopwords')\n",
    "from nltk.corpus import stopwords\n",
    "stop_words = set(stopwords.words(\"english\"))\n",
    "from nltk.stem.porter import PorterStemmer\n",
    "nltk.download('wordnet')\n",
    "from nltk.stem import WordNetLemmatizer\n",
    "from sklearn.feature_extraction.text import TfidfVectorizer\n",
    "import spacy\n",
    "\n",
    "\n",
    "from sklearn.linear_model import LogisticRegression\n",
    "from sklearn.model_selection import StratifiedKFold\n",
    "from sklearn.feature_extraction.text import CountVectorizer,TfidfVectorizer\n",
    "from sklearn.decomposition import TruncatedSVD\n",
    "from sklearn.metrics import log_loss,confusion_matrix,classification_report,roc_curve,auc\n",
    "\n",
    "import string\n",
    "import nltk\n",
    "from nltk.corpus import stopwords\n",
    "from nltk.tokenize import word_tokenize\n",
    "from scipy import sparse\n",
    "%matplotlib inline\n"
   ]
  },
  {
   "cell_type": "code",
   "execution_count": 26,
   "metadata": {},
   "outputs": [
    {
     "name": "stderr",
     "output_type": "stream",
     "text": [
      "C:\\Users\\liewm\\Anaconda3\\lib\\site-packages\\IPython\\core\\interactiveshell.py:3058: DtypeWarning: Columns (0,58,59,60) have mixed types. Specify dtype option on import or set low_memory=False.\n",
      "  interactivity=interactivity, compiler=compiler, result=result)\n"
     ]
    },
    {
     "data": {
      "text/html": [
       "<div>\n",
       "<style scoped>\n",
       "    .dataframe tbody tr th:only-of-type {\n",
       "        vertical-align: middle;\n",
       "    }\n",
       "\n",
       "    .dataframe tbody tr th {\n",
       "        vertical-align: top;\n",
       "    }\n",
       "\n",
       "    .dataframe thead th {\n",
       "        text-align: right;\n",
       "    }\n",
       "</style>\n",
       "<table border=\"1\" class=\"dataframe\">\n",
       "  <thead>\n",
       "    <tr style=\"text-align: right;\">\n",
       "      <th></th>\n",
       "      <th>id</th>\n",
       "      <th>teacher_id</th>\n",
       "      <th>teacher_prefix</th>\n",
       "      <th>school_state</th>\n",
       "      <th>project_submitted_datetime</th>\n",
       "      <th>project_grade_category</th>\n",
       "      <th>project_subject_categories</th>\n",
       "      <th>project_subject_subcategories</th>\n",
       "      <th>project_title</th>\n",
       "      <th>project_essay_1</th>\n",
       "      <th>...</th>\n",
       "      <th>res_cat_Classroom Basics</th>\n",
       "      <th>res_cat_Educational Kits &amp; Games</th>\n",
       "      <th>res_cat_Sports &amp; Exercise Equipment</th>\n",
       "      <th>res_cat_Musical Instruments</th>\n",
       "      <th>res_cat_Art Supplies</th>\n",
       "      <th>res_cat_Lab Equipment</th>\n",
       "      <th>res_cat_Visitors</th>\n",
       "      <th>Combined Project Essay</th>\n",
       "      <th>essay_processed</th>\n",
       "      <th>need_processed</th>\n",
       "    </tr>\n",
       "  </thead>\n",
       "  <tbody>\n",
       "    <tr>\n",
       "      <td>0</td>\n",
       "      <td>p039565</td>\n",
       "      <td>df72a3ba8089423fa8a94be88060f6ed</td>\n",
       "      <td>Mrs.</td>\n",
       "      <td>GA</td>\n",
       "      <td>2017-04-26 15:57:28</td>\n",
       "      <td>Grades 3-5</td>\n",
       "      <td>Counter({'Music &amp; The Arts': 1, 'Health &amp; Spor...</td>\n",
       "      <td>Counter({'Performing Arts': 1, 'Team Sports': 1})</td>\n",
       "      <td>Keep Calm and Dance On</td>\n",
       "      <td>Our elementary school is a culturally rich sch...</td>\n",
       "      <td>...</td>\n",
       "      <td>0.0</td>\n",
       "      <td>0.0</td>\n",
       "      <td>0.0</td>\n",
       "      <td>0.0</td>\n",
       "      <td>0.0</td>\n",
       "      <td>0.0</td>\n",
       "      <td>0.0</td>\n",
       "      <td>Our elementary school is a culturally rich sch...</td>\n",
       "      <td>elementary school rich school diverse populati...</td>\n",
       "      <td>student need matching shirt wear dance perform...</td>\n",
       "    </tr>\n",
       "    <tr>\n",
       "      <td>1</td>\n",
       "      <td>p063374</td>\n",
       "      <td>403c6783e9286e51ab318fba40f8d729</td>\n",
       "      <td>Mrs.</td>\n",
       "      <td>DE</td>\n",
       "      <td>2016-11-05 10:01:51</td>\n",
       "      <td>Grades PreK-2</td>\n",
       "      <td>Counter({'Applied Learning': 1, 'Literacy &amp; La...</td>\n",
       "      <td>Counter({'Character Education': 1, 'Literature...</td>\n",
       "      <td>Need to Reach Our Virtual  Mentors!!!</td>\n",
       "      <td>My kids tell me each day that they want to mak...</td>\n",
       "      <td>...</td>\n",
       "      <td>0.0</td>\n",
       "      <td>0.0</td>\n",
       "      <td>0.0</td>\n",
       "      <td>0.0</td>\n",
       "      <td>0.0</td>\n",
       "      <td>0.0</td>\n",
       "      <td>0.0</td>\n",
       "      <td>My kids tell me each day that they want to mak...</td>\n",
       "      <td>kid tell day want make happy teacher respectfu...</td>\n",
       "      <td>student need tablet order communicate virtual ...</td>\n",
       "    </tr>\n",
       "    <tr>\n",
       "      <td>2</td>\n",
       "      <td>p114989</td>\n",
       "      <td>b580c11b1497a0a67317763b7f03eb27</td>\n",
       "      <td>Ms.</td>\n",
       "      <td>IN</td>\n",
       "      <td>2016-09-13 22:35:57</td>\n",
       "      <td>Grades 6-8</td>\n",
       "      <td>Counter({'Math &amp; Science': 1})</td>\n",
       "      <td>Counter({'Mathematics': 1})</td>\n",
       "      <td>Wobble Chairs Help Fidgety Kids Focus</td>\n",
       "      <td>My seventh graders dream big. They can't wait ...</td>\n",
       "      <td>...</td>\n",
       "      <td>0.0</td>\n",
       "      <td>0.0</td>\n",
       "      <td>0.0</td>\n",
       "      <td>0.0</td>\n",
       "      <td>0.0</td>\n",
       "      <td>0.0</td>\n",
       "      <td>0.0</td>\n",
       "      <td>My seventh graders dream big. They can't wait ...</td>\n",
       "      <td>seventh grader dream big wait college dream co...</td>\n",
       "      <td>student need seat allow fidgety move learn cha...</td>\n",
       "    </tr>\n",
       "    <tr>\n",
       "      <td>3</td>\n",
       "      <td>p030093</td>\n",
       "      <td>b9e731e16ad8669f37a43e5316518106</td>\n",
       "      <td>Teacher</td>\n",
       "      <td>VA</td>\n",
       "      <td>2017-03-09 17:16:13</td>\n",
       "      <td>Grades PreK-2</td>\n",
       "      <td>Counter({'Literacy &amp; Language': 1, 'Math &amp; Sci...</td>\n",
       "      <td>Counter({'Literature &amp; Writing': 1, 'Mathemati...</td>\n",
       "      <td>Writing, Writing, Writing!</td>\n",
       "      <td>My classroom has 24 students in it. We have an...</td>\n",
       "      <td>...</td>\n",
       "      <td>0.0</td>\n",
       "      <td>0.0</td>\n",
       "      <td>0.0</td>\n",
       "      <td>0.0</td>\n",
       "      <td>0.0</td>\n",
       "      <td>0.0</td>\n",
       "      <td>0.0</td>\n",
       "      <td>My classroom has 24 students in it. We have an...</td>\n",
       "      <td>classroom student amazing group kid love learn...</td>\n",
       "      <td>student need individual dry erase board show w...</td>\n",
       "    </tr>\n",
       "    <tr>\n",
       "      <td>4</td>\n",
       "      <td>p225747</td>\n",
       "      <td>4681d60136ea859084ab488f2254b219</td>\n",
       "      <td>Ms.</td>\n",
       "      <td>PA</td>\n",
       "      <td>2016-12-08 13:25:03</td>\n",
       "      <td>Grades 3-5</td>\n",
       "      <td>Counter({'Applied Learning': 1, 'Literacy &amp; La...</td>\n",
       "      <td>Counter({'Character Education': 1, 'Literacy':...</td>\n",
       "      <td>Life Lessons through Literacy</td>\n",
       "      <td>My school is located in a high poverty area, j...</td>\n",
       "      <td>...</td>\n",
       "      <td>0.0</td>\n",
       "      <td>0.0</td>\n",
       "      <td>0.0</td>\n",
       "      <td>0.0</td>\n",
       "      <td>0.0</td>\n",
       "      <td>0.0</td>\n",
       "      <td>0.0</td>\n",
       "      <td>My school is located in a high poverty area, j...</td>\n",
       "      <td>school locate high poverty area major city % s...</td>\n",
       "      <td>student need book teach life lesson promote di...</td>\n",
       "    </tr>\n",
       "  </tbody>\n",
       "</table>\n",
       "<p>5 rows × 77 columns</p>\n",
       "</div>"
      ],
      "text/plain": [
       "        id                        teacher_id teacher_prefix school_state  \\\n",
       "0  p039565  df72a3ba8089423fa8a94be88060f6ed           Mrs.           GA   \n",
       "1  p063374  403c6783e9286e51ab318fba40f8d729           Mrs.           DE   \n",
       "2  p114989  b580c11b1497a0a67317763b7f03eb27            Ms.           IN   \n",
       "3  p030093  b9e731e16ad8669f37a43e5316518106        Teacher           VA   \n",
       "4  p225747  4681d60136ea859084ab488f2254b219            Ms.           PA   \n",
       "\n",
       "  project_submitted_datetime project_grade_category  \\\n",
       "0        2017-04-26 15:57:28             Grades 3-5   \n",
       "1        2016-11-05 10:01:51          Grades PreK-2   \n",
       "2        2016-09-13 22:35:57             Grades 6-8   \n",
       "3        2017-03-09 17:16:13          Grades PreK-2   \n",
       "4        2016-12-08 13:25:03             Grades 3-5   \n",
       "\n",
       "                          project_subject_categories  \\\n",
       "0  Counter({'Music & The Arts': 1, 'Health & Spor...   \n",
       "1  Counter({'Applied Learning': 1, 'Literacy & La...   \n",
       "2                     Counter({'Math & Science': 1})   \n",
       "3  Counter({'Literacy & Language': 1, 'Math & Sci...   \n",
       "4  Counter({'Applied Learning': 1, 'Literacy & La...   \n",
       "\n",
       "                       project_subject_subcategories  \\\n",
       "0  Counter({'Performing Arts': 1, 'Team Sports': 1})   \n",
       "1  Counter({'Character Education': 1, 'Literature...   \n",
       "2                        Counter({'Mathematics': 1})   \n",
       "3  Counter({'Literature & Writing': 1, 'Mathemati...   \n",
       "4  Counter({'Character Education': 1, 'Literacy':...   \n",
       "\n",
       "                           project_title  \\\n",
       "0                 Keep Calm and Dance On   \n",
       "1  Need to Reach Our Virtual  Mentors!!!   \n",
       "2  Wobble Chairs Help Fidgety Kids Focus   \n",
       "3             Writing, Writing, Writing!   \n",
       "4          Life Lessons through Literacy   \n",
       "\n",
       "                                     project_essay_1  ...  \\\n",
       "0  Our elementary school is a culturally rich sch...  ...   \n",
       "1  My kids tell me each day that they want to mak...  ...   \n",
       "2  My seventh graders dream big. They can't wait ...  ...   \n",
       "3  My classroom has 24 students in it. We have an...  ...   \n",
       "4  My school is located in a high poverty area, j...  ...   \n",
       "\n",
       "  res_cat_Classroom Basics res_cat_Educational Kits & Games  \\\n",
       "0                      0.0                              0.0   \n",
       "1                      0.0                              0.0   \n",
       "2                      0.0                              0.0   \n",
       "3                      0.0                              0.0   \n",
       "4                      0.0                              0.0   \n",
       "\n",
       "  res_cat_Sports & Exercise Equipment res_cat_Musical Instruments  \\\n",
       "0                                 0.0                         0.0   \n",
       "1                                 0.0                         0.0   \n",
       "2                                 0.0                         0.0   \n",
       "3                                 0.0                         0.0   \n",
       "4                                 0.0                         0.0   \n",
       "\n",
       "   res_cat_Art Supplies  res_cat_Lab Equipment res_cat_Visitors  \\\n",
       "0                   0.0                    0.0              0.0   \n",
       "1                   0.0                    0.0              0.0   \n",
       "2                   0.0                    0.0              0.0   \n",
       "3                   0.0                    0.0              0.0   \n",
       "4                   0.0                    0.0              0.0   \n",
       "\n",
       "                              Combined Project Essay  \\\n",
       "0  Our elementary school is a culturally rich sch...   \n",
       "1  My kids tell me each day that they want to mak...   \n",
       "2  My seventh graders dream big. They can't wait ...   \n",
       "3  My classroom has 24 students in it. We have an...   \n",
       "4  My school is located in a high poverty area, j...   \n",
       "\n",
       "                                     essay_processed  \\\n",
       "0  elementary school rich school diverse populati...   \n",
       "1  kid tell day want make happy teacher respectfu...   \n",
       "2  seventh grader dream big wait college dream co...   \n",
       "3  classroom student amazing group kid love learn...   \n",
       "4  school locate high poverty area major city % s...   \n",
       "\n",
       "                                      need_processed  \n",
       "0  student need matching shirt wear dance perform...  \n",
       "1  student need tablet order communicate virtual ...  \n",
       "2  student need seat allow fidgety move learn cha...  \n",
       "3  student need individual dry erase board show w...  \n",
       "4  student need book teach life lesson promote di...  \n",
       "\n",
       "[5 rows x 77 columns]"
      ]
     },
     "execution_count": 26,
     "metadata": {},
     "output_type": "execute_result"
    }
   ],
   "source": [
    "df=pd.read_csv(r'C:\\Users\\liewm\\Documents\\BT4240 Machine Learning\\Project\\donorsnlp1.csv')\n",
    "df=df.drop(columns=['Unnamed: 0'])\n",
    "df.head()"
   ]
  },
  {
   "cell_type": "code",
   "execution_count": 27,
   "metadata": {},
   "outputs": [
    {
     "data": {
      "text/plain": [
       "(93791, 77)"
      ]
     },
     "execution_count": 27,
     "metadata": {},
     "output_type": "execute_result"
    }
   ],
   "source": [
    "df.shape"
   ]
  },
  {
   "cell_type": "code",
   "execution_count": 28,
   "metadata": {},
   "outputs": [],
   "source": [
    "essay=df['essay_processed'].values.tolist()\n",
    "score=df['project_is_approved'].values.tolist()\n",
    "need=df['need_processed'].values.tolist()"
   ]
  },
  {
   "cell_type": "code",
   "execution_count": 29,
   "metadata": {},
   "outputs": [
    {
     "data": {
      "text/html": [
       "<div>\n",
       "<style scoped>\n",
       "    .dataframe tbody tr th:only-of-type {\n",
       "        vertical-align: middle;\n",
       "    }\n",
       "\n",
       "    .dataframe tbody tr th {\n",
       "        vertical-align: top;\n",
       "    }\n",
       "\n",
       "    .dataframe thead th {\n",
       "        text-align: right;\n",
       "    }\n",
       "</style>\n",
       "<table border=\"1\" class=\"dataframe\">\n",
       "  <thead>\n",
       "    <tr style=\"text-align: right;\">\n",
       "      <th></th>\n",
       "      <th>essay</th>\n",
       "      <th>need</th>\n",
       "      <th>score</th>\n",
       "    </tr>\n",
       "  </thead>\n",
       "  <tbody>\n",
       "    <tr>\n",
       "      <td>0</td>\n",
       "      <td>elementary school rich school diverse populati...</td>\n",
       "      <td>student need matching shirt wear dance perform...</td>\n",
       "      <td>0.0</td>\n",
       "    </tr>\n",
       "    <tr>\n",
       "      <td>1</td>\n",
       "      <td>kid tell day want make happy teacher respectfu...</td>\n",
       "      <td>student need tablet order communicate virtual ...</td>\n",
       "      <td>1.0</td>\n",
       "    </tr>\n",
       "    <tr>\n",
       "      <td>2</td>\n",
       "      <td>seventh grader dream big wait college dream co...</td>\n",
       "      <td>student need seat allow fidgety move learn cha...</td>\n",
       "      <td>1.0</td>\n",
       "    </tr>\n",
       "    <tr>\n",
       "      <td>3</td>\n",
       "      <td>classroom student amazing group kid love learn...</td>\n",
       "      <td>student need individual dry erase board show w...</td>\n",
       "      <td>1.0</td>\n",
       "    </tr>\n",
       "    <tr>\n",
       "      <td>4</td>\n",
       "      <td>school locate high poverty area major city % s...</td>\n",
       "      <td>student need book teach life lesson promote di...</td>\n",
       "      <td>1.0</td>\n",
       "    </tr>\n",
       "  </tbody>\n",
       "</table>\n",
       "</div>"
      ],
      "text/plain": [
       "                                               essay  \\\n",
       "0  elementary school rich school diverse populati...   \n",
       "1  kid tell day want make happy teacher respectfu...   \n",
       "2  seventh grader dream big wait college dream co...   \n",
       "3  classroom student amazing group kid love learn...   \n",
       "4  school locate high poverty area major city % s...   \n",
       "\n",
       "                                                need  score  \n",
       "0  student need matching shirt wear dance perform...    0.0  \n",
       "1  student need tablet order communicate virtual ...    1.0  \n",
       "2  student need seat allow fidgety move learn cha...    1.0  \n",
       "3  student need individual dry erase board show w...    1.0  \n",
       "4  student need book teach life lesson promote di...    1.0  "
      ]
     },
     "execution_count": 29,
     "metadata": {},
     "output_type": "execute_result"
    }
   ],
   "source": [
    "#loading required data to dataframe.\n",
    "text_df = pd.DataFrame()\n",
    "text_df['essay'] = essay\n",
    "text_df['need']=need\n",
    "text_df['score'] = score\n",
    "text_df.head()"
   ]
  },
  {
   "cell_type": "code",
   "execution_count": 30,
   "metadata": {},
   "outputs": [],
   "source": [
    "#Convert score to integer\n",
    "text_df['score']=pd.to_numeric(text_df['score'], downcast='integer')"
   ]
  },
  {
   "cell_type": "code",
   "execution_count": 31,
   "metadata": {},
   "outputs": [
    {
     "data": {
      "text/html": [
       "<div>\n",
       "<style scoped>\n",
       "    .dataframe tbody tr th:only-of-type {\n",
       "        vertical-align: middle;\n",
       "    }\n",
       "\n",
       "    .dataframe tbody tr th {\n",
       "        vertical-align: top;\n",
       "    }\n",
       "\n",
       "    .dataframe thead th {\n",
       "        text-align: right;\n",
       "    }\n",
       "</style>\n",
       "<table border=\"1\" class=\"dataframe\">\n",
       "  <thead>\n",
       "    <tr style=\"text-align: right;\">\n",
       "      <th></th>\n",
       "      <th>essay</th>\n",
       "      <th>need</th>\n",
       "      <th>score</th>\n",
       "    </tr>\n",
       "  </thead>\n",
       "  <tbody>\n",
       "    <tr>\n",
       "      <td>0</td>\n",
       "      <td>elementary school rich school diverse populati...</td>\n",
       "      <td>student need matching shirt wear dance perform...</td>\n",
       "      <td>0</td>\n",
       "    </tr>\n",
       "    <tr>\n",
       "      <td>1</td>\n",
       "      <td>kid tell day want make happy teacher respectfu...</td>\n",
       "      <td>student need tablet order communicate virtual ...</td>\n",
       "      <td>1</td>\n",
       "    </tr>\n",
       "    <tr>\n",
       "      <td>2</td>\n",
       "      <td>seventh grader dream big wait college dream co...</td>\n",
       "      <td>student need seat allow fidgety move learn cha...</td>\n",
       "      <td>1</td>\n",
       "    </tr>\n",
       "    <tr>\n",
       "      <td>3</td>\n",
       "      <td>classroom student amazing group kid love learn...</td>\n",
       "      <td>student need individual dry erase board show w...</td>\n",
       "      <td>1</td>\n",
       "    </tr>\n",
       "    <tr>\n",
       "      <td>4</td>\n",
       "      <td>school locate high poverty area major city % s...</td>\n",
       "      <td>student need book teach life lesson promote di...</td>\n",
       "      <td>1</td>\n",
       "    </tr>\n",
       "  </tbody>\n",
       "</table>\n",
       "</div>"
      ],
      "text/plain": [
       "                                               essay  \\\n",
       "0  elementary school rich school diverse populati...   \n",
       "1  kid tell day want make happy teacher respectfu...   \n",
       "2  seventh grader dream big wait college dream co...   \n",
       "3  classroom student amazing group kid love learn...   \n",
       "4  school locate high poverty area major city % s...   \n",
       "\n",
       "                                                need  score  \n",
       "0  student need matching shirt wear dance perform...      0  \n",
       "1  student need tablet order communicate virtual ...      1  \n",
       "2  student need seat allow fidgety move learn cha...      1  \n",
       "3  student need individual dry erase board show w...      1  \n",
       "4  student need book teach life lesson promote di...      1  "
      ]
     },
     "execution_count": 31,
     "metadata": {},
     "output_type": "execute_result"
    }
   ],
   "source": [
    "text_df.head()"
   ]
  },
  {
   "cell_type": "code",
   "execution_count": 32,
   "metadata": {},
   "outputs": [
    {
     "data": {
      "text/plain": [
       "93791"
      ]
     },
     "execution_count": 32,
     "metadata": {},
     "output_type": "execute_result"
    }
   ],
   "source": [
    "len(text_df)"
   ]
  },
  {
   "cell_type": "markdown",
   "metadata": {},
   "source": [
    "### Replace missing values in essay and need statement "
   ]
  },
  {
   "cell_type": "code",
   "execution_count": 33,
   "metadata": {},
   "outputs": [
    {
     "data": {
      "text/plain": [
       "essay    6\n",
       "need     6\n",
       "score    0\n",
       "dtype: int64"
      ]
     },
     "execution_count": 33,
     "metadata": {},
     "output_type": "execute_result"
    }
   ],
   "source": [
    "text_df.isnull().sum()"
   ]
  },
  {
   "cell_type": "code",
   "execution_count": 34,
   "metadata": {},
   "outputs": [],
   "source": [
    "import numpy as np\n",
    "text_df = text_df.replace(np.nan, '', regex=True)"
   ]
  },
  {
   "cell_type": "code",
   "execution_count": 35,
   "metadata": {},
   "outputs": [
    {
     "data": {
      "text/plain": [
       "essay    0\n",
       "need     0\n",
       "score    0\n",
       "dtype: int64"
      ]
     },
     "execution_count": 35,
     "metadata": {},
     "output_type": "execute_result"
    }
   ],
   "source": [
    "text_df.isnull().sum()"
   ]
  },
  {
   "cell_type": "markdown",
   "metadata": {},
   "source": [
    "## 1. Split datasets"
   ]
  },
  {
   "cell_type": "code",
   "execution_count": 32,
   "metadata": {},
   "outputs": [],
   "source": [
    "x=text_df.loc[:,['essay', 'need']]\n",
    "y=text_df.score"
   ]
  },
  {
   "cell_type": "code",
   "execution_count": 33,
   "metadata": {},
   "outputs": [],
   "source": [
    "from sklearn.model_selection import train_test_split\n",
    "SEED = 1\n",
    "x_train, x_validation_and_test, y_train, y_validation_and_test = train_test_split(x, y, test_size=0.2, random_state=SEED)\n",
    "x_validation, x_test, y_validation, y_test = train_test_split(x_validation_and_test, y_validation_and_test, test_size=0.2, random_state=SEED)"
   ]
  },
  {
   "cell_type": "code",
   "execution_count": 34,
   "metadata": {},
   "outputs": [
    {
     "name": "stdout",
     "output_type": "stream",
     "text": [
      "Train: (75032, 2), Validation: (15007, 2), Test: (3752, 2)\n"
     ]
    }
   ],
   "source": [
    "print(\"Train: {}, Validation: {}, Test: {}\".format(x_train.shape, x_validation.shape, x_test.shape))"
   ]
  },
  {
   "cell_type": "code",
   "execution_count": 42,
   "metadata": {},
   "outputs": [
    {
     "data": {
      "text/plain": [
       "26413    obstacle student face daily mind boggle major ...\n",
       "55647    student array character sweet kid successful s...\n",
       "78573    student live poor area new york city class 4th...\n",
       "5420     first grader wonderful kid live high poverty a...\n",
       "44212    student live south memphis\\r\\nalmost student l...\n",
       "                               ...                        \n",
       "21440    student learn variety way hand game activity g...\n",
       "73349    teach kindergarten title school north carolina...\n",
       "50057    student 21st century learner eager use technol...\n",
       "5192     year teach sixth grade language art end year w...\n",
       "77708    classroom dual language classroom majority stu...\n",
       "Name: essay, Length: 75032, dtype: object"
      ]
     },
     "execution_count": 42,
     "metadata": {},
     "output_type": "execute_result"
    }
   ],
   "source": [
    "x_train['essay']"
   ]
  },
  {
   "cell_type": "markdown",
   "metadata": {},
   "source": [
    "## 2. Check which feature extraction is better? \n",
    "1) Count vectorizer : unigram, bigram, trigram \n",
    "<br>2) TFIDF vectorizer with unigram, bigram, trigram \n",
    "\n",
    "## 2.1 Project Essays \n",
    "### 2.1.1 Logistic Regression "
   ]
  },
  {
   "cell_type": "code",
   "execution_count": 35,
   "metadata": {},
   "outputs": [],
   "source": [
    "from sklearn.metrics import accuracy_score\n",
    "from sklearn.linear_model import LogisticRegression\n",
    "from sklearn.pipeline import Pipeline\n",
    "from time import time"
   ]
  },
  {
   "cell_type": "code",
   "execution_count": 36,
   "metadata": {},
   "outputs": [],
   "source": [
    "def accuracy_summary(pipeline, x_train, y_train, x_test, y_test):\n",
    "    if len(x_test[y_test == 0]) / (len(x_test)*1.) > 0.5:\n",
    "        null_accuracy = len(x_test[y_test == 0]) / (len(x_test)*1.)\n",
    "    else:\n",
    "        null_accuracy = 1. - (len(x_test[y_test == 0]) / (len(x_test)*1.))\n",
    "    t0 = time()\n",
    "    sentiment_fit = pipeline.fit(x_train, y_train)\n",
    "    y_pred = sentiment_fit.predict(x_test)\n",
    "    train_test_time = time() - t0\n",
    "    accuracy = accuracy_score(y_test, y_pred)\n",
    "    print(\"null accuracy: {0:.2f}%\".format(null_accuracy*100))\n",
    "    print(\"accuracy score: {0:.2f}%\".format(accuracy*100))\n",
    "    if accuracy > null_accuracy:\n",
    "        print(\"model is {0:.2f}% more accurate than null accuracy\".format((accuracy-null_accuracy)*100))\n",
    "    elif accuracy == null_accuracy:\n",
    "        print(\"model has the same accuracy with the null accuracy\")\n",
    "    else:\n",
    "        print(\"model is {0:.2f}% less accurate than null accuracy\".format((null_accuracy-accuracy)*100))\n",
    "    print(\"train and test time: {0:.2f}s\".format(train_test_time))\n",
    "    print(\"-\"*80)\n",
    "    return accuracy, train_test_time"
   ]
  },
  {
   "cell_type": "code",
   "execution_count": 37,
   "metadata": {},
   "outputs": [],
   "source": [
    "cvec = CountVectorizer()\n",
    "lr = LogisticRegression()\n",
    "n_features = np.arange(10000,100001,10000)\n",
    "\n",
    "def nfeature_accuracy_checker(vectorizer=cvec, n_features=n_features, stop_words=None, ngram_range=(1, 1), classifier=lr):\n",
    "    result = []\n",
    "    print (classifier)\n",
    "    print(\"\\n\")\n",
    "    for n in n_features:\n",
    "        vectorizer.set_params(stop_words=stop_words, max_features=n, ngram_range=ngram_range)\n",
    "        checker_pipeline = Pipeline([\n",
    "            ('vectorizer', vectorizer),\n",
    "            ('classifier', classifier)\n",
    "        ])\n",
    "        print(\"Validation result for {} features\".format(n))\n",
    "        nfeature_accuracy,tt_time = accuracy_summary(checker_pipeline, x_train['essay'], y_train, x_validation['essay'], y_validation)\n",
    "        result.append((n,nfeature_accuracy,tt_time))\n",
    "    return result"
   ]
  },
  {
   "cell_type": "code",
   "execution_count": 45,
   "metadata": {},
   "outputs": [
    {
     "name": "stdout",
     "output_type": "stream",
     "text": [
      "LogisticRegression(C=1.0, class_weight=None, dual=False, fit_intercept=True,\n",
      "                   intercept_scaling=1, l1_ratio=None, max_iter=100,\n",
      "                   multi_class='warn', n_jobs=None, penalty='l2',\n",
      "                   random_state=None, solver='warn', tol=0.0001, verbose=0,\n",
      "                   warm_start=False)\n",
      "\n",
      "\n",
      "Validation result for 10000 features\n"
     ]
    },
    {
     "name": "stderr",
     "output_type": "stream",
     "text": [
      "C:\\Users\\liewm\\Anaconda3\\lib\\site-packages\\sklearn\\linear_model\\logistic.py:432: FutureWarning: Default solver will be changed to 'lbfgs' in 0.22. Specify a solver to silence this warning.\n",
      "  FutureWarning)\n"
     ]
    },
    {
     "name": "stdout",
     "output_type": "stream",
     "text": [
      "null accuracy: 90.74%\n",
      "accuracy score: 90.72%\n",
      "model is 0.03% less accurate than null accuracy\n",
      "train and test time: 23.61s\n",
      "--------------------------------------------------------------------------------\n",
      "Validation result for 20000 features\n"
     ]
    },
    {
     "name": "stderr",
     "output_type": "stream",
     "text": [
      "C:\\Users\\liewm\\Anaconda3\\lib\\site-packages\\sklearn\\linear_model\\logistic.py:432: FutureWarning: Default solver will be changed to 'lbfgs' in 0.22. Specify a solver to silence this warning.\n",
      "  FutureWarning)\n"
     ]
    },
    {
     "name": "stdout",
     "output_type": "stream",
     "text": [
      "null accuracy: 90.74%\n",
      "accuracy score: 90.71%\n",
      "model is 0.03% less accurate than null accuracy\n",
      "train and test time: 23.95s\n",
      "--------------------------------------------------------------------------------\n",
      "Validation result for 30000 features\n"
     ]
    },
    {
     "name": "stderr",
     "output_type": "stream",
     "text": [
      "C:\\Users\\liewm\\Anaconda3\\lib\\site-packages\\sklearn\\linear_model\\logistic.py:432: FutureWarning: Default solver will be changed to 'lbfgs' in 0.22. Specify a solver to silence this warning.\n",
      "  FutureWarning)\n"
     ]
    },
    {
     "name": "stdout",
     "output_type": "stream",
     "text": [
      "null accuracy: 90.74%\n",
      "accuracy score: 90.70%\n",
      "model is 0.04% less accurate than null accuracy\n",
      "train and test time: 23.87s\n",
      "--------------------------------------------------------------------------------\n",
      "Validation result for 40000 features\n"
     ]
    },
    {
     "name": "stderr",
     "output_type": "stream",
     "text": [
      "C:\\Users\\liewm\\Anaconda3\\lib\\site-packages\\sklearn\\linear_model\\logistic.py:432: FutureWarning: Default solver will be changed to 'lbfgs' in 0.22. Specify a solver to silence this warning.\n",
      "  FutureWarning)\n"
     ]
    },
    {
     "name": "stdout",
     "output_type": "stream",
     "text": [
      "null accuracy: 90.74%\n",
      "accuracy score: 90.70%\n",
      "model is 0.05% less accurate than null accuracy\n",
      "train and test time: 25.04s\n",
      "--------------------------------------------------------------------------------\n",
      "Validation result for 50000 features\n"
     ]
    },
    {
     "name": "stderr",
     "output_type": "stream",
     "text": [
      "C:\\Users\\liewm\\Anaconda3\\lib\\site-packages\\sklearn\\linear_model\\logistic.py:432: FutureWarning: Default solver will be changed to 'lbfgs' in 0.22. Specify a solver to silence this warning.\n",
      "  FutureWarning)\n"
     ]
    },
    {
     "name": "stdout",
     "output_type": "stream",
     "text": [
      "null accuracy: 90.74%\n",
      "accuracy score: 90.70%\n",
      "model is 0.05% less accurate than null accuracy\n",
      "train and test time: 23.68s\n",
      "--------------------------------------------------------------------------------\n",
      "Validation result for 60000 features\n"
     ]
    },
    {
     "name": "stderr",
     "output_type": "stream",
     "text": [
      "C:\\Users\\liewm\\Anaconda3\\lib\\site-packages\\sklearn\\linear_model\\logistic.py:432: FutureWarning: Default solver will be changed to 'lbfgs' in 0.22. Specify a solver to silence this warning.\n",
      "  FutureWarning)\n"
     ]
    },
    {
     "name": "stdout",
     "output_type": "stream",
     "text": [
      "null accuracy: 90.74%\n",
      "accuracy score: 90.70%\n",
      "model is 0.04% less accurate than null accuracy\n",
      "train and test time: 23.74s\n",
      "--------------------------------------------------------------------------------\n",
      "Validation result for 70000 features\n"
     ]
    },
    {
     "name": "stderr",
     "output_type": "stream",
     "text": [
      "C:\\Users\\liewm\\Anaconda3\\lib\\site-packages\\sklearn\\linear_model\\logistic.py:432: FutureWarning: Default solver will be changed to 'lbfgs' in 0.22. Specify a solver to silence this warning.\n",
      "  FutureWarning)\n"
     ]
    },
    {
     "name": "stdout",
     "output_type": "stream",
     "text": [
      "null accuracy: 90.74%\n",
      "accuracy score: 90.70%\n",
      "model is 0.05% less accurate than null accuracy\n",
      "train and test time: 23.90s\n",
      "--------------------------------------------------------------------------------\n",
      "Validation result for 80000 features\n"
     ]
    },
    {
     "name": "stderr",
     "output_type": "stream",
     "text": [
      "C:\\Users\\liewm\\Anaconda3\\lib\\site-packages\\sklearn\\linear_model\\logistic.py:432: FutureWarning: Default solver will be changed to 'lbfgs' in 0.22. Specify a solver to silence this warning.\n",
      "  FutureWarning)\n"
     ]
    },
    {
     "name": "stdout",
     "output_type": "stream",
     "text": [
      "null accuracy: 90.74%\n",
      "accuracy score: 90.70%\n",
      "model is 0.05% less accurate than null accuracy\n",
      "train and test time: 23.77s\n",
      "--------------------------------------------------------------------------------\n",
      "Validation result for 90000 features\n"
     ]
    },
    {
     "name": "stderr",
     "output_type": "stream",
     "text": [
      "C:\\Users\\liewm\\Anaconda3\\lib\\site-packages\\sklearn\\linear_model\\logistic.py:432: FutureWarning: Default solver will be changed to 'lbfgs' in 0.22. Specify a solver to silence this warning.\n",
      "  FutureWarning)\n"
     ]
    },
    {
     "name": "stdout",
     "output_type": "stream",
     "text": [
      "null accuracy: 90.74%\n",
      "accuracy score: 90.70%\n",
      "model is 0.05% less accurate than null accuracy\n",
      "train and test time: 24.47s\n",
      "--------------------------------------------------------------------------------\n",
      "Validation result for 100000 features\n"
     ]
    },
    {
     "name": "stderr",
     "output_type": "stream",
     "text": [
      "C:\\Users\\liewm\\Anaconda3\\lib\\site-packages\\sklearn\\linear_model\\logistic.py:432: FutureWarning: Default solver will be changed to 'lbfgs' in 0.22. Specify a solver to silence this warning.\n",
      "  FutureWarning)\n"
     ]
    },
    {
     "name": "stdout",
     "output_type": "stream",
     "text": [
      "null accuracy: 90.74%\n",
      "accuracy score: 90.70%\n",
      "model is 0.05% less accurate than null accuracy\n",
      "train and test time: 24.12s\n",
      "--------------------------------------------------------------------------------\n",
      "LogisticRegression(C=1.0, class_weight=None, dual=False, fit_intercept=True,\n",
      "                   intercept_scaling=1, l1_ratio=None, max_iter=100,\n",
      "                   multi_class='warn', n_jobs=None, penalty='l2',\n",
      "                   random_state=None, solver='warn', tol=0.0001, verbose=0,\n",
      "                   warm_start=False)\n",
      "\n",
      "\n",
      "Validation result for 10000 features\n"
     ]
    },
    {
     "name": "stderr",
     "output_type": "stream",
     "text": [
      "C:\\Users\\liewm\\Anaconda3\\lib\\site-packages\\sklearn\\linear_model\\logistic.py:432: FutureWarning: Default solver will be changed to 'lbfgs' in 0.22. Specify a solver to silence this warning.\n",
      "  FutureWarning)\n"
     ]
    },
    {
     "name": "stdout",
     "output_type": "stream",
     "text": [
      "null accuracy: 90.74%\n",
      "accuracy score: 90.75%\n",
      "model is 0.01% more accurate than null accuracy\n",
      "train and test time: 58.51s\n",
      "--------------------------------------------------------------------------------\n",
      "Validation result for 20000 features\n"
     ]
    },
    {
     "name": "stderr",
     "output_type": "stream",
     "text": [
      "C:\\Users\\liewm\\Anaconda3\\lib\\site-packages\\sklearn\\linear_model\\logistic.py:432: FutureWarning: Default solver will be changed to 'lbfgs' in 0.22. Specify a solver to silence this warning.\n",
      "  FutureWarning)\n"
     ]
    },
    {
     "name": "stdout",
     "output_type": "stream",
     "text": [
      "null accuracy: 90.74%\n",
      "accuracy score: 90.72%\n",
      "model is 0.02% less accurate than null accuracy\n",
      "train and test time: 58.91s\n",
      "--------------------------------------------------------------------------------\n",
      "Validation result for 30000 features\n"
     ]
    },
    {
     "name": "stderr",
     "output_type": "stream",
     "text": [
      "C:\\Users\\liewm\\Anaconda3\\lib\\site-packages\\sklearn\\linear_model\\logistic.py:432: FutureWarning: Default solver will be changed to 'lbfgs' in 0.22. Specify a solver to silence this warning.\n",
      "  FutureWarning)\n"
     ]
    },
    {
     "name": "stdout",
     "output_type": "stream",
     "text": [
      "null accuracy: 90.74%\n",
      "accuracy score: 90.74%\n",
      "model is 0.01% less accurate than null accuracy\n",
      "train and test time: 60.39s\n",
      "--------------------------------------------------------------------------------\n",
      "Validation result for 40000 features\n"
     ]
    },
    {
     "name": "stderr",
     "output_type": "stream",
     "text": [
      "C:\\Users\\liewm\\Anaconda3\\lib\\site-packages\\sklearn\\linear_model\\logistic.py:432: FutureWarning: Default solver will be changed to 'lbfgs' in 0.22. Specify a solver to silence this warning.\n",
      "  FutureWarning)\n"
     ]
    },
    {
     "name": "stdout",
     "output_type": "stream",
     "text": [
      "null accuracy: 90.74%\n",
      "accuracy score: 90.74%\n",
      "model is 0.01% less accurate than null accuracy\n",
      "train and test time: 60.95s\n",
      "--------------------------------------------------------------------------------\n",
      "Validation result for 50000 features\n"
     ]
    },
    {
     "name": "stderr",
     "output_type": "stream",
     "text": [
      "C:\\Users\\liewm\\Anaconda3\\lib\\site-packages\\sklearn\\linear_model\\logistic.py:432: FutureWarning: Default solver will be changed to 'lbfgs' in 0.22. Specify a solver to silence this warning.\n",
      "  FutureWarning)\n"
     ]
    },
    {
     "name": "stdout",
     "output_type": "stream",
     "text": [
      "null accuracy: 90.74%\n",
      "accuracy score: 90.72%\n",
      "model is 0.02% less accurate than null accuracy\n",
      "train and test time: 62.40s\n",
      "--------------------------------------------------------------------------------\n",
      "Validation result for 60000 features\n"
     ]
    },
    {
     "name": "stderr",
     "output_type": "stream",
     "text": [
      "C:\\Users\\liewm\\Anaconda3\\lib\\site-packages\\sklearn\\linear_model\\logistic.py:432: FutureWarning: Default solver will be changed to 'lbfgs' in 0.22. Specify a solver to silence this warning.\n",
      "  FutureWarning)\n"
     ]
    },
    {
     "name": "stdout",
     "output_type": "stream",
     "text": [
      "null accuracy: 90.74%\n",
      "accuracy score: 90.72%\n",
      "model is 0.03% less accurate than null accuracy\n",
      "train and test time: 61.57s\n",
      "--------------------------------------------------------------------------------\n",
      "Validation result for 70000 features\n"
     ]
    },
    {
     "name": "stderr",
     "output_type": "stream",
     "text": [
      "C:\\Users\\liewm\\Anaconda3\\lib\\site-packages\\sklearn\\linear_model\\logistic.py:432: FutureWarning: Default solver will be changed to 'lbfgs' in 0.22. Specify a solver to silence this warning.\n",
      "  FutureWarning)\n"
     ]
    },
    {
     "name": "stdout",
     "output_type": "stream",
     "text": [
      "null accuracy: 90.74%\n",
      "accuracy score: 90.72%\n",
      "model is 0.03% less accurate than null accuracy\n",
      "train and test time: 60.23s\n",
      "--------------------------------------------------------------------------------\n",
      "Validation result for 80000 features\n"
     ]
    },
    {
     "name": "stderr",
     "output_type": "stream",
     "text": [
      "C:\\Users\\liewm\\Anaconda3\\lib\\site-packages\\sklearn\\linear_model\\logistic.py:432: FutureWarning: Default solver will be changed to 'lbfgs' in 0.22. Specify a solver to silence this warning.\n",
      "  FutureWarning)\n"
     ]
    },
    {
     "name": "stdout",
     "output_type": "stream",
     "text": [
      "null accuracy: 90.74%\n",
      "accuracy score: 90.72%\n",
      "model is 0.03% less accurate than null accuracy\n",
      "train and test time: 60.78s\n",
      "--------------------------------------------------------------------------------\n",
      "Validation result for 90000 features\n"
     ]
    },
    {
     "name": "stderr",
     "output_type": "stream",
     "text": [
      "C:\\Users\\liewm\\Anaconda3\\lib\\site-packages\\sklearn\\linear_model\\logistic.py:432: FutureWarning: Default solver will be changed to 'lbfgs' in 0.22. Specify a solver to silence this warning.\n",
      "  FutureWarning)\n"
     ]
    },
    {
     "name": "stdout",
     "output_type": "stream",
     "text": [
      "null accuracy: 90.74%\n",
      "accuracy score: 90.72%\n",
      "model is 0.03% less accurate than null accuracy\n",
      "train and test time: 62.56s\n",
      "--------------------------------------------------------------------------------\n",
      "Validation result for 100000 features\n"
     ]
    },
    {
     "name": "stderr",
     "output_type": "stream",
     "text": [
      "C:\\Users\\liewm\\Anaconda3\\lib\\site-packages\\sklearn\\linear_model\\logistic.py:432: FutureWarning: Default solver will be changed to 'lbfgs' in 0.22. Specify a solver to silence this warning.\n",
      "  FutureWarning)\n"
     ]
    },
    {
     "name": "stdout",
     "output_type": "stream",
     "text": [
      "null accuracy: 90.74%\n",
      "accuracy score: 90.72%\n",
      "model is 0.02% less accurate than null accuracy\n",
      "train and test time: 64.72s\n",
      "--------------------------------------------------------------------------------\n",
      "LogisticRegression(C=1.0, class_weight=None, dual=False, fit_intercept=True,\n",
      "                   intercept_scaling=1, l1_ratio=None, max_iter=100,\n",
      "                   multi_class='warn', n_jobs=None, penalty='l2',\n",
      "                   random_state=None, solver='warn', tol=0.0001, verbose=0,\n",
      "                   warm_start=False)\n",
      "\n",
      "\n",
      "Validation result for 10000 features\n"
     ]
    },
    {
     "name": "stderr",
     "output_type": "stream",
     "text": [
      "C:\\Users\\liewm\\Anaconda3\\lib\\site-packages\\sklearn\\linear_model\\logistic.py:432: FutureWarning: Default solver will be changed to 'lbfgs' in 0.22. Specify a solver to silence this warning.\n",
      "  FutureWarning)\n"
     ]
    },
    {
     "name": "stdout",
     "output_type": "stream",
     "text": [
      "null accuracy: 90.74%\n",
      "accuracy score: 90.74%\n",
      "model has the same accuracy with the null accuracy\n",
      "train and test time: 132.32s\n",
      "--------------------------------------------------------------------------------\n",
      "Validation result for 20000 features\n"
     ]
    },
    {
     "name": "stderr",
     "output_type": "stream",
     "text": [
      "C:\\Users\\liewm\\Anaconda3\\lib\\site-packages\\sklearn\\linear_model\\logistic.py:432: FutureWarning: Default solver will be changed to 'lbfgs' in 0.22. Specify a solver to silence this warning.\n",
      "  FutureWarning)\n"
     ]
    },
    {
     "name": "stdout",
     "output_type": "stream",
     "text": [
      "null accuracy: 90.74%\n",
      "accuracy score: 90.73%\n",
      "model is 0.01% less accurate than null accuracy\n",
      "train and test time: 141.77s\n",
      "--------------------------------------------------------------------------------\n",
      "Validation result for 30000 features\n"
     ]
    },
    {
     "name": "stderr",
     "output_type": "stream",
     "text": [
      "C:\\Users\\liewm\\Anaconda3\\lib\\site-packages\\sklearn\\linear_model\\logistic.py:432: FutureWarning: Default solver will be changed to 'lbfgs' in 0.22. Specify a solver to silence this warning.\n",
      "  FutureWarning)\n"
     ]
    },
    {
     "name": "stdout",
     "output_type": "stream",
     "text": [
      "null accuracy: 90.74%\n",
      "accuracy score: 90.72%\n",
      "model is 0.03% less accurate than null accuracy\n",
      "train and test time: 132.85s\n",
      "--------------------------------------------------------------------------------\n",
      "Validation result for 40000 features\n"
     ]
    },
    {
     "name": "stderr",
     "output_type": "stream",
     "text": [
      "C:\\Users\\liewm\\Anaconda3\\lib\\site-packages\\sklearn\\linear_model\\logistic.py:432: FutureWarning: Default solver will be changed to 'lbfgs' in 0.22. Specify a solver to silence this warning.\n",
      "  FutureWarning)\n"
     ]
    },
    {
     "name": "stdout",
     "output_type": "stream",
     "text": [
      "null accuracy: 90.74%\n",
      "accuracy score: 90.73%\n",
      "model is 0.01% less accurate than null accuracy\n",
      "train and test time: 132.90s\n",
      "--------------------------------------------------------------------------------\n",
      "Validation result for 50000 features\n"
     ]
    },
    {
     "name": "stderr",
     "output_type": "stream",
     "text": [
      "C:\\Users\\liewm\\Anaconda3\\lib\\site-packages\\sklearn\\linear_model\\logistic.py:432: FutureWarning: Default solver will be changed to 'lbfgs' in 0.22. Specify a solver to silence this warning.\n",
      "  FutureWarning)\n"
     ]
    },
    {
     "name": "stdout",
     "output_type": "stream",
     "text": [
      "null accuracy: 90.74%\n",
      "accuracy score: 90.72%\n",
      "model is 0.03% less accurate than null accuracy\n",
      "train and test time: 132.53s\n",
      "--------------------------------------------------------------------------------\n",
      "Validation result for 60000 features\n"
     ]
    },
    {
     "name": "stderr",
     "output_type": "stream",
     "text": [
      "C:\\Users\\liewm\\Anaconda3\\lib\\site-packages\\sklearn\\linear_model\\logistic.py:432: FutureWarning: Default solver will be changed to 'lbfgs' in 0.22. Specify a solver to silence this warning.\n",
      "  FutureWarning)\n"
     ]
    },
    {
     "name": "stdout",
     "output_type": "stream",
     "text": [
      "null accuracy: 90.74%\n",
      "accuracy score: 90.72%\n",
      "model is 0.02% less accurate than null accuracy\n",
      "train and test time: 132.71s\n",
      "--------------------------------------------------------------------------------\n",
      "Validation result for 70000 features\n"
     ]
    },
    {
     "name": "stderr",
     "output_type": "stream",
     "text": [
      "C:\\Users\\liewm\\Anaconda3\\lib\\site-packages\\sklearn\\linear_model\\logistic.py:432: FutureWarning: Default solver will be changed to 'lbfgs' in 0.22. Specify a solver to silence this warning.\n",
      "  FutureWarning)\n"
     ]
    },
    {
     "name": "stdout",
     "output_type": "stream",
     "text": [
      "null accuracy: 90.74%\n",
      "accuracy score: 90.72%\n",
      "model is 0.02% less accurate than null accuracy\n",
      "train and test time: 132.12s\n",
      "--------------------------------------------------------------------------------\n",
      "Validation result for 80000 features\n"
     ]
    },
    {
     "name": "stderr",
     "output_type": "stream",
     "text": [
      "C:\\Users\\liewm\\Anaconda3\\lib\\site-packages\\sklearn\\linear_model\\logistic.py:432: FutureWarning: Default solver will be changed to 'lbfgs' in 0.22. Specify a solver to silence this warning.\n",
      "  FutureWarning)\n"
     ]
    },
    {
     "name": "stdout",
     "output_type": "stream",
     "text": [
      "null accuracy: 90.74%\n",
      "accuracy score: 90.72%\n",
      "model is 0.02% less accurate than null accuracy\n",
      "train and test time: 131.25s\n",
      "--------------------------------------------------------------------------------\n",
      "Validation result for 90000 features\n"
     ]
    },
    {
     "name": "stderr",
     "output_type": "stream",
     "text": [
      "C:\\Users\\liewm\\Anaconda3\\lib\\site-packages\\sklearn\\linear_model\\logistic.py:432: FutureWarning: Default solver will be changed to 'lbfgs' in 0.22. Specify a solver to silence this warning.\n",
      "  FutureWarning)\n"
     ]
    },
    {
     "name": "stdout",
     "output_type": "stream",
     "text": [
      "null accuracy: 90.74%\n",
      "accuracy score: 90.72%\n",
      "model is 0.02% less accurate than null accuracy\n",
      "train and test time: 136.75s\n",
      "--------------------------------------------------------------------------------\n",
      "Validation result for 100000 features\n"
     ]
    },
    {
     "name": "stderr",
     "output_type": "stream",
     "text": [
      "C:\\Users\\liewm\\Anaconda3\\lib\\site-packages\\sklearn\\linear_model\\logistic.py:432: FutureWarning: Default solver will be changed to 'lbfgs' in 0.22. Specify a solver to silence this warning.\n",
      "  FutureWarning)\n"
     ]
    },
    {
     "name": "stdout",
     "output_type": "stream",
     "text": [
      "null accuracy: 90.74%\n",
      "accuracy score: 90.72%\n",
      "model is 0.03% less accurate than null accuracy\n",
      "train and test time: 154.13s\n",
      "--------------------------------------------------------------------------------\n"
     ]
    }
   ],
   "source": [
    "from sklearn.feature_extraction.text import TfidfVectorizer\n",
    "tvec = TfidfVectorizer()\n",
    "feature_result_ugt = nfeature_accuracy_checker(vectorizer=tvec) #Unigram\n",
    "feature_result_bgt = nfeature_accuracy_checker(vectorizer=tvec,ngram_range=(1, 2)) #Bigram\n",
    "feature_result_tgt = nfeature_accuracy_checker(vectorizer=tvec,ngram_range=(1, 3)) #Trigram "
   ]
  },
  {
   "cell_type": "code",
   "execution_count": 47,
   "metadata": {},
   "outputs": [
    {
     "name": "stdout",
     "output_type": "stream",
     "text": [
      "LogisticRegression(C=1.0, class_weight=None, dual=False, fit_intercept=True,\n",
      "                   intercept_scaling=1, l1_ratio=None, max_iter=100,\n",
      "                   multi_class='warn', n_jobs=None, penalty='l2',\n",
      "                   random_state=None, solver='warn', tol=0.0001, verbose=0,\n",
      "                   warm_start=False)\n",
      "\n",
      "\n",
      "Validation result for 10000 features\n"
     ]
    },
    {
     "name": "stderr",
     "output_type": "stream",
     "text": [
      "C:\\Users\\liewm\\Anaconda3\\lib\\site-packages\\sklearn\\linear_model\\logistic.py:432: FutureWarning: Default solver will be changed to 'lbfgs' in 0.22. Specify a solver to silence this warning.\n",
      "  FutureWarning)\n"
     ]
    },
    {
     "name": "stdout",
     "output_type": "stream",
     "text": [
      "null accuracy: 90.74%\n",
      "accuracy score: 89.25%\n",
      "model is 1.50% less accurate than null accuracy\n",
      "train and test time: 80.57s\n",
      "--------------------------------------------------------------------------------\n",
      "Validation result for 20000 features\n"
     ]
    },
    {
     "name": "stderr",
     "output_type": "stream",
     "text": [
      "C:\\Users\\liewm\\Anaconda3\\lib\\site-packages\\sklearn\\linear_model\\logistic.py:432: FutureWarning: Default solver will be changed to 'lbfgs' in 0.22. Specify a solver to silence this warning.\n",
      "  FutureWarning)\n",
      "C:\\Users\\liewm\\Anaconda3\\lib\\site-packages\\sklearn\\svm\\base.py:929: ConvergenceWarning: Liblinear failed to converge, increase the number of iterations.\n",
      "  \"the number of iterations.\", ConvergenceWarning)\n"
     ]
    },
    {
     "name": "stdout",
     "output_type": "stream",
     "text": [
      "null accuracy: 90.74%\n",
      "accuracy score: 89.09%\n",
      "model is 1.65% less accurate than null accuracy\n",
      "train and test time: 117.55s\n",
      "--------------------------------------------------------------------------------\n",
      "Validation result for 30000 features\n"
     ]
    },
    {
     "name": "stderr",
     "output_type": "stream",
     "text": [
      "C:\\Users\\liewm\\Anaconda3\\lib\\site-packages\\sklearn\\linear_model\\logistic.py:432: FutureWarning: Default solver will be changed to 'lbfgs' in 0.22. Specify a solver to silence this warning.\n",
      "  FutureWarning)\n",
      "C:\\Users\\liewm\\Anaconda3\\lib\\site-packages\\sklearn\\svm\\base.py:929: ConvergenceWarning: Liblinear failed to converge, increase the number of iterations.\n",
      "  \"the number of iterations.\", ConvergenceWarning)\n"
     ]
    },
    {
     "name": "stdout",
     "output_type": "stream",
     "text": [
      "null accuracy: 90.74%\n",
      "accuracy score: 89.14%\n",
      "model is 1.61% less accurate than null accuracy\n",
      "train and test time: 119.97s\n",
      "--------------------------------------------------------------------------------\n",
      "Validation result for 40000 features\n"
     ]
    },
    {
     "name": "stderr",
     "output_type": "stream",
     "text": [
      "C:\\Users\\liewm\\Anaconda3\\lib\\site-packages\\sklearn\\linear_model\\logistic.py:432: FutureWarning: Default solver will be changed to 'lbfgs' in 0.22. Specify a solver to silence this warning.\n",
      "  FutureWarning)\n",
      "C:\\Users\\liewm\\Anaconda3\\lib\\site-packages\\sklearn\\svm\\base.py:929: ConvergenceWarning: Liblinear failed to converge, increase the number of iterations.\n",
      "  \"the number of iterations.\", ConvergenceWarning)\n"
     ]
    },
    {
     "name": "stdout",
     "output_type": "stream",
     "text": [
      "null accuracy: 90.74%\n",
      "accuracy score: 89.16%\n",
      "model is 1.59% less accurate than null accuracy\n",
      "train and test time: 128.07s\n",
      "--------------------------------------------------------------------------------\n",
      "Validation result for 50000 features\n"
     ]
    },
    {
     "name": "stderr",
     "output_type": "stream",
     "text": [
      "C:\\Users\\liewm\\Anaconda3\\lib\\site-packages\\sklearn\\linear_model\\logistic.py:432: FutureWarning: Default solver will be changed to 'lbfgs' in 0.22. Specify a solver to silence this warning.\n",
      "  FutureWarning)\n",
      "C:\\Users\\liewm\\Anaconda3\\lib\\site-packages\\sklearn\\svm\\base.py:929: ConvergenceWarning: Liblinear failed to converge, increase the number of iterations.\n",
      "  \"the number of iterations.\", ConvergenceWarning)\n"
     ]
    },
    {
     "name": "stdout",
     "output_type": "stream",
     "text": [
      "null accuracy: 90.74%\n",
      "accuracy score: 89.21%\n",
      "model is 1.53% less accurate than null accuracy\n",
      "train and test time: 117.64s\n",
      "--------------------------------------------------------------------------------\n",
      "Validation result for 60000 features\n"
     ]
    },
    {
     "name": "stderr",
     "output_type": "stream",
     "text": [
      "C:\\Users\\liewm\\Anaconda3\\lib\\site-packages\\sklearn\\linear_model\\logistic.py:432: FutureWarning: Default solver will be changed to 'lbfgs' in 0.22. Specify a solver to silence this warning.\n",
      "  FutureWarning)\n",
      "C:\\Users\\liewm\\Anaconda3\\lib\\site-packages\\sklearn\\svm\\base.py:929: ConvergenceWarning: Liblinear failed to converge, increase the number of iterations.\n",
      "  \"the number of iterations.\", ConvergenceWarning)\n"
     ]
    },
    {
     "name": "stdout",
     "output_type": "stream",
     "text": [
      "null accuracy: 90.74%\n",
      "accuracy score: 89.21%\n",
      "model is 1.53% less accurate than null accuracy\n",
      "train and test time: 119.80s\n",
      "--------------------------------------------------------------------------------\n",
      "Validation result for 70000 features\n"
     ]
    },
    {
     "name": "stderr",
     "output_type": "stream",
     "text": [
      "C:\\Users\\liewm\\Anaconda3\\lib\\site-packages\\sklearn\\linear_model\\logistic.py:432: FutureWarning: Default solver will be changed to 'lbfgs' in 0.22. Specify a solver to silence this warning.\n",
      "  FutureWarning)\n",
      "C:\\Users\\liewm\\Anaconda3\\lib\\site-packages\\sklearn\\svm\\base.py:929: ConvergenceWarning: Liblinear failed to converge, increase the number of iterations.\n",
      "  \"the number of iterations.\", ConvergenceWarning)\n"
     ]
    },
    {
     "name": "stdout",
     "output_type": "stream",
     "text": [
      "null accuracy: 90.74%\n",
      "accuracy score: 89.27%\n",
      "model is 1.48% less accurate than null accuracy\n",
      "train and test time: 118.99s\n",
      "--------------------------------------------------------------------------------\n",
      "Validation result for 80000 features\n"
     ]
    },
    {
     "name": "stderr",
     "output_type": "stream",
     "text": [
      "C:\\Users\\liewm\\Anaconda3\\lib\\site-packages\\sklearn\\linear_model\\logistic.py:432: FutureWarning: Default solver will be changed to 'lbfgs' in 0.22. Specify a solver to silence this warning.\n",
      "  FutureWarning)\n",
      "C:\\Users\\liewm\\Anaconda3\\lib\\site-packages\\sklearn\\svm\\base.py:929: ConvergenceWarning: Liblinear failed to converge, increase the number of iterations.\n",
      "  \"the number of iterations.\", ConvergenceWarning)\n"
     ]
    },
    {
     "name": "stdout",
     "output_type": "stream",
     "text": [
      "null accuracy: 90.74%\n",
      "accuracy score: 89.27%\n",
      "model is 1.48% less accurate than null accuracy\n",
      "train and test time: 120.67s\n",
      "--------------------------------------------------------------------------------\n",
      "Validation result for 90000 features\n"
     ]
    },
    {
     "name": "stderr",
     "output_type": "stream",
     "text": [
      "C:\\Users\\liewm\\Anaconda3\\lib\\site-packages\\sklearn\\linear_model\\logistic.py:432: FutureWarning: Default solver will be changed to 'lbfgs' in 0.22. Specify a solver to silence this warning.\n",
      "  FutureWarning)\n",
      "C:\\Users\\liewm\\Anaconda3\\lib\\site-packages\\sklearn\\svm\\base.py:929: ConvergenceWarning: Liblinear failed to converge, increase the number of iterations.\n",
      "  \"the number of iterations.\", ConvergenceWarning)\n"
     ]
    },
    {
     "name": "stdout",
     "output_type": "stream",
     "text": [
      "null accuracy: 90.74%\n",
      "accuracy score: 89.27%\n",
      "model is 1.48% less accurate than null accuracy\n",
      "train and test time: 120.88s\n",
      "--------------------------------------------------------------------------------\n",
      "Validation result for 100000 features\n"
     ]
    },
    {
     "name": "stderr",
     "output_type": "stream",
     "text": [
      "C:\\Users\\liewm\\Anaconda3\\lib\\site-packages\\sklearn\\linear_model\\logistic.py:432: FutureWarning: Default solver will be changed to 'lbfgs' in 0.22. Specify a solver to silence this warning.\n",
      "  FutureWarning)\n",
      "C:\\Users\\liewm\\Anaconda3\\lib\\site-packages\\sklearn\\svm\\base.py:929: ConvergenceWarning: Liblinear failed to converge, increase the number of iterations.\n",
      "  \"the number of iterations.\", ConvergenceWarning)\n"
     ]
    },
    {
     "name": "stdout",
     "output_type": "stream",
     "text": [
      "null accuracy: 90.74%\n",
      "accuracy score: 89.27%\n",
      "model is 1.48% less accurate than null accuracy\n",
      "train and test time: 120.77s\n",
      "--------------------------------------------------------------------------------\n",
      "LogisticRegression(C=1.0, class_weight=None, dual=False, fit_intercept=True,\n",
      "                   intercept_scaling=1, l1_ratio=None, max_iter=100,\n",
      "                   multi_class='warn', n_jobs=None, penalty='l2',\n",
      "                   random_state=None, solver='warn', tol=0.0001, verbose=0,\n",
      "                   warm_start=False)\n",
      "\n",
      "\n",
      "Validation result for 10000 features\n"
     ]
    },
    {
     "name": "stderr",
     "output_type": "stream",
     "text": [
      "C:\\Users\\liewm\\Anaconda3\\lib\\site-packages\\sklearn\\linear_model\\logistic.py:432: FutureWarning: Default solver will be changed to 'lbfgs' in 0.22. Specify a solver to silence this warning.\n",
      "  FutureWarning)\n"
     ]
    },
    {
     "name": "stdout",
     "output_type": "stream",
     "text": [
      "null accuracy: 90.74%\n",
      "accuracy score: 88.03%\n",
      "model is 2.71% less accurate than null accuracy\n",
      "train and test time: 92.69s\n",
      "--------------------------------------------------------------------------------\n",
      "Validation result for 20000 features\n"
     ]
    },
    {
     "name": "stderr",
     "output_type": "stream",
     "text": [
      "C:\\Users\\liewm\\Anaconda3\\lib\\site-packages\\sklearn\\linear_model\\logistic.py:432: FutureWarning: Default solver will be changed to 'lbfgs' in 0.22. Specify a solver to silence this warning.\n",
      "  FutureWarning)\n"
     ]
    },
    {
     "name": "stdout",
     "output_type": "stream",
     "text": [
      "null accuracy: 90.74%\n",
      "accuracy score: 85.97%\n",
      "model is 4.78% less accurate than null accuracy\n",
      "train and test time: 126.45s\n",
      "--------------------------------------------------------------------------------\n",
      "Validation result for 30000 features\n"
     ]
    },
    {
     "name": "stderr",
     "output_type": "stream",
     "text": [
      "C:\\Users\\liewm\\Anaconda3\\lib\\site-packages\\sklearn\\linear_model\\logistic.py:432: FutureWarning: Default solver will be changed to 'lbfgs' in 0.22. Specify a solver to silence this warning.\n",
      "  FutureWarning)\n"
     ]
    },
    {
     "name": "stdout",
     "output_type": "stream",
     "text": [
      "null accuracy: 90.74%\n",
      "accuracy score: 86.29%\n",
      "model is 4.46% less accurate than null accuracy\n",
      "train and test time: 136.32s\n",
      "--------------------------------------------------------------------------------\n",
      "Validation result for 40000 features\n"
     ]
    },
    {
     "name": "stderr",
     "output_type": "stream",
     "text": [
      "C:\\Users\\liewm\\Anaconda3\\lib\\site-packages\\sklearn\\linear_model\\logistic.py:432: FutureWarning: Default solver will be changed to 'lbfgs' in 0.22. Specify a solver to silence this warning.\n",
      "  FutureWarning)\n"
     ]
    },
    {
     "name": "stdout",
     "output_type": "stream",
     "text": [
      "null accuracy: 90.74%\n",
      "accuracy score: 86.91%\n",
      "model is 3.83% less accurate than null accuracy\n",
      "train and test time: 144.63s\n",
      "--------------------------------------------------------------------------------\n",
      "Validation result for 50000 features\n"
     ]
    },
    {
     "name": "stderr",
     "output_type": "stream",
     "text": [
      "C:\\Users\\liewm\\Anaconda3\\lib\\site-packages\\sklearn\\linear_model\\logistic.py:432: FutureWarning: Default solver will be changed to 'lbfgs' in 0.22. Specify a solver to silence this warning.\n",
      "  FutureWarning)\n"
     ]
    },
    {
     "name": "stdout",
     "output_type": "stream",
     "text": [
      "null accuracy: 90.74%\n",
      "accuracy score: 87.23%\n",
      "model is 3.51% less accurate than null accuracy\n",
      "train and test time: 1982.13s\n",
      "--------------------------------------------------------------------------------\n",
      "Validation result for 60000 features\n"
     ]
    },
    {
     "name": "stderr",
     "output_type": "stream",
     "text": [
      "C:\\Users\\liewm\\Anaconda3\\lib\\site-packages\\sklearn\\linear_model\\logistic.py:432: FutureWarning: Default solver will be changed to 'lbfgs' in 0.22. Specify a solver to silence this warning.\n",
      "  FutureWarning)\n"
     ]
    },
    {
     "name": "stdout",
     "output_type": "stream",
     "text": [
      "null accuracy: 90.74%\n",
      "accuracy score: 87.53%\n",
      "model is 3.21% less accurate than null accuracy\n",
      "train and test time: 174.40s\n",
      "--------------------------------------------------------------------------------\n",
      "Validation result for 70000 features\n"
     ]
    },
    {
     "name": "stderr",
     "output_type": "stream",
     "text": [
      "C:\\Users\\liewm\\Anaconda3\\lib\\site-packages\\sklearn\\linear_model\\logistic.py:432: FutureWarning: Default solver will be changed to 'lbfgs' in 0.22. Specify a solver to silence this warning.\n",
      "  FutureWarning)\n"
     ]
    },
    {
     "name": "stdout",
     "output_type": "stream",
     "text": [
      "null accuracy: 90.74%\n",
      "accuracy score: 87.76%\n",
      "model is 2.99% less accurate than null accuracy\n",
      "train and test time: 188.05s\n",
      "--------------------------------------------------------------------------------\n",
      "Validation result for 80000 features\n"
     ]
    },
    {
     "name": "stderr",
     "output_type": "stream",
     "text": [
      "C:\\Users\\liewm\\Anaconda3\\lib\\site-packages\\sklearn\\linear_model\\logistic.py:432: FutureWarning: Default solver will be changed to 'lbfgs' in 0.22. Specify a solver to silence this warning.\n",
      "  FutureWarning)\n"
     ]
    },
    {
     "name": "stdout",
     "output_type": "stream",
     "text": [
      "null accuracy: 90.74%\n",
      "accuracy score: 87.87%\n",
      "model is 2.88% less accurate than null accuracy\n",
      "train and test time: 177.39s\n",
      "--------------------------------------------------------------------------------\n",
      "Validation result for 90000 features\n"
     ]
    },
    {
     "name": "stderr",
     "output_type": "stream",
     "text": [
      "C:\\Users\\liewm\\Anaconda3\\lib\\site-packages\\sklearn\\linear_model\\logistic.py:432: FutureWarning: Default solver will be changed to 'lbfgs' in 0.22. Specify a solver to silence this warning.\n",
      "  FutureWarning)\n"
     ]
    },
    {
     "name": "stdout",
     "output_type": "stream",
     "text": [
      "null accuracy: 90.74%\n",
      "accuracy score: 88.04%\n",
      "model is 2.71% less accurate than null accuracy\n",
      "train and test time: 151.97s\n",
      "--------------------------------------------------------------------------------\n",
      "Validation result for 100000 features\n"
     ]
    },
    {
     "name": "stderr",
     "output_type": "stream",
     "text": [
      "C:\\Users\\liewm\\Anaconda3\\lib\\site-packages\\sklearn\\linear_model\\logistic.py:432: FutureWarning: Default solver will be changed to 'lbfgs' in 0.22. Specify a solver to silence this warning.\n",
      "  FutureWarning)\n"
     ]
    },
    {
     "name": "stdout",
     "output_type": "stream",
     "text": [
      "null accuracy: 90.74%\n",
      "accuracy score: 88.16%\n",
      "model is 2.59% less accurate than null accuracy\n",
      "train and test time: 3452.56s\n",
      "--------------------------------------------------------------------------------\n",
      "LogisticRegression(C=1.0, class_weight=None, dual=False, fit_intercept=True,\n",
      "                   intercept_scaling=1, l1_ratio=None, max_iter=100,\n",
      "                   multi_class='warn', n_jobs=None, penalty='l2',\n",
      "                   random_state=None, solver='warn', tol=0.0001, verbose=0,\n",
      "                   warm_start=False)\n",
      "\n",
      "\n",
      "Validation result for 10000 features\n"
     ]
    },
    {
     "name": "stderr",
     "output_type": "stream",
     "text": [
      "C:\\Users\\liewm\\Anaconda3\\lib\\site-packages\\sklearn\\linear_model\\logistic.py:432: FutureWarning: Default solver will be changed to 'lbfgs' in 0.22. Specify a solver to silence this warning.\n",
      "  FutureWarning)\n"
     ]
    },
    {
     "name": "stdout",
     "output_type": "stream",
     "text": [
      "null accuracy: 90.74%\n",
      "accuracy score: 87.97%\n",
      "model is 2.78% less accurate than null accuracy\n",
      "train and test time: 110.24s\n",
      "--------------------------------------------------------------------------------\n",
      "Validation result for 20000 features\n"
     ]
    },
    {
     "name": "stderr",
     "output_type": "stream",
     "text": [
      "C:\\Users\\liewm\\Anaconda3\\lib\\site-packages\\sklearn\\linear_model\\logistic.py:432: FutureWarning: Default solver will be changed to 'lbfgs' in 0.22. Specify a solver to silence this warning.\n",
      "  FutureWarning)\n"
     ]
    },
    {
     "name": "stdout",
     "output_type": "stream",
     "text": [
      "null accuracy: 90.74%\n",
      "accuracy score: 85.77%\n",
      "model is 4.98% less accurate than null accuracy\n",
      "train and test time: 272.38s\n",
      "--------------------------------------------------------------------------------\n",
      "Validation result for 30000 features\n"
     ]
    },
    {
     "name": "stderr",
     "output_type": "stream",
     "text": [
      "C:\\Users\\liewm\\Anaconda3\\lib\\site-packages\\sklearn\\linear_model\\logistic.py:432: FutureWarning: Default solver will be changed to 'lbfgs' in 0.22. Specify a solver to silence this warning.\n",
      "  FutureWarning)\n"
     ]
    },
    {
     "name": "stdout",
     "output_type": "stream",
     "text": [
      "null accuracy: 90.74%\n",
      "accuracy score: 86.24%\n",
      "model is 4.50% less accurate than null accuracy\n",
      "train and test time: 252.63s\n",
      "--------------------------------------------------------------------------------\n",
      "Validation result for 40000 features\n"
     ]
    },
    {
     "name": "stderr",
     "output_type": "stream",
     "text": [
      "C:\\Users\\liewm\\Anaconda3\\lib\\site-packages\\sklearn\\linear_model\\logistic.py:432: FutureWarning: Default solver will be changed to 'lbfgs' in 0.22. Specify a solver to silence this warning.\n",
      "  FutureWarning)\n"
     ]
    },
    {
     "name": "stdout",
     "output_type": "stream",
     "text": [
      "null accuracy: 90.74%\n",
      "accuracy score: 86.84%\n",
      "model is 3.90% less accurate than null accuracy\n",
      "train and test time: 271.00s\n",
      "--------------------------------------------------------------------------------\n",
      "Validation result for 50000 features\n"
     ]
    },
    {
     "name": "stderr",
     "output_type": "stream",
     "text": [
      "C:\\Users\\liewm\\Anaconda3\\lib\\site-packages\\sklearn\\linear_model\\logistic.py:432: FutureWarning: Default solver will be changed to 'lbfgs' in 0.22. Specify a solver to silence this warning.\n",
      "  FutureWarning)\n"
     ]
    },
    {
     "name": "stdout",
     "output_type": "stream",
     "text": [
      "null accuracy: 90.74%\n",
      "accuracy score: 87.12%\n",
      "model is 3.62% less accurate than null accuracy\n",
      "train and test time: 274.06s\n",
      "--------------------------------------------------------------------------------\n",
      "Validation result for 60000 features\n"
     ]
    },
    {
     "name": "stderr",
     "output_type": "stream",
     "text": [
      "C:\\Users\\liewm\\Anaconda3\\lib\\site-packages\\sklearn\\linear_model\\logistic.py:432: FutureWarning: Default solver will be changed to 'lbfgs' in 0.22. Specify a solver to silence this warning.\n",
      "  FutureWarning)\n"
     ]
    },
    {
     "name": "stdout",
     "output_type": "stream",
     "text": [
      "null accuracy: 90.74%\n",
      "accuracy score: 87.43%\n",
      "model is 3.31% less accurate than null accuracy\n",
      "train and test time: 277.93s\n",
      "--------------------------------------------------------------------------------\n",
      "Validation result for 70000 features\n"
     ]
    },
    {
     "name": "stderr",
     "output_type": "stream",
     "text": [
      "C:\\Users\\liewm\\Anaconda3\\lib\\site-packages\\sklearn\\linear_model\\logistic.py:432: FutureWarning: Default solver will be changed to 'lbfgs' in 0.22. Specify a solver to silence this warning.\n",
      "  FutureWarning)\n"
     ]
    },
    {
     "name": "stdout",
     "output_type": "stream",
     "text": [
      "null accuracy: 90.74%\n",
      "accuracy score: 87.73%\n",
      "model is 3.01% less accurate than null accuracy\n",
      "train and test time: 261.58s\n",
      "--------------------------------------------------------------------------------\n",
      "Validation result for 80000 features\n"
     ]
    },
    {
     "name": "stderr",
     "output_type": "stream",
     "text": [
      "C:\\Users\\liewm\\Anaconda3\\lib\\site-packages\\sklearn\\linear_model\\logistic.py:432: FutureWarning: Default solver will be changed to 'lbfgs' in 0.22. Specify a solver to silence this warning.\n",
      "  FutureWarning)\n"
     ]
    },
    {
     "name": "stdout",
     "output_type": "stream",
     "text": [
      "null accuracy: 90.74%\n",
      "accuracy score: 87.99%\n",
      "model is 2.76% less accurate than null accuracy\n",
      "train and test time: 260.63s\n",
      "--------------------------------------------------------------------------------\n",
      "Validation result for 90000 features\n"
     ]
    },
    {
     "name": "stderr",
     "output_type": "stream",
     "text": [
      "C:\\Users\\liewm\\Anaconda3\\lib\\site-packages\\sklearn\\linear_model\\logistic.py:432: FutureWarning: Default solver will be changed to 'lbfgs' in 0.22. Specify a solver to silence this warning.\n",
      "  FutureWarning)\n"
     ]
    },
    {
     "name": "stdout",
     "output_type": "stream",
     "text": [
      "null accuracy: 90.74%\n",
      "accuracy score: 87.95%\n",
      "model is 2.79% less accurate than null accuracy\n",
      "train and test time: 227.14s\n",
      "--------------------------------------------------------------------------------\n",
      "Validation result for 100000 features\n"
     ]
    },
    {
     "name": "stderr",
     "output_type": "stream",
     "text": [
      "C:\\Users\\liewm\\Anaconda3\\lib\\site-packages\\sklearn\\linear_model\\logistic.py:432: FutureWarning: Default solver will be changed to 'lbfgs' in 0.22. Specify a solver to silence this warning.\n",
      "  FutureWarning)\n"
     ]
    },
    {
     "name": "stdout",
     "output_type": "stream",
     "text": [
      "null accuracy: 90.74%\n",
      "accuracy score: 88.11%\n",
      "model is 2.64% less accurate than null accuracy\n",
      "train and test time: 246.18s\n",
      "--------------------------------------------------------------------------------\n"
     ]
    }
   ],
   "source": [
    "feature_result_ug = nfeature_accuracy_checker(vectorizer=cvec) #Unigram\n",
    "feature_result_bg = nfeature_accuracy_checker(vectorizer=cvec,ngram_range=(1, 2)) #Bigram\n",
    "feature_result_tg = nfeature_accuracy_checker(vectorizer=cvec,ngram_range=(1, 3)) #Trigram\n",
    "\n",
    "nfeatures_plot_tg = pd.DataFrame(feature_result_tg,columns=['nfeatures','validation_accuracy','train_test_time'])\n",
    "nfeatures_plot_bg = pd.DataFrame(feature_result_bg,columns=['nfeatures','validation_accuracy','train_test_time'])\n",
    "nfeatures_plot_ug = pd.DataFrame(feature_result_ug,columns=['nfeatures','validation_accuracy','train_test_time'])"
   ]
  },
  {
   "cell_type": "code",
   "execution_count": 48,
   "metadata": {},
   "outputs": [
    {
     "data": {
      "text/plain": [
       "<matplotlib.legend.Legend at 0x230da78f2c8>"
      ]
     },
     "execution_count": 48,
     "metadata": {},
     "output_type": "execute_result"
    },
    {
     "data": {
      "image/png": "[encoded data removed]",
      "text/plain": [
       "<Figure size 576x432 with 1 Axes>"
      ]
     },
     "metadata": {
      "needs_background": "light"
     },
     "output_type": "display_data"
    }
   ],
   "source": [
    "nfeatures_plot_tgt = pd.DataFrame(feature_result_tgt,columns=['nfeatures','validation_accuracy','train_test_time'])\n",
    "nfeatures_plot_bgt = pd.DataFrame(feature_result_bgt,columns=['nfeatures','validation_accuracy','train_test_time'])\n",
    "nfeatures_plot_ugt = pd.DataFrame(feature_result_ugt,columns=['nfeatures','validation_accuracy','train_test_time'])\n",
    "\n",
    "plt.figure(figsize=(8,6))\n",
    "plt.plot(nfeatures_plot_tgt.nfeatures, nfeatures_plot_tgt.validation_accuracy,label='trigram tfidf vectorizer',color='royalblue')\n",
    "plt.plot(nfeatures_plot_tg.nfeatures, nfeatures_plot_tg.validation_accuracy,label='trigram count vectorizer',linestyle=':', color='royalblue')\n",
    "plt.plot(nfeatures_plot_bgt.nfeatures, nfeatures_plot_bgt.validation_accuracy,label='bigram tfidf vectorizer',color='orangered')\n",
    "plt.plot(nfeatures_plot_bg.nfeatures, nfeatures_plot_bg.validation_accuracy,label='bigram count vectorizer',linestyle=':',color='orangered')\n",
    "plt.plot(nfeatures_plot_ugt.nfeatures, nfeatures_plot_ugt.validation_accuracy, label='unigram tfidf vectorizer',color='gold')\n",
    "plt.plot(nfeatures_plot_ug.nfeatures, nfeatures_plot_ug.validation_accuracy, label='unigram count vectorizer',linestyle=':',color='gold')\n",
    "plt.title(\"N-gram(1~3) test result : Accuracy\")\n",
    "plt.xlabel(\"Number of features\")\n",
    "plt.ylabel(\"Validation set accuracy\")\n",
    "plt.legend()"
   ]
  },
  {
   "cell_type": "markdown",
   "metadata": {},
   "source": [
    "### 2.1.2 Multinomial Naive Bayes "
   ]
  },
  {
   "cell_type": "code",
   "execution_count": 49,
   "metadata": {},
   "outputs": [
    {
     "name": "stdout",
     "output_type": "stream",
     "text": [
      "MultinomialNB(alpha=1.0, class_prior=None, fit_prior=True)\n",
      "\n",
      "\n",
      "Validation result for 10000 features\n",
      "null accuracy: 90.74%\n",
      "accuracy score: 90.73%\n",
      "model is 0.01% less accurate than null accuracy\n",
      "train and test time: 32.73s\n",
      "--------------------------------------------------------------------------------\n",
      "Validation result for 20000 features\n",
      "null accuracy: 90.74%\n",
      "accuracy score: 90.72%\n",
      "model is 0.02% less accurate than null accuracy\n",
      "train and test time: 21.73s\n",
      "--------------------------------------------------------------------------------\n",
      "Validation result for 30000 features\n",
      "null accuracy: 90.74%\n",
      "accuracy score: 90.74%\n",
      "model has the same accuracy with the null accuracy\n",
      "train and test time: 20.54s\n",
      "--------------------------------------------------------------------------------\n",
      "Validation result for 40000 features\n",
      "null accuracy: 90.74%\n",
      "accuracy score: 90.74%\n",
      "model has the same accuracy with the null accuracy\n",
      "train and test time: 21.10s\n",
      "--------------------------------------------------------------------------------\n",
      "Validation result for 50000 features\n",
      "null accuracy: 90.74%\n",
      "accuracy score: 90.74%\n",
      "model has the same accuracy with the null accuracy\n",
      "train and test time: 21.51s\n",
      "--------------------------------------------------------------------------------\n",
      "Validation result for 60000 features\n",
      "null accuracy: 90.74%\n",
      "accuracy score: 90.74%\n",
      "model has the same accuracy with the null accuracy\n",
      "train and test time: 21.24s\n",
      "--------------------------------------------------------------------------------\n",
      "Validation result for 70000 features\n",
      "null accuracy: 90.74%\n",
      "accuracy score: 90.74%\n",
      "model has the same accuracy with the null accuracy\n",
      "train and test time: 21.61s\n",
      "--------------------------------------------------------------------------------\n",
      "Validation result for 80000 features\n",
      "null accuracy: 90.74%\n",
      "accuracy score: 90.74%\n",
      "model has the same accuracy with the null accuracy\n",
      "train and test time: 21.80s\n",
      "--------------------------------------------------------------------------------\n",
      "Validation result for 90000 features\n",
      "null accuracy: 90.74%\n",
      "accuracy score: 90.74%\n",
      "model has the same accuracy with the null accuracy\n",
      "train and test time: 21.45s\n",
      "--------------------------------------------------------------------------------\n",
      "Validation result for 100000 features\n",
      "null accuracy: 90.74%\n",
      "accuracy score: 90.74%\n",
      "model has the same accuracy with the null accuracy\n",
      "train and test time: 21.15s\n",
      "--------------------------------------------------------------------------------\n",
      "MultinomialNB(alpha=1.0, class_prior=None, fit_prior=True)\n",
      "\n",
      "\n",
      "Validation result for 10000 features\n",
      "null accuracy: 90.74%\n",
      "accuracy score: 90.72%\n",
      "model is 0.02% less accurate than null accuracy\n",
      "train and test time: 60.94s\n",
      "--------------------------------------------------------------------------------\n",
      "Validation result for 20000 features\n",
      "null accuracy: 90.74%\n",
      "accuracy score: 90.73%\n",
      "model is 0.01% less accurate than null accuracy\n",
      "train and test time: 59.53s\n",
      "--------------------------------------------------------------------------------\n",
      "Validation result for 30000 features\n",
      "null accuracy: 90.74%\n",
      "accuracy score: 90.73%\n",
      "model is 0.01% less accurate than null accuracy\n",
      "train and test time: 59.11s\n",
      "--------------------------------------------------------------------------------\n",
      "Validation result for 40000 features\n",
      "null accuracy: 90.74%\n",
      "accuracy score: 90.72%\n",
      "model is 0.02% less accurate than null accuracy\n",
      "train and test time: 60.49s\n",
      "--------------------------------------------------------------------------------\n",
      "Validation result for 50000 features\n",
      "null accuracy: 90.74%\n",
      "accuracy score: 90.73%\n",
      "model is 0.01% less accurate than null accuracy\n",
      "train and test time: 60.39s\n",
      "--------------------------------------------------------------------------------\n",
      "Validation result for 60000 features\n",
      "null accuracy: 90.74%\n",
      "accuracy score: 90.73%\n",
      "model is 0.01% less accurate than null accuracy\n",
      "train and test time: 59.89s\n",
      "--------------------------------------------------------------------------------\n",
      "Validation result for 70000 features\n",
      "null accuracy: 90.74%\n",
      "accuracy score: 90.73%\n",
      "model is 0.01% less accurate than null accuracy\n",
      "train and test time: 59.99s\n",
      "--------------------------------------------------------------------------------\n",
      "Validation result for 80000 features\n",
      "null accuracy: 90.74%\n",
      "accuracy score: 90.74%\n",
      "model is 0.01% less accurate than null accuracy\n",
      "train and test time: 60.06s\n",
      "--------------------------------------------------------------------------------\n",
      "Validation result for 90000 features\n",
      "null accuracy: 90.74%\n",
      "accuracy score: 90.73%\n",
      "model is 0.01% less accurate than null accuracy\n",
      "train and test time: 60.39s\n",
      "--------------------------------------------------------------------------------\n",
      "Validation result for 100000 features\n",
      "null accuracy: 90.74%\n",
      "accuracy score: 90.74%\n",
      "model is 0.01% less accurate than null accuracy\n",
      "train and test time: 60.06s\n",
      "--------------------------------------------------------------------------------\n",
      "MultinomialNB(alpha=1.0, class_prior=None, fit_prior=True)\n",
      "\n",
      "\n",
      "Validation result for 10000 features\n",
      "null accuracy: 90.74%\n",
      "accuracy score: 90.73%\n",
      "model is 0.01% less accurate than null accuracy\n",
      "train and test time: 134.71s\n",
      "--------------------------------------------------------------------------------\n",
      "Validation result for 20000 features\n",
      "null accuracy: 90.74%\n",
      "accuracy score: 90.70%\n",
      "model is 0.04% less accurate than null accuracy\n",
      "train and test time: 133.02s\n",
      "--------------------------------------------------------------------------------\n",
      "Validation result for 30000 features\n",
      "null accuracy: 90.74%\n",
      "accuracy score: 90.68%\n",
      "model is 0.06% less accurate than null accuracy\n",
      "train and test time: 136.12s\n",
      "--------------------------------------------------------------------------------\n",
      "Validation result for 40000 features\n",
      "null accuracy: 90.74%\n",
      "accuracy score: 90.70%\n",
      "model is 0.04% less accurate than null accuracy\n",
      "train and test time: 134.39s\n",
      "--------------------------------------------------------------------------------\n",
      "Validation result for 50000 features\n",
      "null accuracy: 90.74%\n",
      "accuracy score: 90.73%\n",
      "model is 0.01% less accurate than null accuracy\n",
      "train and test time: 137.91s\n",
      "--------------------------------------------------------------------------------\n",
      "Validation result for 60000 features\n",
      "null accuracy: 90.74%\n",
      "accuracy score: 90.72%\n",
      "model is 0.02% less accurate than null accuracy\n",
      "train and test time: 133.41s\n",
      "--------------------------------------------------------------------------------\n",
      "Validation result for 70000 features\n",
      "null accuracy: 90.74%\n",
      "accuracy score: 90.67%\n",
      "model is 0.07% less accurate than null accuracy\n",
      "train and test time: 142.28s\n",
      "--------------------------------------------------------------------------------\n",
      "Validation result for 80000 features\n",
      "null accuracy: 90.74%\n",
      "accuracy score: 90.67%\n",
      "model is 0.07% less accurate than null accuracy\n",
      "train and test time: 135.35s\n",
      "--------------------------------------------------------------------------------\n",
      "Validation result for 90000 features\n",
      "null accuracy: 90.74%\n",
      "accuracy score: 90.68%\n",
      "model is 0.07% less accurate than null accuracy\n",
      "train and test time: 135.46s\n",
      "--------------------------------------------------------------------------------\n",
      "Validation result for 100000 features\n",
      "null accuracy: 90.74%\n",
      "accuracy score: 90.68%\n",
      "model is 0.06% less accurate than null accuracy\n",
      "train and test time: 141.16s\n",
      "--------------------------------------------------------------------------------\n"
     ]
    }
   ],
   "source": [
    "from sklearn.naive_bayes import MultinomialNB\n",
    "nb=MultinomialNB()\n",
    "feature_result_ugt = nfeature_accuracy_checker(vectorizer=tvec, classifier=nb) #Unigram\n",
    "feature_result_bgt = nfeature_accuracy_checker(vectorizer=tvec,ngram_range=(1, 2), classifier=nb) #Bigram\n",
    "feature_result_tgt = nfeature_accuracy_checker(vectorizer=tvec,ngram_range=(1, 3), classifier=nb) #Trigram "
   ]
  },
  {
   "cell_type": "code",
   "execution_count": null,
   "metadata": {},
   "outputs": [
    {
     "name": "stdout",
     "output_type": "stream",
     "text": [
      "MultinomialNB(alpha=1.0, class_prior=None, fit_prior=True)\n",
      "\n",
      "\n",
      "Validation result for 10000 features\n",
      "null accuracy: 90.74%\n",
      "accuracy score: 86.73%\n",
      "model is 4.01% less accurate than null accuracy\n",
      "train and test time: 35.35s\n",
      "--------------------------------------------------------------------------------\n",
      "Validation result for 20000 features\n",
      "null accuracy: 90.74%\n",
      "accuracy score: 87.11%\n",
      "model is 3.64% less accurate than null accuracy\n",
      "train and test time: 20.72s\n",
      "--------------------------------------------------------------------------------\n",
      "Validation result for 30000 features\n",
      "null accuracy: 90.74%\n",
      "accuracy score: 88.18%\n",
      "model is 2.57% less accurate than null accuracy\n",
      "train and test time: 19.27s\n",
      "--------------------------------------------------------------------------------\n",
      "Validation result for 40000 features\n",
      "null accuracy: 90.74%\n",
      "accuracy score: 89.09%\n",
      "model is 1.66% less accurate than null accuracy\n",
      "train and test time: 20.02s\n",
      "--------------------------------------------------------------------------------\n",
      "Validation result for 50000 features\n",
      "null accuracy: 90.74%\n",
      "accuracy score: 89.72%\n",
      "model is 1.03% less accurate than null accuracy\n",
      "train and test time: 19.91s\n",
      "--------------------------------------------------------------------------------\n",
      "Validation result for 60000 features\n",
      "null accuracy: 90.74%\n",
      "accuracy score: 90.09%\n",
      "model is 0.65% less accurate than null accuracy\n",
      "train and test time: 19.99s\n",
      "--------------------------------------------------------------------------------\n",
      "Validation result for 70000 features\n",
      "null accuracy: 90.74%\n",
      "accuracy score: 90.20%\n",
      "model is 0.55% less accurate than null accuracy\n",
      "train and test time: 20.05s\n",
      "--------------------------------------------------------------------------------\n",
      "Validation result for 80000 features\n",
      "null accuracy: 90.74%\n",
      "accuracy score: 90.20%\n",
      "model is 0.55% less accurate than null accuracy\n",
      "train and test time: 19.67s\n",
      "--------------------------------------------------------------------------------\n",
      "Validation result for 90000 features\n",
      "null accuracy: 90.74%\n",
      "accuracy score: 90.20%\n",
      "model is 0.55% less accurate than null accuracy\n",
      "train and test time: 19.73s\n",
      "--------------------------------------------------------------------------------\n",
      "Validation result for 100000 features\n",
      "null accuracy: 90.74%\n",
      "accuracy score: 90.20%\n",
      "model is 0.55% less accurate than null accuracy\n",
      "train and test time: 20.47s\n",
      "--------------------------------------------------------------------------------\n",
      "MultinomialNB(alpha=1.0, class_prior=None, fit_prior=True)\n",
      "\n",
      "\n",
      "Validation result for 10000 features\n",
      "null accuracy: 90.74%\n",
      "accuracy score: 85.35%\n",
      "model is 5.40% less accurate than null accuracy\n",
      "train and test time: 57.20s\n",
      "--------------------------------------------------------------------------------\n",
      "Validation result for 20000 features\n",
      "null accuracy: 90.74%\n",
      "accuracy score: 84.44%\n",
      "model is 6.30% less accurate than null accuracy\n",
      "train and test time: 61.40s\n",
      "--------------------------------------------------------------------------------\n",
      "Validation result for 30000 features\n",
      "null accuracy: 90.74%\n",
      "accuracy score: 84.41%\n",
      "model is 6.33% less accurate than null accuracy\n",
      "train and test time: 58.76s\n",
      "--------------------------------------------------------------------------------\n",
      "Validation result for 40000 features\n",
      "null accuracy: 90.74%\n",
      "accuracy score: 85.01%\n",
      "model is 5.74% less accurate than null accuracy\n",
      "train and test time: 58.80s\n",
      "--------------------------------------------------------------------------------\n",
      "Validation result for 50000 features\n",
      "null accuracy: 90.74%\n",
      "accuracy score: 85.27%\n",
      "model is 5.48% less accurate than null accuracy\n",
      "train and test time: 58.54s\n",
      "--------------------------------------------------------------------------------\n",
      "Validation result for 60000 features\n",
      "null accuracy: 90.74%\n",
      "accuracy score: 85.43%\n",
      "model is 5.31% less accurate than null accuracy\n",
      "train and test time: 58.32s\n",
      "--------------------------------------------------------------------------------\n",
      "Validation result for 70000 features\n",
      "null accuracy: 90.74%\n",
      "accuracy score: 85.89%\n",
      "model is 4.86% less accurate than null accuracy\n",
      "train and test time: 58.59s\n",
      "--------------------------------------------------------------------------------\n",
      "Validation result for 80000 features\n",
      "null accuracy: 90.74%\n",
      "accuracy score: 86.07%\n",
      "model is 4.67% less accurate than null accuracy\n",
      "train and test time: 57.77s\n",
      "--------------------------------------------------------------------------------\n",
      "Validation result for 90000 features\n",
      "null accuracy: 90.74%\n",
      "accuracy score: 86.33%\n",
      "model is 4.41% less accurate than null accuracy\n",
      "train and test time: 57.09s\n",
      "--------------------------------------------------------------------------------\n",
      "Validation result for 100000 features\n",
      "null accuracy: 90.74%\n",
      "accuracy score: 86.56%\n",
      "model is 4.18% less accurate than null accuracy\n",
      "train and test time: 57.54s\n",
      "--------------------------------------------------------------------------------\n",
      "MultinomialNB(alpha=1.0, class_prior=None, fit_prior=True)\n",
      "\n",
      "\n",
      "Validation result for 10000 features\n"
     ]
    }
   ],
   "source": [
    "feature_result_ug = nfeature_accuracy_checker(vectorizer=cvec, classifier=nb) #Unigram\n",
    "feature_result_bg = nfeature_accuracy_checker(vectorizer=cvec,ngram_range=(1, 2), classifier=nb) #Bigram\n",
    "feature_result_tg = nfeature_accuracy_checker(vectorizer=cvec,ngram_range=(1, 3), classifier=nb) #Trigram\n",
    "\n",
    "nfeatures_plot_tg = pd.DataFrame(feature_result_tg,columns=['nfeatures','validation_accuracy','train_test_time'])\n",
    "nfeatures_plot_bg = pd.DataFrame(feature_result_bg,columns=['nfeatures','validation_accuracy','train_test_time'])\n",
    "nfeatures_plot_ug = pd.DataFrame(feature_result_ug,columns=['nfeatures','validation_accuracy','train_test_time'])"
   ]
  },
  {
   "cell_type": "code",
   "execution_count": null,
   "metadata": {},
   "outputs": [],
   "source": [
    "nfeatures_plot_tgt = pd.DataFrame(feature_result_tgt,columns=['nfeatures','validation_accuracy','train_test_time'])\n",
    "nfeatures_plot_bgt = pd.DataFrame(feature_result_bgt,columns=['nfeatures','validation_accuracy','train_test_time'])\n",
    "nfeatures_plot_ugt = pd.DataFrame(feature_result_ugt,columns=['nfeatures','validation_accuracy','train_test_time'])\n",
    "\n",
    "plt.figure(figsize=(8,6))\n",
    "plt.plot(nfeatures_plot_tgt.nfeatures, nfeatures_plot_tgt.validation_accuracy,label='trigram tfidf vectorizer',color='royalblue')\n",
    "plt.plot(nfeatures_plot_tg.nfeatures, nfeatures_plot_tg.validation_accuracy,label='trigram count vectorizer',linestyle=':', color='royalblue')\n",
    "plt.plot(nfeatures_plot_bgt.nfeatures, nfeatures_plot_bgt.validation_accuracy,label='bigram tfidf vectorizer',color='orangered')\n",
    "plt.plot(nfeatures_plot_bg.nfeatures, nfeatures_plot_bg.validation_accuracy,label='bigram count vectorizer',linestyle=':',color='orangered')\n",
    "plt.plot(nfeatures_plot_ugt.nfeatures, nfeatures_plot_ugt.validation_accuracy, label='unigram tfidf vectorizer',color='gold')\n",
    "plt.plot(nfeatures_plot_ug.nfeatures, nfeatures_plot_ug.validation_accuracy, label='unigram count vectorizer',linestyle=':',color='gold')\n",
    "plt.title(\"N-gram(1~3) test result : Accuracy\")\n",
    "plt.xlabel(\"Number of features\")\n",
    "plt.ylabel(\"Validation set accuracy\")\n",
    "plt.legend()"
   ]
  },
  {
   "cell_type": "markdown",
   "metadata": {},
   "source": [
    "### 2.1.3 SVM"
   ]
  },
  {
   "cell_type": "code",
   "execution_count": null,
   "metadata": {},
   "outputs": [],
   "source": [
    "from sklearn import svm\n",
    "sv=svm.SVC(kernel='linear')\n",
    "feature_result_ugt = nfeature_accuracy_checker(vectorizer=tvec, classifier=sv) #Unigram\n",
    "feature_result_bgt = nfeature_accuracy_checker(vectorizer=tvec,ngram_range=(1, 2), classifier=sv) #Bigram\n",
    "feature_result_tgt = nfeature_accuracy_checker(vectorizer=tvec,ngram_range=(1, 3), classifier=sv) #Trigram "
   ]
  },
  {
   "cell_type": "code",
   "execution_count": null,
   "metadata": {},
   "outputs": [],
   "source": [
    "feature_result_ug = nfeature_accuracy_checker(vectorizer=cvec, classifier=sv) #Unigram\n",
    "feature_result_bg = nfeature_accuracy_checker(vectorizer=cvec,ngram_range=(1, 2), classifier=sv) #Bigram\n",
    "feature_result_tg = nfeature_accuracy_checker(vectorizer=cvec,ngram_range=(1, 3), classifier=sv) #Trigram\n",
    "\n",
    "nfeatures_plot_tg = pd.DataFrame(feature_result_tg,columns=['nfeatures','validation_accuracy','train_test_time'])\n",
    "nfeatures_plot_bg = pd.DataFrame(feature_result_bg,columns=['nfeatures','validation_accuracy','train_test_time'])\n",
    "nfeatures_plot_ug = pd.DataFrame(feature_result_ug,columns=['nfeatures','validation_accuracy','train_test_time'])"
   ]
  },
  {
   "cell_type": "code",
   "execution_count": null,
   "metadata": {},
   "outputs": [],
   "source": [
    "nfeatures_plot_tgt = pd.DataFrame(feature_result_tgt,columns=['nfeatures','validation_accuracy','train_test_time'])\n",
    "nfeatures_plot_bgt = pd.DataFrame(feature_result_bgt,columns=['nfeatures','validation_accuracy','train_test_time'])\n",
    "nfeatures_plot_ugt = pd.DataFrame(feature_result_ugt,columns=['nfeatures','validation_accuracy','train_test_time'])\n",
    "\n",
    "plt.figure(figsize=(8,6))\n",
    "plt.plot(nfeatures_plot_tgt.nfeatures, nfeatures_plot_tgt.validation_accuracy,label='trigram tfidf vectorizer',color='royalblue')\n",
    "plt.plot(nfeatures_plot_tg.nfeatures, nfeatures_plot_tg.validation_accuracy,label='trigram count vectorizer',linestyle=':', color='royalblue')\n",
    "plt.plot(nfeatures_plot_bgt.nfeatures, nfeatures_plot_bgt.validation_accuracy,label='bigram tfidf vectorizer',color='orangered')\n",
    "plt.plot(nfeatures_plot_bg.nfeatures, nfeatures_plot_bg.validation_accuracy,label='bigram count vectorizer',linestyle=':',color='orangered')\n",
    "plt.plot(nfeatures_plot_ugt.nfeatures, nfeatures_plot_ugt.validation_accuracy, label='unigram tfidf vectorizer',color='gold')\n",
    "plt.plot(nfeatures_plot_ug.nfeatures, nfeatures_plot_ug.validation_accuracy, label='unigram count vectorizer',linestyle=':',color='gold')\n",
    "plt.title(\"N-gram(1~3) test result : Accuracy\")\n",
    "plt.xlabel(\"Number of features\")\n",
    "plt.ylabel(\"Validation set accuracy\")\n",
    "plt.legend()"
   ]
  },
  {
   "cell_type": "markdown",
   "metadata": {},
   "source": [
    "## 3. Models \n",
    "### 3.1 Logistic Regression \n",
    "1) Since tf-idf trigram is the highest accuracy, this will be used for feature extraction \n",
    "<br>2) Perform tf-idf trigram on X datasets \n",
    "<br>3) SMOTE Sampling on tfidf vectors x datasets \n",
    "\n",
    "<br>4) Input (2) into Logistic Regression \n",
    "    - Grid Search to fine tune hyperparameters \n",
    "    - Use the best parameters for the logistic regression \n",
    "    - Perform k-fold cross validation on the datasets to train the dataset while performing logistic regression \n",
    "<br>5) Grid search is choose the best parameters for logistic regression, K-fold cross validation is to prevent overfitting on the model. The accuracy rate from the k-fold cross validation is taken from the mean of all accuracy rate. "
   ]
  },
  {
   "cell_type": "markdown",
   "metadata": {},
   "source": [
    "- Since there's no much difference in the accuracy between tf-idf unigram, bigram and trigram and the number of features, to save time, tfidf unigram is chosen as the feature extraction "
   ]
  },
  {
   "cell_type": "markdown",
   "metadata": {},
   "source": [
    "## Imbalanced dataset \n",
    "- We would like to see if imbalanced dataset can affect logistic regression accuracy "
   ]
  },
  {
   "cell_type": "markdown",
   "metadata": {},
   "source": [
    "## 3. SMOTE Sampling\n",
    "### 3.1 Logistic Regression \n",
    "#### 3.1.1 TF-IDF (Unigram)\n",
    "https://www.kaggle.com/ruzarx/oversampling-smote-and-adasyn\n"
   ]
  },
  {
   "cell_type": "code",
   "execution_count": 15,
   "metadata": {},
   "outputs": [
    {
     "name": "stderr",
     "output_type": "stream",
     "text": [
      "Using TensorFlow backend.\n"
     ]
    }
   ],
   "source": [
    "from imblearn.pipeline import make_pipeline\n",
    "from imblearn.over_sampling import SMOTE"
   ]
  },
  {
   "cell_type": "code",
   "execution_count": 19,
   "metadata": {},
   "outputs": [
    {
     "ename": "MemoryError",
     "evalue": "",
     "output_type": "error",
     "traceback": [
      "\u001b[1;31m---------------------------------------------------------------------------\u001b[0m",
      "\u001b[1;31mMemoryError\u001b[0m                               Traceback (most recent call last)",
      "\u001b[1;32m<ipython-input-19-b6addf19c44d>\u001b[0m in \u001b[0;36m<module>\u001b[1;34m\u001b[0m\n\u001b[0;32m      4\u001b[0m \u001b[0msmt\u001b[0m \u001b[1;33m=\u001b[0m \u001b[0mSMOTE\u001b[0m\u001b[1;33m(\u001b[0m\u001b[0mrandom_state\u001b[0m\u001b[1;33m=\u001b[0m\u001b[1;36m40\u001b[0m\u001b[1;33m,\u001b[0m \u001b[0mk_neighbors\u001b[0m\u001b[1;33m=\u001b[0m\u001b[1;36m1\u001b[0m\u001b[1;33m)\u001b[0m\u001b[1;33m\u001b[0m\u001b[1;33m\u001b[0m\u001b[0m\n\u001b[0;32m      5\u001b[0m \u001b[0mX_SMOTE\u001b[0m\u001b[1;33m,\u001b[0m \u001b[0my_SMOTE\u001b[0m \u001b[1;33m=\u001b[0m \u001b[0msmt\u001b[0m\u001b[1;33m.\u001b[0m\u001b[0mfit_sample\u001b[0m\u001b[1;33m(\u001b[0m\u001b[0mtesting_tfidf\u001b[0m\u001b[1;33m,\u001b[0m \u001b[0mtesting_target\u001b[0m\u001b[1;33m)\u001b[0m\u001b[1;33m\u001b[0m\u001b[1;33m\u001b[0m\u001b[0m\n\u001b[1;32m----> 6\u001b[1;33m \u001b[0msmote_tfidf\u001b[0m\u001b[1;33m=\u001b[0m\u001b[0mpd\u001b[0m\u001b[1;33m.\u001b[0m\u001b[0mDataFrame\u001b[0m\u001b[1;33m(\u001b[0m\u001b[0mX_SMOTE\u001b[0m\u001b[1;33m.\u001b[0m\u001b[0mtodense\u001b[0m\u001b[1;33m(\u001b[0m\u001b[1;33m)\u001b[0m\u001b[1;33m[\u001b[0m\u001b[1;36m0\u001b[0m\u001b[1;33m:\u001b[0m\u001b[1;36m200\u001b[0m\u001b[1;33m]\u001b[0m\u001b[1;33m,\u001b[0m \u001b[0mcolumns\u001b[0m\u001b[1;33m=\u001b[0m\u001b[0mtvec\u001b[0m\u001b[1;33m.\u001b[0m\u001b[0mget_feature_names\u001b[0m\u001b[1;33m(\u001b[0m\u001b[1;33m)\u001b[0m\u001b[1;33m)\u001b[0m\u001b[1;33m\u001b[0m\u001b[1;33m\u001b[0m\u001b[0m\n\u001b[0m",
      "\u001b[1;32m~\\Anaconda3\\lib\\site-packages\\scipy\\sparse\\base.py\u001b[0m in \u001b[0;36mtodense\u001b[1;34m(self, order, out)\u001b[0m\n\u001b[0;32m    846\u001b[0m             \u001b[0;31m`\u001b[0m\u001b[0mnumpy\u001b[0m\u001b[1;33m.\u001b[0m\u001b[0mmatrix\u001b[0m\u001b[0;31m`\u001b[0m \u001b[0mobject\u001b[0m \u001b[0mthat\u001b[0m \u001b[0mshares\u001b[0m \u001b[0mthe\u001b[0m \u001b[0msame\u001b[0m \u001b[0mmemory\u001b[0m\u001b[1;33m.\u001b[0m\u001b[1;33m\u001b[0m\u001b[1;33m\u001b[0m\u001b[0m\n\u001b[0;32m    847\u001b[0m         \"\"\"\n\u001b[1;32m--> 848\u001b[1;33m         \u001b[1;32mreturn\u001b[0m \u001b[0masmatrix\u001b[0m\u001b[1;33m(\u001b[0m\u001b[0mself\u001b[0m\u001b[1;33m.\u001b[0m\u001b[0mtoarray\u001b[0m\u001b[1;33m(\u001b[0m\u001b[0morder\u001b[0m\u001b[1;33m=\u001b[0m\u001b[0morder\u001b[0m\u001b[1;33m,\u001b[0m \u001b[0mout\u001b[0m\u001b[1;33m=\u001b[0m\u001b[0mout\u001b[0m\u001b[1;33m)\u001b[0m\u001b[1;33m)\u001b[0m\u001b[1;33m\u001b[0m\u001b[1;33m\u001b[0m\u001b[0m\n\u001b[0m\u001b[0;32m    849\u001b[0m \u001b[1;33m\u001b[0m\u001b[0m\n\u001b[0;32m    850\u001b[0m     \u001b[1;32mdef\u001b[0m \u001b[0mtoarray\u001b[0m\u001b[1;33m(\u001b[0m\u001b[0mself\u001b[0m\u001b[1;33m,\u001b[0m \u001b[0morder\u001b[0m\u001b[1;33m=\u001b[0m\u001b[1;32mNone\u001b[0m\u001b[1;33m,\u001b[0m \u001b[0mout\u001b[0m\u001b[1;33m=\u001b[0m\u001b[1;32mNone\u001b[0m\u001b[1;33m)\u001b[0m\u001b[1;33m:\u001b[0m\u001b[1;33m\u001b[0m\u001b[1;33m\u001b[0m\u001b[0m\n",
      "\u001b[1;32m~\\Anaconda3\\lib\\site-packages\\scipy\\sparse\\compressed.py\u001b[0m in \u001b[0;36mtoarray\u001b[1;34m(self, order, out)\u001b[0m\n\u001b[0;32m   1022\u001b[0m         \u001b[1;32mif\u001b[0m \u001b[0mout\u001b[0m \u001b[1;32mis\u001b[0m \u001b[1;32mNone\u001b[0m \u001b[1;32mand\u001b[0m \u001b[0morder\u001b[0m \u001b[1;32mis\u001b[0m \u001b[1;32mNone\u001b[0m\u001b[1;33m:\u001b[0m\u001b[1;33m\u001b[0m\u001b[1;33m\u001b[0m\u001b[0m\n\u001b[0;32m   1023\u001b[0m             \u001b[0morder\u001b[0m \u001b[1;33m=\u001b[0m \u001b[0mself\u001b[0m\u001b[1;33m.\u001b[0m\u001b[0m_swap\u001b[0m\u001b[1;33m(\u001b[0m\u001b[1;34m'cf'\u001b[0m\u001b[1;33m)\u001b[0m\u001b[1;33m[\u001b[0m\u001b[1;36m0\u001b[0m\u001b[1;33m]\u001b[0m\u001b[1;33m\u001b[0m\u001b[1;33m\u001b[0m\u001b[0m\n\u001b[1;32m-> 1024\u001b[1;33m         \u001b[0mout\u001b[0m \u001b[1;33m=\u001b[0m \u001b[0mself\u001b[0m\u001b[1;33m.\u001b[0m\u001b[0m_process_toarray_args\u001b[0m\u001b[1;33m(\u001b[0m\u001b[0morder\u001b[0m\u001b[1;33m,\u001b[0m \u001b[0mout\u001b[0m\u001b[1;33m)\u001b[0m\u001b[1;33m\u001b[0m\u001b[1;33m\u001b[0m\u001b[0m\n\u001b[0m\u001b[0;32m   1025\u001b[0m         \u001b[1;32mif\u001b[0m \u001b[1;32mnot\u001b[0m \u001b[1;33m(\u001b[0m\u001b[0mout\u001b[0m\u001b[1;33m.\u001b[0m\u001b[0mflags\u001b[0m\u001b[1;33m.\u001b[0m\u001b[0mc_contiguous\u001b[0m \u001b[1;32mor\u001b[0m \u001b[0mout\u001b[0m\u001b[1;33m.\u001b[0m\u001b[0mflags\u001b[0m\u001b[1;33m.\u001b[0m\u001b[0mf_contiguous\u001b[0m\u001b[1;33m)\u001b[0m\u001b[1;33m:\u001b[0m\u001b[1;33m\u001b[0m\u001b[1;33m\u001b[0m\u001b[0m\n\u001b[0;32m   1026\u001b[0m             \u001b[1;32mraise\u001b[0m \u001b[0mValueError\u001b[0m\u001b[1;33m(\u001b[0m\u001b[1;34m'Output array must be C or F contiguous'\u001b[0m\u001b[1;33m)\u001b[0m\u001b[1;33m\u001b[0m\u001b[1;33m\u001b[0m\u001b[0m\n",
      "\u001b[1;32m~\\Anaconda3\\lib\\site-packages\\scipy\\sparse\\base.py\u001b[0m in \u001b[0;36m_process_toarray_args\u001b[1;34m(self, order, out)\u001b[0m\n\u001b[0;32m   1184\u001b[0m             \u001b[1;32mreturn\u001b[0m \u001b[0mout\u001b[0m\u001b[1;33m\u001b[0m\u001b[1;33m\u001b[0m\u001b[0m\n\u001b[0;32m   1185\u001b[0m         \u001b[1;32melse\u001b[0m\u001b[1;33m:\u001b[0m\u001b[1;33m\u001b[0m\u001b[1;33m\u001b[0m\u001b[0m\n\u001b[1;32m-> 1186\u001b[1;33m             \u001b[1;32mreturn\u001b[0m \u001b[0mnp\u001b[0m\u001b[1;33m.\u001b[0m\u001b[0mzeros\u001b[0m\u001b[1;33m(\u001b[0m\u001b[0mself\u001b[0m\u001b[1;33m.\u001b[0m\u001b[0mshape\u001b[0m\u001b[1;33m,\u001b[0m \u001b[0mdtype\u001b[0m\u001b[1;33m=\u001b[0m\u001b[0mself\u001b[0m\u001b[1;33m.\u001b[0m\u001b[0mdtype\u001b[0m\u001b[1;33m,\u001b[0m \u001b[0morder\u001b[0m\u001b[1;33m=\u001b[0m\u001b[0morder\u001b[0m\u001b[1;33m)\u001b[0m\u001b[1;33m\u001b[0m\u001b[1;33m\u001b[0m\u001b[0m\n\u001b[0m\u001b[0;32m   1187\u001b[0m \u001b[1;33m\u001b[0m\u001b[0m\n\u001b[0;32m   1188\u001b[0m \u001b[1;33m\u001b[0m\u001b[0m\n",
      "\u001b[1;31mMemoryError\u001b[0m: "
     ]
    }
   ],
   "source": [
    "tvec = TfidfVectorizer()\n",
    "testing_tfidf = tvec.fit_transform(text_df.essay)\n",
    "testing_target=text_df.score\n",
    "smt = SMOTE(random_state=40, k_neighbors=1)\n",
    "X_SMOTE, y_SMOTE = smt.fit_sample(testing_tfidf, testing_target)\n"
   ]
  },
  {
   "cell_type": "code",
   "execution_count": 20,
   "metadata": {},
   "outputs": [],
   "source": [
    "smote_tfidf=pd.DataFrame(X_SMOTE[0:200].todense(), columns=tvec.get_feature_names())"
   ]
  },
  {
   "cell_type": "code",
   "execution_count": 36,
   "metadata": {},
   "outputs": [
    {
     "data": {
      "text/html": [
       "<div>\n",
       "<style scoped>\n",
       "    .dataframe tbody tr th:only-of-type {\n",
       "        vertical-align: middle;\n",
       "    }\n",
       "\n",
       "    .dataframe tbody tr th {\n",
       "        vertical-align: top;\n",
       "    }\n",
       "\n",
       "    .dataframe thead th {\n",
       "        text-align: right;\n",
       "    }\n",
       "</style>\n",
       "<table border=\"1\" class=\"dataframe\">\n",
       "  <thead>\n",
       "    <tr style=\"text-align: right;\">\n",
       "      <th></th>\n",
       "      <th>00</th>\n",
       "      <th>00am</th>\n",
       "      <th>00pm</th>\n",
       "      <th>01075rm</th>\n",
       "      <th>02</th>\n",
       "      <th>021</th>\n",
       "      <th>02810010orgtypecode</th>\n",
       "      <th>05a</th>\n",
       "      <th>0dh8q</th>\n",
       "      <th>0i</th>\n",
       "      <th>...</th>\n",
       "      <th>zuni</th>\n",
       "      <th>zusak</th>\n",
       "      <th>zwink</th>\n",
       "      <th>zydeco</th>\n",
       "      <th>zynergy</th>\n",
       "      <th>zzzz</th>\n",
       "      <th>zzzzzzzand</th>\n",
       "      <th>àll</th>\n",
       "      <th>سلام</th>\n",
       "      <th>ﬁtness</th>\n",
       "    </tr>\n",
       "  </thead>\n",
       "  <tbody>\n",
       "    <tr>\n",
       "      <td>0</td>\n",
       "      <td>0.0</td>\n",
       "      <td>0.0</td>\n",
       "      <td>0.0</td>\n",
       "      <td>0.0</td>\n",
       "      <td>0.0</td>\n",
       "      <td>0.0</td>\n",
       "      <td>0.0</td>\n",
       "      <td>0.0</td>\n",
       "      <td>0.0</td>\n",
       "      <td>0.0</td>\n",
       "      <td>...</td>\n",
       "      <td>0.0</td>\n",
       "      <td>0.0</td>\n",
       "      <td>0.0</td>\n",
       "      <td>0.0</td>\n",
       "      <td>0.0</td>\n",
       "      <td>0.0</td>\n",
       "      <td>0.0</td>\n",
       "      <td>0.0</td>\n",
       "      <td>0.0</td>\n",
       "      <td>0.0</td>\n",
       "    </tr>\n",
       "    <tr>\n",
       "      <td>1</td>\n",
       "      <td>0.0</td>\n",
       "      <td>0.0</td>\n",
       "      <td>0.0</td>\n",
       "      <td>0.0</td>\n",
       "      <td>0.0</td>\n",
       "      <td>0.0</td>\n",
       "      <td>0.0</td>\n",
       "      <td>0.0</td>\n",
       "      <td>0.0</td>\n",
       "      <td>0.0</td>\n",
       "      <td>...</td>\n",
       "      <td>0.0</td>\n",
       "      <td>0.0</td>\n",
       "      <td>0.0</td>\n",
       "      <td>0.0</td>\n",
       "      <td>0.0</td>\n",
       "      <td>0.0</td>\n",
       "      <td>0.0</td>\n",
       "      <td>0.0</td>\n",
       "      <td>0.0</td>\n",
       "      <td>0.0</td>\n",
       "    </tr>\n",
       "    <tr>\n",
       "      <td>2</td>\n",
       "      <td>0.0</td>\n",
       "      <td>0.0</td>\n",
       "      <td>0.0</td>\n",
       "      <td>0.0</td>\n",
       "      <td>0.0</td>\n",
       "      <td>0.0</td>\n",
       "      <td>0.0</td>\n",
       "      <td>0.0</td>\n",
       "      <td>0.0</td>\n",
       "      <td>0.0</td>\n",
       "      <td>...</td>\n",
       "      <td>0.0</td>\n",
       "      <td>0.0</td>\n",
       "      <td>0.0</td>\n",
       "      <td>0.0</td>\n",
       "      <td>0.0</td>\n",
       "      <td>0.0</td>\n",
       "      <td>0.0</td>\n",
       "      <td>0.0</td>\n",
       "      <td>0.0</td>\n",
       "      <td>0.0</td>\n",
       "    </tr>\n",
       "    <tr>\n",
       "      <td>3</td>\n",
       "      <td>0.0</td>\n",
       "      <td>0.0</td>\n",
       "      <td>0.0</td>\n",
       "      <td>0.0</td>\n",
       "      <td>0.0</td>\n",
       "      <td>0.0</td>\n",
       "      <td>0.0</td>\n",
       "      <td>0.0</td>\n",
       "      <td>0.0</td>\n",
       "      <td>0.0</td>\n",
       "      <td>...</td>\n",
       "      <td>0.0</td>\n",
       "      <td>0.0</td>\n",
       "      <td>0.0</td>\n",
       "      <td>0.0</td>\n",
       "      <td>0.0</td>\n",
       "      <td>0.0</td>\n",
       "      <td>0.0</td>\n",
       "      <td>0.0</td>\n",
       "      <td>0.0</td>\n",
       "      <td>0.0</td>\n",
       "    </tr>\n",
       "    <tr>\n",
       "      <td>4</td>\n",
       "      <td>0.0</td>\n",
       "      <td>0.0</td>\n",
       "      <td>0.0</td>\n",
       "      <td>0.0</td>\n",
       "      <td>0.0</td>\n",
       "      <td>0.0</td>\n",
       "      <td>0.0</td>\n",
       "      <td>0.0</td>\n",
       "      <td>0.0</td>\n",
       "      <td>0.0</td>\n",
       "      <td>...</td>\n",
       "      <td>0.0</td>\n",
       "      <td>0.0</td>\n",
       "      <td>0.0</td>\n",
       "      <td>0.0</td>\n",
       "      <td>0.0</td>\n",
       "      <td>0.0</td>\n",
       "      <td>0.0</td>\n",
       "      <td>0.0</td>\n",
       "      <td>0.0</td>\n",
       "      <td>0.0</td>\n",
       "    </tr>\n",
       "    <tr>\n",
       "      <td>...</td>\n",
       "      <td>...</td>\n",
       "      <td>...</td>\n",
       "      <td>...</td>\n",
       "      <td>...</td>\n",
       "      <td>...</td>\n",
       "      <td>...</td>\n",
       "      <td>...</td>\n",
       "      <td>...</td>\n",
       "      <td>...</td>\n",
       "      <td>...</td>\n",
       "      <td>...</td>\n",
       "      <td>...</td>\n",
       "      <td>...</td>\n",
       "      <td>...</td>\n",
       "      <td>...</td>\n",
       "      <td>...</td>\n",
       "      <td>...</td>\n",
       "      <td>...</td>\n",
       "      <td>...</td>\n",
       "      <td>...</td>\n",
       "      <td>...</td>\n",
       "    </tr>\n",
       "    <tr>\n",
       "      <td>195</td>\n",
       "      <td>0.0</td>\n",
       "      <td>0.0</td>\n",
       "      <td>0.0</td>\n",
       "      <td>0.0</td>\n",
       "      <td>0.0</td>\n",
       "      <td>0.0</td>\n",
       "      <td>0.0</td>\n",
       "      <td>0.0</td>\n",
       "      <td>0.0</td>\n",
       "      <td>0.0</td>\n",
       "      <td>...</td>\n",
       "      <td>0.0</td>\n",
       "      <td>0.0</td>\n",
       "      <td>0.0</td>\n",
       "      <td>0.0</td>\n",
       "      <td>0.0</td>\n",
       "      <td>0.0</td>\n",
       "      <td>0.0</td>\n",
       "      <td>0.0</td>\n",
       "      <td>0.0</td>\n",
       "      <td>0.0</td>\n",
       "    </tr>\n",
       "    <tr>\n",
       "      <td>196</td>\n",
       "      <td>0.0</td>\n",
       "      <td>0.0</td>\n",
       "      <td>0.0</td>\n",
       "      <td>0.0</td>\n",
       "      <td>0.0</td>\n",
       "      <td>0.0</td>\n",
       "      <td>0.0</td>\n",
       "      <td>0.0</td>\n",
       "      <td>0.0</td>\n",
       "      <td>0.0</td>\n",
       "      <td>...</td>\n",
       "      <td>0.0</td>\n",
       "      <td>0.0</td>\n",
       "      <td>0.0</td>\n",
       "      <td>0.0</td>\n",
       "      <td>0.0</td>\n",
       "      <td>0.0</td>\n",
       "      <td>0.0</td>\n",
       "      <td>0.0</td>\n",
       "      <td>0.0</td>\n",
       "      <td>0.0</td>\n",
       "    </tr>\n",
       "    <tr>\n",
       "      <td>197</td>\n",
       "      <td>0.0</td>\n",
       "      <td>0.0</td>\n",
       "      <td>0.0</td>\n",
       "      <td>0.0</td>\n",
       "      <td>0.0</td>\n",
       "      <td>0.0</td>\n",
       "      <td>0.0</td>\n",
       "      <td>0.0</td>\n",
       "      <td>0.0</td>\n",
       "      <td>0.0</td>\n",
       "      <td>...</td>\n",
       "      <td>0.0</td>\n",
       "      <td>0.0</td>\n",
       "      <td>0.0</td>\n",
       "      <td>0.0</td>\n",
       "      <td>0.0</td>\n",
       "      <td>0.0</td>\n",
       "      <td>0.0</td>\n",
       "      <td>0.0</td>\n",
       "      <td>0.0</td>\n",
       "      <td>0.0</td>\n",
       "    </tr>\n",
       "    <tr>\n",
       "      <td>198</td>\n",
       "      <td>0.0</td>\n",
       "      <td>0.0</td>\n",
       "      <td>0.0</td>\n",
       "      <td>0.0</td>\n",
       "      <td>0.0</td>\n",
       "      <td>0.0</td>\n",
       "      <td>0.0</td>\n",
       "      <td>0.0</td>\n",
       "      <td>0.0</td>\n",
       "      <td>0.0</td>\n",
       "      <td>...</td>\n",
       "      <td>0.0</td>\n",
       "      <td>0.0</td>\n",
       "      <td>0.0</td>\n",
       "      <td>0.0</td>\n",
       "      <td>0.0</td>\n",
       "      <td>0.0</td>\n",
       "      <td>0.0</td>\n",
       "      <td>0.0</td>\n",
       "      <td>0.0</td>\n",
       "      <td>0.0</td>\n",
       "    </tr>\n",
       "    <tr>\n",
       "      <td>199</td>\n",
       "      <td>0.0</td>\n",
       "      <td>0.0</td>\n",
       "      <td>0.0</td>\n",
       "      <td>0.0</td>\n",
       "      <td>0.0</td>\n",
       "      <td>0.0</td>\n",
       "      <td>0.0</td>\n",
       "      <td>0.0</td>\n",
       "      <td>0.0</td>\n",
       "      <td>0.0</td>\n",
       "      <td>...</td>\n",
       "      <td>0.0</td>\n",
       "      <td>0.0</td>\n",
       "      <td>0.0</td>\n",
       "      <td>0.0</td>\n",
       "      <td>0.0</td>\n",
       "      <td>0.0</td>\n",
       "      <td>0.0</td>\n",
       "      <td>0.0</td>\n",
       "      <td>0.0</td>\n",
       "      <td>0.0</td>\n",
       "    </tr>\n",
       "  </tbody>\n",
       "</table>\n",
       "<p>200 rows × 74144 columns</p>\n",
       "</div>"
      ],
      "text/plain": [
       "      00  00am  00pm  01075rm   02  021  02810010orgtypecode  05a  0dh8q   0i  \\\n",
       "0    0.0   0.0   0.0      0.0  0.0  0.0                  0.0  0.0    0.0  0.0   \n",
       "1    0.0   0.0   0.0      0.0  0.0  0.0                  0.0  0.0    0.0  0.0   \n",
       "2    0.0   0.0   0.0      0.0  0.0  0.0                  0.0  0.0    0.0  0.0   \n",
       "3    0.0   0.0   0.0      0.0  0.0  0.0                  0.0  0.0    0.0  0.0   \n",
       "4    0.0   0.0   0.0      0.0  0.0  0.0                  0.0  0.0    0.0  0.0   \n",
       "..   ...   ...   ...      ...  ...  ...                  ...  ...    ...  ...   \n",
       "195  0.0   0.0   0.0      0.0  0.0  0.0                  0.0  0.0    0.0  0.0   \n",
       "196  0.0   0.0   0.0      0.0  0.0  0.0                  0.0  0.0    0.0  0.0   \n",
       "197  0.0   0.0   0.0      0.0  0.0  0.0                  0.0  0.0    0.0  0.0   \n",
       "198  0.0   0.0   0.0      0.0  0.0  0.0                  0.0  0.0    0.0  0.0   \n",
       "199  0.0   0.0   0.0      0.0  0.0  0.0                  0.0  0.0    0.0  0.0   \n",
       "\n",
       "     ...  zuni  zusak  zwink  zydeco  zynergy  zzzz  zzzzzzzand  àll  سلام  \\\n",
       "0    ...   0.0    0.0    0.0     0.0      0.0   0.0         0.0  0.0   0.0   \n",
       "1    ...   0.0    0.0    0.0     0.0      0.0   0.0         0.0  0.0   0.0   \n",
       "2    ...   0.0    0.0    0.0     0.0      0.0   0.0         0.0  0.0   0.0   \n",
       "3    ...   0.0    0.0    0.0     0.0      0.0   0.0         0.0  0.0   0.0   \n",
       "4    ...   0.0    0.0    0.0     0.0      0.0   0.0         0.0  0.0   0.0   \n",
       "..   ...   ...    ...    ...     ...      ...   ...         ...  ...   ...   \n",
       "195  ...   0.0    0.0    0.0     0.0      0.0   0.0         0.0  0.0   0.0   \n",
       "196  ...   0.0    0.0    0.0     0.0      0.0   0.0         0.0  0.0   0.0   \n",
       "197  ...   0.0    0.0    0.0     0.0      0.0   0.0         0.0  0.0   0.0   \n",
       "198  ...   0.0    0.0    0.0     0.0      0.0   0.0         0.0  0.0   0.0   \n",
       "199  ...   0.0    0.0    0.0     0.0      0.0   0.0         0.0  0.0   0.0   \n",
       "\n",
       "     ﬁtness  \n",
       "0       0.0  \n",
       "1       0.0  \n",
       "2       0.0  \n",
       "3       0.0  \n",
       "4       0.0  \n",
       "..      ...  \n",
       "195     0.0  \n",
       "196     0.0  \n",
       "197     0.0  \n",
       "198     0.0  \n",
       "199     0.0  \n",
       "\n",
       "[200 rows x 74144 columns]"
      ]
     },
     "execution_count": 36,
     "metadata": {},
     "output_type": "execute_result"
    }
   ],
   "source": [
    "smote_tfidf"
   ]
  },
  {
   "cell_type": "code",
   "execution_count": 36,
   "metadata": {},
   "outputs": [],
   "source": [
    "def tfidf(col,ngrams = 1):\n",
    "\n",
    "    df_temp = text_df.copy(deep = True)\n",
    "    \n",
    "    tfidf_vectorizer = TfidfVectorizer(ngram_range=(1, ngrams))\n",
    "    tfidf_vectorizer.fit(df_temp[col])\n",
    "\n",
    "    list_corpus = df_temp[col].tolist()\n",
    "    list_labels = df_temp['score'].tolist()\n",
    "\n",
    "    X = tfidf_vectorizer.transform(list_corpus)\n",
    "    \n",
    "    return X, list_labels"
   ]
  },
  {
   "cell_type": "code",
   "execution_count": 52,
   "metadata": {},
   "outputs": [],
   "source": [
    "from sklearn.linear_model import LogisticRegressionCV\n",
    "from sklearn import preprocessing, metrics, model_selection\n",
    "from sklearn.metrics import roc_curve, auc\n",
    "from sklearn.metrics import confusion_matrix\n",
    "from sklearn.metrics import log_loss\n",
    "import matplotlib.pyplot as plt\n",
    "from sklearn.metrics import f1_score\n",
    "from sklearn.metrics import precision_score\n",
    "from sklearn.metrics import recall_score\n",
    "from sklearn.metrics import accuracy_score\n",
    "\n",
    "def training_logreg(X_train_log, X_test_log, y_train_log, y_test_log, preproc):\n",
    "    \n",
    "    folds = StratifiedKFold(n_splits = 5, shuffle = True, random_state = 40)\n",
    "    clf = LogisticRegressionCV(cv = folds, max_iter=10000,solver = 'lbfgs', multi_class = 'multinomial', n_jobs = -1)\n",
    "    #Fit training dataset\n",
    "    clf.fit(X_train_log, y_train_log)\n",
    "    # Accuracy on validation dataset \n",
    "    model_lr = LogisticRegression(random_state=40, max_iter=10000, solver='lbfgs',multi_class='multinomial')\n",
    "    validation_df = model_selection.cross_val_score(model_lr, X_train_log, y_train_log, cv=5)\n",
    "    \n",
    "    \n",
    "    res = pd.DataFrame(columns = ['Preprocessing', 'Model', 'Precision', 'Recall', 'F1-score', 'Testing Accuracy', 'Training Accuracy'])\n",
    "    \n",
    "    y_pred_training=clf.predict(X_train_log)\n",
    "    y_pred = clf.predict(X_test_log)\n",
    "    \n",
    "    f1 = f1_score(y_pred, y_test_log, average = 'weighted')\n",
    "    pres = precision_score(y_pred, y_test_log, average = 'weighted')\n",
    "    rec = recall_score(y_pred, y_test_log, average = 'weighted')\n",
    "    acc = accuracy_score(y_pred, y_test_log)#compare output of x_test prediction with actual output \n",
    "    training_acc=accuracy_score(y_pred_training, y_train_log)#compare output of x_train with y_train \n",
    "\n",
    "    res = res.append({'Preprocessing': preproc, 'Model': f'Logistic Regression', 'Precision': pres, \n",
    "                     'Recall': rec, 'F1-score': f1, 'Testing Accuracy': acc, 'Training Accuracy':training_acc}, ignore_index = True)\n",
    "    \n",
    "    print(validation_df)\n",
    "    print(\"Accuracy: %.5f%%\" % (validation_df.mean()*100.0))\n",
    "    \n",
    "    #Confusion matrix \n",
    "    conf_NB = confusion_matrix(y_test_log, y_pred)    \n",
    "\n",
    "    print(\"Confusion matrix:\\n\",conf_NB)\n",
    "    \n",
    "    # Plot ROC curve\n",
    "    preds=clf.predict_proba(X_test_log)[:,1]\n",
    "    fpr, tpr, threshold = roc_curve(y_test_log, preds)\n",
    "    roc_auc = auc(fpr, tpr)\n",
    "    \n",
    "    #Plot ROC\n",
    "\n",
    "    plt.title('Receiver Operating Characteristic')\n",
    "    plt.plot(fpr, tpr, 'b', label = 'AUC = %0.2f' % roc_auc)\n",
    "    plt.legend(loc = 'lower right')\n",
    "    plt.plot([0, 1], [0, 1],'r--')\n",
    "    plt.xlim([0, 1])\n",
    "    plt.ylim([0, 1])\n",
    "    plt.ylabel('True Positive Rate')\n",
    "    plt.xlabel('False Positive Rate')\n",
    "    plt.show()\n",
    "    \n",
    "    \n",
    "    return res"
   ]
  },
  {
   "cell_type": "code",
   "execution_count": 53,
   "metadata": {},
   "outputs": [
    {
     "name": "stdout",
     "output_type": "stream",
     "text": [
      "[0.78325975 0.83057395 0.83700052 0.83935536 0.83357863]\n",
      "Accuracy: 82.47536%\n",
      "Confusion matrix:\n",
      " [[  461  1284]\n",
      " [ 2445 14569]]\n"
     ]
    },
    {
     "data": {
      "image/png": "[encoded data removed]",
      "text/plain": [
       "<Figure size 432x288 with 1 Axes>"
      ]
     },
     "metadata": {
      "needs_background": "light"
     },
     "output_type": "display_data"
    }
   ],
   "source": [
    "# DataFrame for result evaluation\n",
    "\n",
    "smote_result = pd.DataFrame(columns = ['Preprocessing', 'Model', 'Precision', 'Recall', 'F1-score', 'Testing Accuracy', 'Training Accuracy'])\n",
    "\n",
    "smote_over_sample = SMOTE(sampling_strategy='minority')\n",
    "\n",
    "# Testing TF-IDF with 1-gram\n",
    "\n",
    "X, y = tfidf('essay', ngrams = 1)\n",
    "X_train, X_test, y_train, y_test = train_test_split(X, y, test_size=0.2, random_state=40)\n",
    "X_smote_train, y_smote_train = smote_over_sample.fit_resample(X_train, y_train)\n",
    "smote_result = smote_result.append(training_logreg(X_smote_train, X_test, y_smote_train, y_test, 'TF-IDF 1-grams'), ignore_index = True)\n",
    "\n"
   ]
  },
  {
   "cell_type": "code",
   "execution_count": 54,
   "metadata": {},
   "outputs": [
    {
     "data": {
      "text/html": [
       "<div>\n",
       "<style scoped>\n",
       "    .dataframe tbody tr th:only-of-type {\n",
       "        vertical-align: middle;\n",
       "    }\n",
       "\n",
       "    .dataframe tbody tr th {\n",
       "        vertical-align: top;\n",
       "    }\n",
       "\n",
       "    .dataframe thead th {\n",
       "        text-align: right;\n",
       "    }\n",
       "</style>\n",
       "<table border=\"1\" class=\"dataframe\">\n",
       "  <thead>\n",
       "    <tr style=\"text-align: right;\">\n",
       "      <th></th>\n",
       "      <th>Preprocessing</th>\n",
       "      <th>Model</th>\n",
       "      <th>Precision</th>\n",
       "      <th>Recall</th>\n",
       "      <th>F1-score</th>\n",
       "      <th>Testing Accuracy</th>\n",
       "      <th>Training Accuracy</th>\n",
       "    </tr>\n",
       "  </thead>\n",
       "  <tbody>\n",
       "    <tr>\n",
       "      <td>0</td>\n",
       "      <td>TF-IDF 1-grams</td>\n",
       "      <td>Logistic Regression</td>\n",
       "      <td>0.764569</td>\n",
       "      <td>0.801215</td>\n",
       "      <td>0.779916</td>\n",
       "      <td>0.801215</td>\n",
       "      <td>0.997608</td>\n",
       "    </tr>\n",
       "  </tbody>\n",
       "</table>\n",
       "</div>"
      ],
      "text/plain": [
       "    Preprocessing                Model  Precision    Recall  F1-score  \\\n",
       "0  TF-IDF 1-grams  Logistic Regression   0.764569  0.801215  0.779916   \n",
       "\n",
       "   Testing Accuracy  Training Accuracy  \n",
       "0          0.801215           0.997608  "
      ]
     },
     "execution_count": 54,
     "metadata": {},
     "output_type": "execute_result"
    }
   ],
   "source": [
    "smote_result"
   ]
  },
  {
   "cell_type": "markdown",
   "metadata": {},
   "source": [
    "## Multinomial Naive Bayes "
   ]
  },
  {
   "cell_type": "code",
   "execution_count": 46,
   "metadata": {},
   "outputs": [],
   "source": [
    "from sklearn.naive_bayes import MultinomialNB\n",
    "from sklearn.model_selection import GridSearchCV\n",
    "from sklearn.metrics import roc_curve, auc\n",
    "from sklearn.metrics import confusion_matrix\n",
    "from sklearn.metrics import log_loss\n",
    "import matplotlib.pyplot as plt\n",
    "from sklearn.metrics import f1_score\n",
    "from sklearn.metrics import precision_score\n",
    "from sklearn.metrics import recall_score\n",
    "from sklearn.metrics import accuracy_score\n",
    "from sklearn import preprocessing, metrics, model_selection\n",
    "params = {}\n",
    "def training_NB(X_train_log, X_test_log, y_train_log, y_test_log, preproc):\n",
    "    \n",
    "    folds = StratifiedKFold(n_splits = 5, shuffle = True, random_state = 40)\n",
    "    nb = MultinomialNB()\n",
    "    clf = GridSearchCV(nb, param_grid=params,cv=folds)\n",
    "    \n",
    "    clf.fit(X_train_log, y_train_log)\n",
    "    \n",
    "    validation_df=model_selection.cross_val_score(clf, X_train_log, y_train_log)\n",
    "    \n",
    "    res = pd.DataFrame(columns = ['Preprocessing', 'Model', 'Precision', 'Recall', 'F1-score', 'Testing Accuracy', 'Training Accuracy'])\n",
    "    \n",
    "    y_pred_training=clf.predict(X_train_log)\n",
    "    y_pred = clf.predict(X_test_log)\n",
    "    \n",
    "    f1 = f1_score(y_pred, y_test_log, average = 'weighted')\n",
    "    pres = precision_score(y_pred, y_test_log, average = 'weighted')\n",
    "    rec = recall_score(y_pred, y_test_log, average = 'weighted')\n",
    "    acc = accuracy_score(y_pred, y_test_log)#compare output of x_test prediction with actual output \n",
    "    training_acc=accuracy_score(y_pred_training, y_train_log)#compare output of x_train with y_train \n",
    "\n",
    "    res = res.append({'Preprocessing': preproc, 'Model': f'Naive Bayes', 'Precision': pres, \n",
    "                     'Recall': rec, 'F1-score': f1, 'Testing Accuracy': acc, 'Training Accuracy':training_acc}, ignore_index = True)\n",
    "    \n",
    "    print(validation_df)\n",
    "    print(\"Accuracy: %.5f%%\" % (validation_df.mean()*100.0))\n",
    "    \n",
    "    #Confusion matrix \n",
    "    conf_NB = confusion_matrix(y_test_log, y_pred)    \n",
    "\n",
    "    print(\"Confusion matrix:\\n\",conf_NB)\n",
    "    \n",
    "    # Plot ROC curve\n",
    "    preds=clf.predict_proba(X_test_log)[:,1]\n",
    "    fpr, tpr, threshold = roc_curve(y_test_log, preds)\n",
    "    roc_auc = auc(fpr, tpr)\n",
    "    \n",
    "    #Plot ROC\n",
    "\n",
    "    plt.title('Receiver Operating Characteristic')\n",
    "    plt.plot(fpr, tpr, 'b', label = 'AUC = %0.2f' % roc_auc)\n",
    "    plt.legend(loc = 'lower right')\n",
    "    plt.plot([0, 1], [0, 1],'r--')\n",
    "    plt.xlim([0, 1])\n",
    "    plt.ylim([0, 1])\n",
    "    plt.ylabel('True Positive Rate')\n",
    "    plt.xlabel('False Positive Rate')\n",
    "    plt.show()\n",
    "    \n",
    "    \n",
    "    return res"
   ]
  },
  {
   "cell_type": "code",
   "execution_count": 47,
   "metadata": {},
   "outputs": [
    {
     "name": "stderr",
     "output_type": "stream",
     "text": [
      "C:\\Users\\liewm\\Anaconda3\\lib\\site-packages\\sklearn\\model_selection\\_split.py:1978: FutureWarning: The default value of cv will change from 3 to 5 in version 0.22. Specify it explicitly to silence this warning.\n",
      "  warnings.warn(CV_WARNING, FutureWarning)\n"
     ]
    },
    {
     "name": "stdout",
     "output_type": "stream",
     "text": [
      "[0.75939335 0.77780476 0.77941631]\n",
      "Accuracy: 77.22048%\n",
      "Confusion matrix:\n",
      " [[  802   943]\n",
      " [ 3383 13631]]\n"
     ]
    },
    {
     "data": {
      "image/png": "[encoded data removed]",
      "text/plain": [
       "<Figure size 432x288 with 1 Axes>"
      ]
     },
     "metadata": {
      "needs_background": "light"
     },
     "output_type": "display_data"
    }
   ],
   "source": [
    "# DataFrame for result evaluation\n",
    "\n",
    "nb_result = pd.DataFrame(columns = ['Preprocessing', 'Model', 'Precision', 'Recall', 'F1-score', 'Testing Accuracy', 'Training Accuracy'])\n",
    "\n",
    "# Testing TF-IDF with 1-GRAM \n",
    "nb_result= nb_result.append(training_NB(X_smote_train, X_test, y_smote_train, y_test, 'TF-IDF 1-grams'), ignore_index = True)\n",
    "\n"
   ]
  },
  {
   "cell_type": "code",
   "execution_count": 48,
   "metadata": {},
   "outputs": [
    {
     "data": {
      "text/html": [
       "<div>\n",
       "<style scoped>\n",
       "    .dataframe tbody tr th:only-of-type {\n",
       "        vertical-align: middle;\n",
       "    }\n",
       "\n",
       "    .dataframe tbody tr th {\n",
       "        vertical-align: top;\n",
       "    }\n",
       "\n",
       "    .dataframe thead th {\n",
       "        text-align: right;\n",
       "    }\n",
       "</style>\n",
       "<table border=\"1\" class=\"dataframe\">\n",
       "  <thead>\n",
       "    <tr style=\"text-align: right;\">\n",
       "      <th></th>\n",
       "      <th>Preprocessing</th>\n",
       "      <th>Model</th>\n",
       "      <th>Precision</th>\n",
       "      <th>Recall</th>\n",
       "      <th>F1-score</th>\n",
       "      <th>Testing Accuracy</th>\n",
       "      <th>Training Accuracy</th>\n",
       "    </tr>\n",
       "  </thead>\n",
       "  <tbody>\n",
       "    <tr>\n",
       "      <td>0</td>\n",
       "      <td>TF-IDF 1-grams</td>\n",
       "      <td>Naive Bayes</td>\n",
       "      <td>0.724963</td>\n",
       "      <td>0.769391</td>\n",
       "      <td>0.730853</td>\n",
       "      <td>0.769391</td>\n",
       "      <td>0.813281</td>\n",
       "    </tr>\n",
       "  </tbody>\n",
       "</table>\n",
       "</div>"
      ],
      "text/plain": [
       "    Preprocessing        Model  Precision    Recall  F1-score  \\\n",
       "0  TF-IDF 1-grams  Naive Bayes   0.724963  0.769391  0.730853   \n",
       "\n",
       "   Testing Accuracy  Training Accuracy  \n",
       "0          0.769391           0.813281  "
      ]
     },
     "execution_count": 48,
     "metadata": {},
     "output_type": "execute_result"
    }
   ],
   "source": [
    "nb_result"
   ]
  },
  {
   "cell_type": "markdown",
   "metadata": {},
   "source": [
    "## Without k fold cross validation "
   ]
  },
  {
   "cell_type": "code",
   "execution_count": 40,
   "metadata": {},
   "outputs": [],
   "source": [
    "from sklearn.linear_model import LogisticRegression\n",
    "from sklearn.metrics import roc_curve, auc\n",
    "from sklearn.metrics import confusion_matrix\n",
    "from sklearn.metrics import log_loss\n",
    "import matplotlib.pyplot as plt\n",
    "from sklearn.metrics import f1_score\n",
    "from sklearn.metrics import precision_score\n",
    "from sklearn.metrics import recall_score\n",
    "from sklearn.metrics import accuracy_score\n",
    "\n",
    "def training_logreg_noK(X_train_log, X_test_log, y_train_log, y_test_log, preproc):\n",
    "    \n",
    "    clf = LogisticRegression(solver = 'saga', multi_class = 'multinomial', n_jobs = -1)\n",
    "    \n",
    "    clf.fit(X_train_log, y_train_log)\n",
    "\n",
    "    res = pd.DataFrame(columns = ['Preprocessing', 'Model', 'Precision', 'Recall', 'F1-score', 'Testing Accuracy', 'Training Accuracy'])\n",
    "    \n",
    "    y_pred_training=clf.predict(X_train_log)\n",
    "    y_pred = clf.predict(X_test_log)\n",
    "    \n",
    "    f1 = f1_score(y_pred, y_test_log, average = 'weighted')\n",
    "    pres = precision_score(y_pred, y_test_log, average = 'weighted')\n",
    "    rec = recall_score(y_pred, y_test_log, average = 'weighted')\n",
    "    acc = accuracy_score(y_pred, y_test_log)#compare output of x_test prediction with actual output \n",
    "    training_acc=accuracy_score(y_pred_training, y_train_log)#compare output of x_train with y_train \n",
    "\n",
    "    res = res.append({'Preprocessing': preproc, 'Model': f'Logistic Regression', 'Precision': pres, \n",
    "                     'Recall': rec, 'F1-score': f1, 'Testing Accuracy': acc, 'Training Accuracy':training_acc}, ignore_index = True)\n",
    "    \n",
    "    \n",
    "    #Confusion matrix \n",
    "    conf_NB = confusion_matrix(y_test_log, y_pred)    \n",
    "\n",
    "    print(\"Confusion matrix:\\n\",conf_NB)\n",
    "    \n",
    "    # Plot ROC curve\n",
    "    preds=clf.predict_proba(X_test_log)[:,1]\n",
    "    fpr, tpr, threshold = roc_curve(y_test_log, preds)\n",
    "    roc_auc = auc(fpr, tpr)\n",
    "    \n",
    "    #Plot ROC\n",
    "\n",
    "    plt.title('Receiver Operating Characteristic')\n",
    "    plt.plot(fpr, tpr, 'b', label = 'AUC = %0.2f' % roc_auc)\n",
    "    plt.legend(loc = 'lower right')\n",
    "    plt.plot([0, 1], [0, 1],'r--')\n",
    "    plt.xlim([0, 1])\n",
    "    plt.ylim([0, 1])\n",
    "    plt.ylabel('True Positive Rate')\n",
    "    plt.xlabel('False Positive Rate')\n",
    "    plt.show()\n",
    "    \n",
    "    \n",
    "    return res"
   ]
  },
  {
   "cell_type": "code",
   "execution_count": 41,
   "metadata": {},
   "outputs": [
    {
     "name": "stdout",
     "output_type": "stream",
     "text": [
      "Confusion matrix:\n",
      " [[  721  1024]\n",
      " [ 3115 13899]]\n"
     ]
    },
    {
     "data": {
      "image/png": "[encoded data removed]",
      "text/plain": [
       "<Figure size 432x288 with 1 Axes>"
      ]
     },
     "metadata": {
      "needs_background": "light"
     },
     "output_type": "display_data"
    }
   ],
   "source": [
    "# DataFrame for result evaluation\n",
    "\n",
    "result_noK = pd.DataFrame(columns = ['Preprocessing', 'Model', 'Precision', 'Recall', 'F1-score', 'Testing Accuracy', 'Training Accuracy'])\n",
    "\n",
    "# Testing TF-IDF with 1-gram\n",
    "\n",
    "result_noK= result_noK.append(training_logreg_noK(X_smote_train, X_test, y_smote_train, y_test, 'TF-IDF 1-grams'), ignore_index = True)\n",
    "\n"
   ]
  },
  {
   "cell_type": "code",
   "execution_count": 43,
   "metadata": {},
   "outputs": [
    {
     "data": {
      "text/html": [
       "<div>\n",
       "<style scoped>\n",
       "    .dataframe tbody tr th:only-of-type {\n",
       "        vertical-align: middle;\n",
       "    }\n",
       "\n",
       "    .dataframe tbody tr th {\n",
       "        vertical-align: top;\n",
       "    }\n",
       "\n",
       "    .dataframe thead th {\n",
       "        text-align: right;\n",
       "    }\n",
       "</style>\n",
       "<table border=\"1\" class=\"dataframe\">\n",
       "  <thead>\n",
       "    <tr style=\"text-align: right;\">\n",
       "      <th></th>\n",
       "      <th>Preprocessing</th>\n",
       "      <th>Model</th>\n",
       "      <th>Precision</th>\n",
       "      <th>Recall</th>\n",
       "      <th>F1-score</th>\n",
       "      <th>Testing Accuracy</th>\n",
       "      <th>Training Accuracy</th>\n",
       "    </tr>\n",
       "  </thead>\n",
       "  <tbody>\n",
       "    <tr>\n",
       "      <td>0</td>\n",
       "      <td>TF-IDF 1-grams</td>\n",
       "      <td>Logistic Regression</td>\n",
       "      <td>0.734356</td>\n",
       "      <td>0.779359</td>\n",
       "      <td>0.745249</td>\n",
       "      <td>0.779359</td>\n",
       "      <td>0.861613</td>\n",
       "    </tr>\n",
       "  </tbody>\n",
       "</table>\n",
       "</div>"
      ],
      "text/plain": [
       "    Preprocessing                Model  Precision    Recall  F1-score  \\\n",
       "0  TF-IDF 1-grams  Logistic Regression   0.734356  0.779359  0.745249   \n",
       "\n",
       "   Testing Accuracy  Training Accuracy  \n",
       "0          0.779359           0.861613  "
      ]
     },
     "execution_count": 43,
     "metadata": {},
     "output_type": "execute_result"
    }
   ],
   "source": [
    "result_noK"
   ]
  },
  {
   "cell_type": "markdown",
   "metadata": {},
   "source": [
    "# 4 Downsampling \n",
    "## 4.1 Logistic Regression \n",
    "### 4.1.1 TF-IDF (unigram)\n"
   ]
  },
  {
   "cell_type": "markdown",
   "metadata": {},
   "source": [
    "### Downsampling \n",
    "1) Split the dataset into training and testing dataset \n",
    "<br>2) Downsampling on training set \n",
    "<br>3) Test the model on testing dataset "
   ]
  },
  {
   "cell_type": "code",
   "execution_count": 12,
   "metadata": {},
   "outputs": [],
   "source": [
    "from sklearn.model_selection import train_test_split\n",
    "X=text_df['essay']\n",
    "y=text_df['score']\n",
    "X_train, X_test, y_train, y_test = train_test_split(X, y, test_size=0.2, random_state=40)"
   ]
  },
  {
   "cell_type": "code",
   "execution_count": 14,
   "metadata": {},
   "outputs": [],
   "source": [
    "ds=pd.concat([X_train, y_train], axis=1)"
   ]
  },
  {
   "cell_type": "code",
   "execution_count": 15,
   "metadata": {},
   "outputs": [
    {
     "data": {
      "text/html": [
       "<div>\n",
       "<style scoped>\n",
       "    .dataframe tbody tr th:only-of-type {\n",
       "        vertical-align: middle;\n",
       "    }\n",
       "\n",
       "    .dataframe tbody tr th {\n",
       "        vertical-align: top;\n",
       "    }\n",
       "\n",
       "    .dataframe thead th {\n",
       "        text-align: right;\n",
       "    }\n",
       "</style>\n",
       "<table border=\"1\" class=\"dataframe\">\n",
       "  <thead>\n",
       "    <tr style=\"text-align: right;\">\n",
       "      <th></th>\n",
       "      <th>essay</th>\n",
       "      <th>score</th>\n",
       "    </tr>\n",
       "  </thead>\n",
       "  <tbody>\n",
       "    <tr>\n",
       "      <td>52285</td>\n",
       "      <td>academic emotional social need student great a...</td>\n",
       "      <td>1</td>\n",
       "    </tr>\n",
       "    <tr>\n",
       "      <td>81952</td>\n",
       "      <td>middle school student come diverse neighborhoo...</td>\n",
       "      <td>1</td>\n",
       "    </tr>\n",
       "    <tr>\n",
       "      <td>88359</td>\n",
       "      <td>walk self contain classroom see student engage...</td>\n",
       "      <td>1</td>\n",
       "    </tr>\n",
       "    <tr>\n",
       "      <td>26863</td>\n",
       "      <td>tell 4th grader something fun want know fun fu...</td>\n",
       "      <td>0</td>\n",
       "    </tr>\n",
       "    <tr>\n",
       "      <td>50029</td>\n",
       "      <td>create compose music big goal music educator c...</td>\n",
       "      <td>1</td>\n",
       "    </tr>\n",
       "    <tr>\n",
       "      <td>...</td>\n",
       "      <td>...</td>\n",
       "      <td>...</td>\n",
       "    </tr>\n",
       "    <tr>\n",
       "      <td>56760</td>\n",
       "      <td>school low income school locate small town cal...</td>\n",
       "      <td>1</td>\n",
       "    </tr>\n",
       "    <tr>\n",
       "      <td>93176</td>\n",
       "      <td>teach fantastic group third grade student los ...</td>\n",
       "      <td>1</td>\n",
       "    </tr>\n",
       "    <tr>\n",
       "      <td>80037</td>\n",
       "      <td>school community learn center public school se...</td>\n",
       "      <td>1</td>\n",
       "    </tr>\n",
       "    <tr>\n",
       "      <td>30727</td>\n",
       "      <td>teach kindergarten similar herd cat teaching t...</td>\n",
       "      <td>1</td>\n",
       "    </tr>\n",
       "    <tr>\n",
       "      <td>11590</td>\n",
       "      <td>student kid may struggle special need student ...</td>\n",
       "      <td>1</td>\n",
       "    </tr>\n",
       "  </tbody>\n",
       "</table>\n",
       "<p>75032 rows × 2 columns</p>\n",
       "</div>"
      ],
      "text/plain": [
       "                                                   essay  score\n",
       "52285  academic emotional social need student great a...      1\n",
       "81952  middle school student come diverse neighborhoo...      1\n",
       "88359  walk self contain classroom see student engage...      1\n",
       "26863  tell 4th grader something fun want know fun fu...      0\n",
       "50029  create compose music big goal music educator c...      1\n",
       "...                                                  ...    ...\n",
       "56760  school low income school locate small town cal...      1\n",
       "93176  teach fantastic group third grade student los ...      1\n",
       "80037  school community learn center public school se...      1\n",
       "30727  teach kindergarten similar herd cat teaching t...      1\n",
       "11590  student kid may struggle special need student ...      1\n",
       "\n",
       "[75032 rows x 2 columns]"
      ]
     },
     "execution_count": 15,
     "metadata": {},
     "output_type": "execute_result"
    }
   ],
   "source": [
    "ds"
   ]
  },
  {
   "cell_type": "code",
   "execution_count": 16,
   "metadata": {},
   "outputs": [
    {
     "data": {
      "text/plain": [
       "1    67947\n",
       "0    67947\n",
       "Name: score, dtype: int64"
      ]
     },
     "execution_count": 16,
     "metadata": {},
     "output_type": "execute_result"
    }
   ],
   "source": [
    "#Balance the data using downsampling \n",
    "#From the above bar plot, we can tell that the number of projects being approved is way too significantly higher than non approved. \n",
    "#We can start by doing undersampling (removing class 1 labels from the data)\n",
    "from sklearn.utils import resample\n",
    "train_majority = ds[ds.score==0]\n",
    "train_minority = ds[ds.score==1]\n",
    " \n",
    "train_majority_downsampled = resample(train_majority, \n",
    "                                 replace=True,  \n",
    "                                 n_samples=len(train_minority),   \n",
    "                                 random_state=123)\n",
    "train_ds = pd.concat([train_majority_downsampled, train_minority])\n",
    "train_ds['score'].value_counts()"
   ]
  },
  {
   "cell_type": "code",
   "execution_count": 17,
   "metadata": {},
   "outputs": [
    {
     "data": {
      "text/html": [
       "<div>\n",
       "<style scoped>\n",
       "    .dataframe tbody tr th:only-of-type {\n",
       "        vertical-align: middle;\n",
       "    }\n",
       "\n",
       "    .dataframe tbody tr th {\n",
       "        vertical-align: top;\n",
       "    }\n",
       "\n",
       "    .dataframe thead th {\n",
       "        text-align: right;\n",
       "    }\n",
       "</style>\n",
       "<table border=\"1\" class=\"dataframe\">\n",
       "  <thead>\n",
       "    <tr style=\"text-align: right;\">\n",
       "      <th></th>\n",
       "      <th>essay</th>\n",
       "      <th>score</th>\n",
       "    </tr>\n",
       "  </thead>\n",
       "  <tbody>\n",
       "    <tr>\n",
       "      <td>76476</td>\n",
       "      <td>typical classroom year old sit hour concentrat...</td>\n",
       "      <td>0</td>\n",
       "    </tr>\n",
       "    <tr>\n",
       "      <td>51659</td>\n",
       "      <td>heterogeneous class student suburban school mi...</td>\n",
       "      <td>0</td>\n",
       "    </tr>\n",
       "    <tr>\n",
       "      <td>3618</td>\n",
       "      <td>student diverse % population hispanic eager le...</td>\n",
       "      <td>0</td>\n",
       "    </tr>\n",
       "    <tr>\n",
       "      <td>35510</td>\n",
       "      <td>lucky first grade teacher grateful work empowe...</td>\n",
       "      <td>0</td>\n",
       "    </tr>\n",
       "    <tr>\n",
       "      <td>59473</td>\n",
       "      <td>student year old go kindergarten next year cla...</td>\n",
       "      <td>0</td>\n",
       "    </tr>\n",
       "  </tbody>\n",
       "</table>\n",
       "</div>"
      ],
      "text/plain": [
       "                                                   essay  score\n",
       "76476  typical classroom year old sit hour concentrat...      0\n",
       "51659  heterogeneous class student suburban school mi...      0\n",
       "3618   student diverse % population hispanic eager le...      0\n",
       "35510  lucky first grade teacher grateful work empowe...      0\n",
       "59473  student year old go kindergarten next year cla...      0"
      ]
     },
     "execution_count": 17,
     "metadata": {},
     "output_type": "execute_result"
    }
   ],
   "source": [
    "train_ds.head()"
   ]
  },
  {
   "cell_type": "code",
   "execution_count": 18,
   "metadata": {},
   "outputs": [],
   "source": [
    "import numpy as np\n",
    "train_ds = train_ds.replace(np.nan, '', regex=True)"
   ]
  },
  {
   "cell_type": "code",
   "execution_count": 20,
   "metadata": {},
   "outputs": [
    {
     "data": {
      "text/plain": [
       "52285    academic emotional social need student great a...\n",
       "81952    middle school student come diverse neighborhoo...\n",
       "88359    walk self contain classroom see student engage...\n",
       "26863    tell 4th grader something fun want know fun fu...\n",
       "50029    create compose music big goal music educator c...\n",
       "                               ...                        \n",
       "56760    school low income school locate small town cal...\n",
       "93176    teach fantastic group third grade student los ...\n",
       "80037    school community learn center public school se...\n",
       "30727    teach kindergarten similar herd cat teaching t...\n",
       "11590    student kid may struggle special need student ...\n",
       "Name: essay, Length: 75032, dtype: object"
      ]
     },
     "execution_count": 20,
     "metadata": {},
     "output_type": "execute_result"
    }
   ],
   "source": [
    "X_train"
   ]
  },
  {
   "cell_type": "code",
   "execution_count": 23,
   "metadata": {},
   "outputs": [],
   "source": [
    "#converting the data into numpy arrays\n",
    "X_train_ds=train_ds.essay\n",
    "y_train_ds=train_ds.score\n",
    "#X_train_ds = np.array(train_ds.essay)\n",
    "#y_train_ds = train_ds['score'].values"
   ]
  },
  {
   "cell_type": "code",
   "execution_count": 24,
   "metadata": {},
   "outputs": [],
   "source": [
    "def tokenizer(text):\n",
    "    return text.split()"
   ]
  },
  {
   "cell_type": "code",
   "execution_count": 25,
   "metadata": {},
   "outputs": [],
   "source": [
    "from sklearn.pipeline import Pipeline\n",
    "from sklearn.linear_model import LogisticRegression\n",
    "from sklearn.feature_extraction.text import TfidfVectorizer\n",
    "from sklearn.model_selection import GridSearchCV\n",
    "from nltk.corpus import stopwords\n",
    "stop = stopwords.words('english')\n",
    "\n",
    "tfidf = TfidfVectorizer(strip_accents=None, lowercase=False, preprocessor=None)\n",
    "\n",
    "param_grid = [{'vect__ngram_range': [(1, 1)],\n",
    "               'vect__stop_words': [stop, None],\n",
    "               'clf__penalty': ['l1', 'l2'],\n",
    "               'clf__C': [1.0, 10.0, 100.0]},\n",
    "              {'vect__ngram_range': [(1, 1)],\n",
    "               'vect__stop_words': [stop, None],\n",
    "               'vect__use_idf':[False],\n",
    "               'vect__norm':[None],\n",
    "               'clf__penalty': ['l1', 'l2'],\n",
    "               'clf__C': [1.0, 10.0, 100.0]},\n",
    "             ]\n",
    "\n",
    "lr_tfidf = Pipeline([('vect', tfidf),\n",
    "                     ('clf', LogisticRegression(random_state=0))])\n",
    "\n",
    "gs_lr_tfidf = GridSearchCV(lr_tfidf, param_grid, scoring='accuracy',\n",
    "                           cv=5, verbose=1, n_jobs=-1)\n",
    "\n"
   ]
  },
  {
   "cell_type": "code",
   "execution_count": 26,
   "metadata": {},
   "outputs": [
    {
     "name": "stdout",
     "output_type": "stream",
     "text": [
      "Fitting 5 folds for each of 24 candidates, totalling 120 fits\n"
     ]
    },
    {
     "name": "stderr",
     "output_type": "stream",
     "text": [
      "[Parallel(n_jobs=-1)]: Using backend LokyBackend with 8 concurrent workers.\n",
      "[Parallel(n_jobs=-1)]: Done  34 tasks      | elapsed: 14.5min\n",
      "[Parallel(n_jobs=-1)]: Done 120 out of 120 | elapsed: 69.6min finished\n",
      "C:\\Users\\liewm\\Anaconda3\\lib\\site-packages\\sklearn\\linear_model\\logistic.py:432: FutureWarning: Default solver will be changed to 'lbfgs' in 0.22. Specify a solver to silence this warning.\n",
      "  FutureWarning)\n"
     ]
    },
    {
     "data": {
      "text/plain": [
       "GridSearchCV(cv=5, error_score='raise-deprecating',\n",
       "             estimator=Pipeline(memory=None,\n",
       "                                steps=[('vect',\n",
       "                                        TfidfVectorizer(analyzer='word',\n",
       "                                                        binary=False,\n",
       "                                                        decode_error='strict',\n",
       "                                                        dtype=<class 'numpy.float64'>,\n",
       "                                                        encoding='utf-8',\n",
       "                                                        input='content',\n",
       "                                                        lowercase=False,\n",
       "                                                        max_df=1.0,\n",
       "                                                        max_features=None,\n",
       "                                                        min_df=1,\n",
       "                                                        ngram_range=(1, 1),\n",
       "                                                        norm='l2',\n",
       "                                                        preprocessor=None,\n",
       "                                                        smooth_idf=True,\n",
       "                                                        stop_word...\n",
       "                          'vect__stop_words': [['i', 'me', 'my', 'myself', 'we',\n",
       "                                                'our', 'ours', 'ourselves',\n",
       "                                                'you', \"you're\", \"you've\",\n",
       "                                                \"you'll\", \"you'd\", 'your',\n",
       "                                                'yours', 'yourself',\n",
       "                                                'yourselves', 'he', 'him',\n",
       "                                                'his', 'himself', 'she',\n",
       "                                                \"she's\", 'her', 'hers',\n",
       "                                                'herself', 'it', \"it's\", 'its',\n",
       "                                                'itself', ...],\n",
       "                                               None],\n",
       "                          'vect__use_idf': [False]}],\n",
       "             pre_dispatch='2*n_jobs', refit=True, return_train_score=False,\n",
       "             scoring='accuracy', verbose=1)"
      ]
     },
     "execution_count": 26,
     "metadata": {},
     "output_type": "execute_result"
    }
   ],
   "source": [
    "gs_lr_tfidf.fit(X_train_ds, y_train_ds)"
   ]
  },
  {
   "cell_type": "code",
   "execution_count": 27,
   "metadata": {},
   "outputs": [
    {
     "data": {
      "text/plain": [
       "{'clf__C': 10.0,\n",
       " 'clf__penalty': 'l1',\n",
       " 'vect__ngram_range': (1, 1),\n",
       " 'vect__norm': None,\n",
       " 'vect__stop_words': None,\n",
       " 'vect__use_idf': False}"
      ]
     },
     "execution_count": 27,
     "metadata": {},
     "output_type": "execute_result"
    }
   ],
   "source": [
    "gs_lr_tfidf.best_params_"
   ]
  },
  {
   "cell_type": "code",
   "execution_count": 28,
   "metadata": {},
   "outputs": [
    {
     "data": {
      "text/plain": [
       "0.9251475414661428"
      ]
     },
     "execution_count": 28,
     "metadata": {},
     "output_type": "execute_result"
    }
   ],
   "source": [
    "gs_lr_tfidf.best_score_"
   ]
  },
  {
   "cell_type": "code",
   "execution_count": 29,
   "metadata": {},
   "outputs": [
    {
     "data": {
      "text/plain": [
       "0.8092648861879631"
      ]
     },
     "execution_count": 29,
     "metadata": {},
     "output_type": "execute_result"
    }
   ],
   "source": [
    "clf = gs_lr_tfidf.best_estimator_\n",
    "clf.score(X_test, y_test)"
   ]
  },
  {
   "cell_type": "code",
   "execution_count": 30,
   "metadata": {},
   "outputs": [
    {
     "name": "stdout",
     "output_type": "stream",
     "text": [
      "Confusion matrix:\n",
      " [[  426  1319]\n",
      " [ 2259 14755]]\n"
     ]
    },
    {
     "data": {
      "image/png": "[encoded data removed]",
      "text/plain": [
       "<Figure size 432x288 with 1 Axes>"
      ]
     },
     "metadata": {
      "needs_background": "light"
     },
     "output_type": "display_data"
    },
    {
     "name": "stdout",
     "output_type": "stream",
     "text": [
      "Precision : 91.79420181659823\n",
      "Recall : 86.72269895380275\n",
      "The accuracy is 80.93 %\n"
     ]
    }
   ],
   "source": [
    "# MultinomialNb with TF-IDF\n",
    "from sklearn.metrics import confusion_matrix\n",
    "from sklearn.metrics import log_loss\n",
    "\n",
    "score_Log_reg = []\n",
    "y_pred = clf.predict(X_test)\n",
    "conf_NB = confusion_matrix(y_test, y_pred)    \n",
    "\n",
    "print(\"Confusion matrix:\\n\",conf_NB)\n",
    "\n",
    "#ROC for a given alpha for NB\n",
    "from sklearn.metrics import roc_curve, auc\n",
    "# Compute ROC curve and ROC area for each class\n",
    "probs = clf.predict_proba(X_test)\n",
    "preds = probs[:,1]\n",
    "fpr, tpr, threshold = roc_curve(y_test, preds)\n",
    "roc_auc = auc(fpr, tpr)\n",
    "\n",
    "#Plot ROC\n",
    "import matplotlib.pyplot as plt\n",
    "plt.title('Receiver Operating Characteristic')\n",
    "plt.plot(fpr, tpr, 'b', label = 'AUC = %0.2f' % roc_auc)\n",
    "plt.legend(loc = 'lower right')\n",
    "plt.plot([0, 1], [0, 1],'r--')\n",
    "plt.xlim([0, 1])\n",
    "plt.ylim([0, 1])\n",
    "plt.ylabel('True Positive Rate')\n",
    "plt.xlabel('False Positive Rate')\n",
    "plt.show()\n",
    "\n",
    "#Precision and recall\n",
    "tn = conf_NB[0,0]; fp = conf_NB[0,1]; fn = conf_NB[1,0]; tp = conf_NB[1,1];\n",
    "\n",
    "precision = 100*float(tp)/(tp+fp)\n",
    "recall = 100*float(tp)/(tp+fn)\n",
    "\n",
    "print(\"Precision :\",precision)\n",
    "print(\"Recall :\",recall)\n",
    "\n",
    "tp = conf_NB[0][0] \n",
    "tn = conf_NB[1][1]\n",
    "print(\"The accuracy is {} %\".format(round(100.0*(tp+tn)/len(y_test),2)))"
   ]
  },
  {
   "cell_type": "code",
   "execution_count": null,
   "metadata": {},
   "outputs": [],
   "source": []
  },
  {
   "cell_type": "markdown",
   "metadata": {},
   "source": [
    "# Ignore the rest!!"
   ]
  },
  {
   "cell_type": "markdown",
   "metadata": {},
   "source": [
    "# 3. Multinomial Naive Bayes\n",
    "## 3.1 Essay\n",
    "### 3.1.1 Unigram "
   ]
  },
  {
   "cell_type": "code",
   "execution_count": 24,
   "metadata": {},
   "outputs": [],
   "source": [
    "import time\n",
    "from sklearn.feature_extraction.text import CountVectorizer\n",
    "from sklearn.naive_bayes import MultinomialNB\n",
    "from sklearn.model_selection import GridSearchCV\n",
    "from sklearn.model_selection import train_test_split\n",
    "\n",
    "best_params = [] #store best parameters for MultinomialNB\n",
    "parameters = {'alpha':[i for i in range(1,100,10)]} \n",
    "acc = []\n",
    "score = list(score)\n",
    "for i in range(2000,14000,1000):\n",
    "    vec = CountVectorizer(max_features = i)\n",
    "    data = vec.fit_transform(essay_ds)\n",
    "    nb = MultinomialNB()\n",
    "    clf = GridSearchCV(nb, parameters,cv=5)\n",
    "    x_train, x_test, y_train, y_test = train_test_split(data, score_ds, test_size=0.2, random_state=42)\n",
    "    clf.fit(x_train, y_train)\n",
    "    acc.append(100.0*sum(clf.predict(x_test))/len((clf.predict(x_test))))\n",
    "    best_params.append(clf.best_params_)\n",
    "    vec = 0\n",
    "    data = 0\n",
    "\n"
   ]
  },
  {
   "cell_type": "code",
   "execution_count": 25,
   "metadata": {},
   "outputs": [
    {
     "name": "stdout",
     "output_type": "stream",
     "text": [
      "Confusion matrix:\n",
      " [[11484  4841]\n",
      " [ 4694 11922]]\n"
     ]
    },
    {
     "data": {
      "image/png": "[encoded data removed]",
      "text/plain": [
       "<Figure size 432x288 with 1 Axes>"
      ]
     },
     "metadata": {
      "needs_background": "light"
     },
     "output_type": "display_data"
    },
    {
     "name": "stdout",
     "output_type": "stream",
     "text": [
      "The log loss for the Naive bayes is: 1.1745085774738175\n"
     ]
    },
    {
     "data": {
      "image/png": "[encoded data removed]",
      "text/plain": [
       "<Figure size 576x576 with 1 Axes>"
      ]
     },
     "metadata": {
      "needs_background": "light"
     },
     "output_type": "display_data"
    },
    {
     "name": "stdout",
     "output_type": "stream",
     "text": [
      "Precision : 71.12092107617968\n",
      "Recall : 71.75012036591238\n",
      "The accuracy is 71.05 %\n"
     ]
    }
   ],
   "source": [
    "from sklearn.metrics import confusion_matrix\n",
    "from sklearn.metrics import log_loss\n",
    "\n",
    "score_Log_reg = []\n",
    "y_pred = clf.predict(x_test)\n",
    "conf_NB = confusion_matrix(y_test, y_pred)    \n",
    "\n",
    "print(\"Confusion matrix:\\n\",conf_NB)\n",
    "\n",
    "#ROC for a given alpha for NB\n",
    "from sklearn.metrics import roc_curve, auc\n",
    "# Compute ROC curve and ROC area for each class\n",
    "probs = clf.predict_proba(x_test)\n",
    "preds = probs[:,1]\n",
    "fpr, tpr, threshold = roc_curve(y_test, preds)\n",
    "roc_auc = auc(fpr, tpr)\n",
    "\n",
    "#Plot ROC\n",
    "import matplotlib.pyplot as plt\n",
    "plt.title('Receiver Operating Characteristic')\n",
    "plt.plot(fpr, tpr, 'b', label = 'AUC = %0.2f' % roc_auc)\n",
    "plt.legend(loc = 'lower right')\n",
    "plt.plot([0, 1], [0, 1],'r--')\n",
    "plt.xlim([0, 1])\n",
    "plt.ylim([0, 1])\n",
    "plt.ylabel('True Positive Rate')\n",
    "plt.xlabel('False Positive Rate')\n",
    "plt.show()\n",
    "\n",
    "#print the log loss\n",
    "a = log_loss(y_test, probs)\n",
    "print(\"The log loss for the Naive bayes is:\",a)\n",
    "\n",
    "#print confusion matrix\n",
    "show_confusion_matrix(conf_NB)\n",
    "\n",
    "#Precision and recall\n",
    "tn = conf_NB[0,0]; fp = conf_NB[0,1]; fn = conf_NB[1,0]; tp = conf_NB[1,1];\n",
    "\n",
    "precision = 100*float(tp)/(tp+fp)\n",
    "recall = 100*float(tp)/(tp+fn)\n",
    "\n",
    "print(\"Precision :\",precision)\n",
    "print(\"Recall :\",recall)\n",
    "\n",
    "tp = conf_NB[0][0]\n",
    "tn = conf_NB[1][1]\n",
    "print(\"The accuracy is {} %\".format(round(100.0*(tp+tn)/len(y_test),2)))"
   ]
  },
  {
   "cell_type": "markdown",
   "metadata": {},
   "source": [
    "### 3.1.2 Bi gram "
   ]
  },
  {
   "cell_type": "code",
   "execution_count": 26,
   "metadata": {},
   "outputs": [],
   "source": [
    "# Hyperparameter tuning for MultinomialNB with Bigrams\n",
    "best_params = []\n",
    "parameters = {'alpha':[i for i in range(1,100,10)]}\n",
    "features = [i for i in range(10000,130000,10000)]\n",
    "acc = []\n",
    "score = list(score)\n",
    "for i in range(2000,14000,1000):\n",
    "    vec = CountVectorizer(ngram_range=(1,2),max_features = i)\n",
    "    data = vec.fit_transform(essay_ds)\n",
    "    nb = MultinomialNB()\n",
    "    clf = GridSearchCV(nb, parameters,cv=5)\n",
    "    x_train, x_test, y_train, y_test = train_test_split(data, score_ds, test_size=0.2, random_state=42)\n",
    "    clf.fit(x_train, y_train)\n",
    "    acc.append(100.0*sum(clf.predict(x_test))/len((clf.predict(x_test))))\n",
    "    best_params.append(clf.best_params_)\n",
    "    vec = 0\n",
    "    data = 0\n"
   ]
  },
  {
   "cell_type": "code",
   "execution_count": 27,
   "metadata": {},
   "outputs": [
    {
     "name": "stdout",
     "output_type": "stream",
     "text": [
      "Confusion matrix:\n",
      " [[11282  5043]\n",
      " [ 5431 11185]]\n"
     ]
    },
    {
     "data": {
      "image/png": "[encoded data removed]",
      "text/plain": [
       "<Figure size 432x288 with 1 Axes>"
      ]
     },
     "metadata": {
      "needs_background": "light"
     },
     "output_type": "display_data"
    },
    {
     "name": "stdout",
     "output_type": "stream",
     "text": [
      "The log loss for the Naive bayes is: 1.9715995450899484\n"
     ]
    },
    {
     "data": {
      "image/png": "[encoded data removed]",
      "text/plain": [
       "<Figure size 576x576 with 1 Axes>"
      ]
     },
     "metadata": {
      "needs_background": "light"
     },
     "output_type": "display_data"
    },
    {
     "name": "stdout",
     "output_type": "stream",
     "text": [
      "Precision : 68.92408183386739\n",
      "Recall : 67.31463649494464\n",
      "The accuracy is 68.2 %\n"
     ]
    }
   ],
   "source": [
    "# MultinomialNb with Bigrams\n",
    "score_Log_reg = []\n",
    "y_pred = clf.predict(x_test)\n",
    "conf_NB = confusion_matrix(y_test, y_pred)    \n",
    "\n",
    "print(\"Confusion matrix:\\n\",conf_NB)\n",
    "\n",
    "#ROC for a given alpha for NB\n",
    "from sklearn.metrics import roc_curve, auc\n",
    "# Compute ROC curve and ROC area for each class\n",
    "probs = clf.predict_proba(x_test)\n",
    "preds = probs[:,1]\n",
    "fpr, tpr, threshold = roc_curve(y_test, preds)\n",
    "roc_auc = auc(fpr, tpr)\n",
    "\n",
    "#Plot ROC\n",
    "import matplotlib.pyplot as plt\n",
    "plt.title('Receiver Operating Characteristic')\n",
    "plt.plot(fpr, tpr, 'b', label = 'AUC = %0.2f' % roc_auc)\n",
    "plt.legend(loc = 'lower right')\n",
    "plt.plot([0, 1], [0, 1],'r--')\n",
    "plt.xlim([0, 1])\n",
    "plt.ylim([0, 1])\n",
    "plt.ylabel('True Positive Rate')\n",
    "plt.xlabel('False Positive Rate')\n",
    "plt.show()\n",
    "\n",
    "#print the log loss\n",
    "a = log_loss(y_test, probs)\n",
    "print(\"The log loss for the Naive bayes is:\",a)\n",
    "\n",
    "#print confusion matrix\n",
    "show_confusion_matrix(conf_NB)\n",
    "\n",
    "#Precision and recall\n",
    "tn = conf_NB[0,0]; fp = conf_NB[0,1]; fn = conf_NB[1,0]; tp = conf_NB[1,1];\n",
    "\n",
    "precision = 100*float(tp)/(tp+fp)\n",
    "recall = 100*float(tp)/(tp+fn)\n",
    "\n",
    "print(\"Precision :\",precision)\n",
    "print(\"Recall :\",recall)\n",
    "\n",
    "tp = conf_NB[0][0]\n",
    "tn = conf_NB[1][1]\n",
    "print(\"The accuracy is {} %\".format(round(100.0*(tp+tn)/len(y_test),2)))"
   ]
  },
  {
   "cell_type": "markdown",
   "metadata": {},
   "source": [
    "## 3.1.3 TF-IDF "
   ]
  },
  {
   "cell_type": "code",
   "execution_count": 28,
   "metadata": {},
   "outputs": [],
   "source": [
    "# Hyperparameter tuning for MultinomialNB with Bigrams\n",
    "from sklearn.feature_extraction.text import TfidfVectorizer\n",
    "from sklearn.naive_bayes import MultinomialNB\n",
    "from sklearn.model_selection import train_test_split\n",
    "from sklearn.model_selection import GridSearchCV\n",
    "\n",
    "best_params = []\n",
    "parameters = {'alpha':[i for i in range(1,100,10)]}\n",
    "acc = []\n",
    "score = list(score)\n",
    "for i in range(2000,14000,1000):\n",
    "    vec = TfidfVectorizer(max_features = i)\n",
    "    data = vec.fit_transform(essay_ds)\n",
    "    nb = MultinomialNB()\n",
    "    clf = GridSearchCV(nb, parameters,cv=5)\n",
    "    x_train, x_test, y_train, y_test = train_test_split(data, score_ds, test_size=0.2, random_state=42)\n",
    "    clf.fit(x_train, y_train)\n",
    "    acc.append(100.0*sum(clf.predict(x_test))/len((clf.predict(x_test))))\n",
    "    best_params.append(clf.best_params_)\n",
    "    vec = 0\n",
    "    data = 0\n"
   ]
  },
  {
   "cell_type": "code",
   "execution_count": 29,
   "metadata": {},
   "outputs": [
    {
     "name": "stdout",
     "output_type": "stream",
     "text": [
      "Confusion matrix:\n",
      " [[11677  4648]\n",
      " [ 4364 12252]]\n"
     ]
    },
    {
     "data": {
      "image/png": "[encoded data removed]",
      "text/plain": [
       "<Figure size 432x288 with 1 Axes>"
      ]
     },
     "metadata": {
      "needs_background": "light"
     },
     "output_type": "display_data"
    },
    {
     "name": "stdout",
     "output_type": "stream",
     "text": [
      "The log loss for the Naive bayes is: 0.5857384554019303\n"
     ]
    },
    {
     "data": {
      "image/png": "[encoded data removed]",
      "text/plain": [
       "<Figure size 576x576 with 1 Axes>"
      ]
     },
     "metadata": {
      "needs_background": "light"
     },
     "output_type": "display_data"
    },
    {
     "name": "stdout",
     "output_type": "stream",
     "text": [
      "Precision : 72.49704142011835\n",
      "Recall : 73.73615792007703\n",
      "The accuracy is 72.64 %\n"
     ]
    }
   ],
   "source": [
    "# MultinomialNb with TF-IDF\n",
    "from sklearn.metrics import confusion_matrix\n",
    "from sklearn.metrics import log_loss\n",
    "\n",
    "score_Log_reg = []\n",
    "y_pred = clf.predict(x_test)\n",
    "conf_NB = confusion_matrix(y_test, y_pred)    \n",
    "\n",
    "print(\"Confusion matrix:\\n\",conf_NB)\n",
    "\n",
    "#ROC for a given alpha for NB\n",
    "from sklearn.metrics import roc_curve, auc\n",
    "# Compute ROC curve and ROC area for each class\n",
    "probs = clf.predict_proba(x_test)\n",
    "preds = probs[:,1]\n",
    "fpr, tpr, threshold = roc_curve(y_test, preds)\n",
    "roc_auc = auc(fpr, tpr)\n",
    "\n",
    "#Plot ROC\n",
    "import matplotlib.pyplot as plt\n",
    "plt.title('Receiver Operating Characteristic')\n",
    "plt.plot(fpr, tpr, 'b', label = 'AUC = %0.2f' % roc_auc)\n",
    "plt.legend(loc = 'lower right')\n",
    "plt.plot([0, 1], [0, 1],'r--')\n",
    "plt.xlim([0, 1])\n",
    "plt.ylim([0, 1])\n",
    "plt.ylabel('True Positive Rate')\n",
    "plt.xlabel('False Positive Rate')\n",
    "plt.show()\n",
    "\n",
    "#print the log loss\n",
    "a = log_loss(y_test, probs)\n",
    "print(\"The log loss for the Naive bayes is:\",a)\n",
    "\n",
    "#print confusion matrix\n",
    "show_confusion_matrix(conf_NB)\n",
    "\n",
    "#Precision and recall\n",
    "tn = conf_NB[0,0]; fp = conf_NB[0,1]; fn = conf_NB[1,0]; tp = conf_NB[1,1];\n",
    "\n",
    "precision = 100*float(tp)/(tp+fp)\n",
    "recall = 100*float(tp)/(tp+fn)\n",
    "\n",
    "print(\"Precision :\",precision)\n",
    "print(\"Recall :\",recall)\n",
    "\n",
    "tp = conf_NB[0][0]\n",
    "tn = conf_NB[1][1]\n",
    "print(\"The accuracy is {} %\".format(round(100.0*(tp+tn)/len(y_test),2)))"
   ]
  },
  {
   "cell_type": "markdown",
   "metadata": {},
   "source": [
    "## 3.2 Project Need Statement \n",
    "### 3.2.1 Unigram"
   ]
  },
  {
   "cell_type": "code",
   "execution_count": 30,
   "metadata": {},
   "outputs": [],
   "source": [
    "import time\n",
    "from sklearn.feature_extraction.text import CountVectorizer\n",
    "from sklearn.naive_bayes import MultinomialNB\n",
    "from sklearn.model_selection import GridSearchCV\n",
    "from sklearn.model_selection import train_test_split\n",
    "\n",
    "best_params = [] #store best parameters for MultinomialNB\n",
    "parameters = {'alpha':[i for i in range(1,100,10)]} \n",
    "acc = []\n",
    "score = list(score)\n",
    "for i in range(2000,14000,1000):\n",
    "    vec = CountVectorizer(max_features = i)\n",
    "    data = vec.fit_transform(need_ds)\n",
    "    nb = MultinomialNB()\n",
    "    clf = GridSearchCV(nb, parameters,cv=5)\n",
    "    x_train, x_test, y_train, y_test = train_test_split(data, score_ds, test_size=0.2, random_state=42)\n",
    "    clf.fit(x_train, y_train)\n",
    "    acc.append(100.0*sum(clf.predict(x_test))/len((clf.predict(x_test))))\n",
    "    best_params.append(clf.best_params_)\n",
    "    vec = 0\n",
    "    data = 0\n",
    "\n"
   ]
  },
  {
   "cell_type": "code",
   "execution_count": 31,
   "metadata": {},
   "outputs": [
    {
     "name": "stdout",
     "output_type": "stream",
     "text": [
      "Confusion matrix:\n",
      " [[11178  5147]\n",
      " [ 5206 11410]]\n"
     ]
    },
    {
     "data": {
      "image/png": "[encoded data removed]",
      "text/plain": [
       "<Figure size 432x288 with 1 Axes>"
      ]
     },
     "metadata": {
      "needs_background": "light"
     },
     "output_type": "display_data"
    },
    {
     "name": "stdout",
     "output_type": "stream",
     "text": [
      "The log loss for the Naive bayes is: 0.6439826838905967\n"
     ]
    },
    {
     "data": {
      "image/png": "[encoded data removed]",
      "text/plain": [
       "<Figure size 576x576 with 1 Axes>"
      ]
     },
     "metadata": {
      "needs_background": "light"
     },
     "output_type": "display_data"
    },
    {
     "name": "stdout",
     "output_type": "stream",
     "text": [
      "Precision : 68.91345050431842\n",
      "Recall : 68.6687530091478\n",
      "The accuracy is 68.57 %\n"
     ]
    }
   ],
   "source": [
    "from sklearn.metrics import confusion_matrix\n",
    "from sklearn.metrics import log_loss\n",
    "\n",
    "score_Log_reg = []\n",
    "y_pred = clf.predict(x_test)\n",
    "conf_NB = confusion_matrix(y_test, y_pred)    \n",
    "\n",
    "print(\"Confusion matrix:\\n\",conf_NB)\n",
    "\n",
    "#ROC for a given alpha for NB\n",
    "from sklearn.metrics import roc_curve, auc\n",
    "# Compute ROC curve and ROC area for each class\n",
    "probs = clf.predict_proba(x_test)\n",
    "preds = probs[:,1]\n",
    "fpr, tpr, threshold = roc_curve(y_test, preds)\n",
    "roc_auc = auc(fpr, tpr)\n",
    "\n",
    "#Plot ROC\n",
    "import matplotlib.pyplot as plt\n",
    "plt.title('Receiver Operating Characteristic')\n",
    "plt.plot(fpr, tpr, 'b', label = 'AUC = %0.2f' % roc_auc)\n",
    "plt.legend(loc = 'lower right')\n",
    "plt.plot([0, 1], [0, 1],'r--')\n",
    "plt.xlim([0, 1])\n",
    "plt.ylim([0, 1])\n",
    "plt.ylabel('True Positive Rate')\n",
    "plt.xlabel('False Positive Rate')\n",
    "plt.show()\n",
    "\n",
    "#print the log loss\n",
    "a = log_loss(y_test, probs)\n",
    "print(\"The log loss for the Naive bayes is:\",a)\n",
    "\n",
    "#print confusion matrix\n",
    "show_confusion_matrix(conf_NB)\n",
    "\n",
    "#Precision and recall\n",
    "tn = conf_NB[0,0]; fp = conf_NB[0,1]; fn = conf_NB[1,0]; tp = conf_NB[1,1];\n",
    "\n",
    "precision = 100*float(tp)/(tp+fp)\n",
    "recall = 100*float(tp)/(tp+fn)\n",
    "\n",
    "print(\"Precision :\",precision)\n",
    "print(\"Recall :\",recall)\n",
    "\n",
    "tp = conf_NB[0][0]\n",
    "tn = conf_NB[1][1]\n",
    "print(\"The accuracy is {} %\".format(round(100.0*(tp+tn)/len(y_test),2)))"
   ]
  },
  {
   "cell_type": "markdown",
   "metadata": {},
   "source": [
    "### 3.2.2 Bi gram"
   ]
  },
  {
   "cell_type": "code",
   "execution_count": 32,
   "metadata": {},
   "outputs": [],
   "source": [
    "# Hyperparameter tuning for MultinomialNB with Bigrams\n",
    "best_params = []\n",
    "parameters = {'alpha':[i for i in range(1,100,10)]}\n",
    "features = [i for i in range(10000,130000,10000)]\n",
    "acc = []\n",
    "score = list(score)\n",
    "for i in range(2000,14000,1000):\n",
    "    vec = CountVectorizer(ngram_range=(1,2),max_features = i)\n",
    "    data = vec.fit_transform(need_ds)\n",
    "    nb = MultinomialNB()\n",
    "    clf = GridSearchCV(nb, parameters,cv=5)\n",
    "    x_train, x_test, y_train, y_test = train_test_split(data, score_ds, test_size=0.2, random_state=42)\n",
    "    clf.fit(x_train, y_train)\n",
    "    acc.append(100.0*sum(clf.predict(x_test))/len((clf.predict(x_test))))\n",
    "    best_params.append(clf.best_params_)\n",
    "    vec = 0\n",
    "    data = 0\n"
   ]
  },
  {
   "cell_type": "code",
   "execution_count": 33,
   "metadata": {},
   "outputs": [
    {
     "name": "stdout",
     "output_type": "stream",
     "text": [
      "Confusion matrix:\n",
      " [[11092  5233]\n",
      " [ 4741 11875]]\n"
     ]
    },
    {
     "data": {
      "image/png": "[encoded data removed]",
      "text/plain": [
       "<Figure size 432x288 with 1 Axes>"
      ]
     },
     "metadata": {
      "needs_background": "light"
     },
     "output_type": "display_data"
    },
    {
     "name": "stdout",
     "output_type": "stream",
     "text": [
      "The log loss for the Naive bayes is: 0.8734151776730534\n"
     ]
    },
    {
     "data": {
      "image/png": "[encoded data removed]",
      "text/plain": [
       "<Figure size 576x576 with 1 Axes>"
      ]
     },
     "metadata": {
      "needs_background": "light"
     },
     "output_type": "display_data"
    },
    {
     "name": "stdout",
     "output_type": "stream",
     "text": [
      "Precision : 69.41197100771569\n",
      "Recall : 71.46726047183438\n",
      "The accuracy is 69.72 %\n"
     ]
    }
   ],
   "source": [
    "# MultinomialNb with Bigrams\n",
    "score_Log_reg = []\n",
    "y_pred = clf.predict(x_test)\n",
    "conf_NB = confusion_matrix(y_test, y_pred)    \n",
    "\n",
    "print(\"Confusion matrix:\\n\",conf_NB)\n",
    "\n",
    "#ROC for a given alpha for NB\n",
    "from sklearn.metrics import roc_curve, auc\n",
    "# Compute ROC curve and ROC area for each class\n",
    "probs = clf.predict_proba(x_test)\n",
    "preds = probs[:,1]\n",
    "fpr, tpr, threshold = roc_curve(y_test, preds)\n",
    "roc_auc = auc(fpr, tpr)\n",
    "\n",
    "#Plot ROC\n",
    "import matplotlib.pyplot as plt\n",
    "plt.title('Receiver Operating Characteristic')\n",
    "plt.plot(fpr, tpr, 'b', label = 'AUC = %0.2f' % roc_auc)\n",
    "plt.legend(loc = 'lower right')\n",
    "plt.plot([0, 1], [0, 1],'r--')\n",
    "plt.xlim([0, 1])\n",
    "plt.ylim([0, 1])\n",
    "plt.ylabel('True Positive Rate')\n",
    "plt.xlabel('False Positive Rate')\n",
    "plt.show()\n",
    "\n",
    "#print the log loss\n",
    "a = log_loss(y_test, probs)\n",
    "print(\"The log loss for the Naive bayes is:\",a)\n",
    "\n",
    "#print confusion matrix\n",
    "show_confusion_matrix(conf_NB)\n",
    "\n",
    "#Precision and recall\n",
    "tn = conf_NB[0,0]; fp = conf_NB[0,1]; fn = conf_NB[1,0]; tp = conf_NB[1,1];\n",
    "\n",
    "precision = 100*float(tp)/(tp+fp)\n",
    "recall = 100*float(tp)/(tp+fn)\n",
    "\n",
    "print(\"Precision :\",precision)\n",
    "print(\"Recall :\",recall)\n",
    "\n",
    "tp = conf_NB[0][0]\n",
    "tn = conf_NB[1][1]\n",
    "print(\"The accuracy is {} %\".format(round(100.0*(tp+tn)/len(y_test),2)))"
   ]
  },
  {
   "cell_type": "markdown",
   "metadata": {},
   "source": [
    "### 3.2.3 TF-IDF"
   ]
  },
  {
   "cell_type": "code",
   "execution_count": 34,
   "metadata": {},
   "outputs": [],
   "source": [
    "# Hyperparameter tuning for MultinomialNB with Bigrams\n",
    "from sklearn.feature_extraction.text import TfidfVectorizer\n",
    "from sklearn.naive_bayes import MultinomialNB\n",
    "from sklearn.model_selection import train_test_split\n",
    "from sklearn.model_selection import GridSearchCV\n",
    "\n",
    "best_params = []\n",
    "parameters = {'alpha':[i for i in range(1,100,10)]}\n",
    "acc = []\n",
    "score = list(score)\n",
    "for i in range(2000,14000,1000):\n",
    "    vec = TfidfVectorizer(max_features = i)\n",
    "    data = vec.fit_transform(essay_ds)\n",
    "    nb = MultinomialNB()\n",
    "    clf = GridSearchCV(nb, parameters,cv=5)\n",
    "    x_train, x_test, y_train, y_test = train_test_split(data, score_ds, test_size=0.2, random_state=42)\n",
    "    clf.fit(x_train, y_train)\n",
    "    acc.append(100.0*sum(clf.predict(x_test))/len((clf.predict(x_test))))\n",
    "    best_params.append(clf.best_params_)\n",
    "    vec = 0\n",
    "    data = 0\n"
   ]
  },
  {
   "cell_type": "code",
   "execution_count": 35,
   "metadata": {},
   "outputs": [
    {
     "name": "stdout",
     "output_type": "stream",
     "text": [
      "Confusion matrix:\n",
      " [[11677  4648]\n",
      " [ 4364 12252]]\n"
     ]
    },
    {
     "data": {
      "image/png": "[encoded data removed]",
      "text/plain": [
       "<Figure size 432x288 with 1 Axes>"
      ]
     },
     "metadata": {
      "needs_background": "light"
     },
     "output_type": "display_data"
    },
    {
     "name": "stdout",
     "output_type": "stream",
     "text": [
      "The log loss for the Naive bayes is: 0.5857384554019303\n"
     ]
    },
    {
     "data": {
      "image/png": "[encoded data removed]",
      "text/plain": [
       "<Figure size 576x576 with 1 Axes>"
      ]
     },
     "metadata": {
      "needs_background": "light"
     },
     "output_type": "display_data"
    },
    {
     "name": "stdout",
     "output_type": "stream",
     "text": [
      "Precision : 72.49704142011835\n",
      "Recall : 73.73615792007703\n",
      "The accuracy is 72.64 %\n"
     ]
    }
   ],
   "source": [
    "# MultinomialNb with TF-IDF\n",
    "from sklearn.metrics import confusion_matrix\n",
    "from sklearn.metrics import log_loss\n",
    "\n",
    "score_Log_reg = []\n",
    "y_pred = clf.predict(x_test)\n",
    "conf_NB = confusion_matrix(y_test, y_pred)    \n",
    "\n",
    "print(\"Confusion matrix:\\n\",conf_NB)\n",
    "\n",
    "#ROC for a given alpha for NB\n",
    "from sklearn.metrics import roc_curve, auc\n",
    "# Compute ROC curve and ROC area for each class\n",
    "probs = clf.predict_proba(x_test)\n",
    "preds = probs[:,1]\n",
    "fpr, tpr, threshold = roc_curve(y_test, preds)\n",
    "roc_auc = auc(fpr, tpr)\n",
    "\n",
    "#Plot ROC\n",
    "import matplotlib.pyplot as plt\n",
    "plt.title('Receiver Operating Characteristic')\n",
    "plt.plot(fpr, tpr, 'b', label = 'AUC = %0.2f' % roc_auc)\n",
    "plt.legend(loc = 'lower right')\n",
    "plt.plot([0, 1], [0, 1],'r--')\n",
    "plt.xlim([0, 1])\n",
    "plt.ylim([0, 1])\n",
    "plt.ylabel('True Positive Rate')\n",
    "plt.xlabel('False Positive Rate')\n",
    "plt.show()\n",
    "\n",
    "#print the log loss\n",
    "a = log_loss(y_test, probs)\n",
    "print(\"The log loss for the Naive bayes is:\",a)\n",
    "\n",
    "#print confusion matrix\n",
    "show_confusion_matrix(conf_NB)\n",
    "\n",
    "#Precision and recall\n",
    "tn = conf_NB[0,0]; fp = conf_NB[0,1]; fn = conf_NB[1,0]; tp = conf_NB[1,1];\n",
    "\n",
    "precision = 100*float(tp)/(tp+fp)\n",
    "recall = 100*float(tp)/(tp+fn)\n",
    "\n",
    "print(\"Precision :\",precision)\n",
    "print(\"Recall :\",recall)\n",
    "\n",
    "tp = conf_NB[0][0]\n",
    "tn = conf_NB[1][1]\n",
    "print(\"The accuracy is {} %\".format(round(100.0*(tp+tn)/len(y_test),2)))"
   ]
  },
  {
   "cell_type": "markdown",
   "metadata": {},
   "source": [
    "## 4.2 Project Need Statement \n",
    "### 4.2.1 TF-IDF \n"
   ]
  },
  {
   "cell_type": "code",
   "execution_count": 26,
   "metadata": {},
   "outputs": [],
   "source": [
    "X_train, X_test, y_train, y_test = train_test_split(need_ds, score_ds, test_size=0.2, random_state=42)"
   ]
  },
  {
   "cell_type": "code",
   "execution_count": 27,
   "metadata": {},
   "outputs": [],
   "source": [
    "from sklearn.pipeline import Pipeline\n",
    "from sklearn.linear_model import LogisticRegression\n",
    "from sklearn.feature_extraction.text import TfidfVectorizer\n",
    "from sklearn.model_selection import GridSearchCV\n",
    "from nltk.corpus import stopwords\n",
    "stop = stopwords.words('english')\n",
    "\n",
    "tfidf = TfidfVectorizer(strip_accents=None, lowercase=False, preprocessor=None)\n",
    "\n",
    "param_grid = [{'vect__ngram_range': [(1, 1)],\n",
    "               'vect__stop_words': [stop, None],\n",
    "               'clf__penalty': ['l1', 'l2'],\n",
    "               'clf__C': [1.0, 10.0, 100.0]},\n",
    "              {'vect__ngram_range': [(1, 1)],\n",
    "               'vect__stop_words': [stop, None],\n",
    "               'vect__use_idf':[False],\n",
    "               'vect__norm':[None],\n",
    "               'clf__penalty': ['l1', 'l2'],\n",
    "               'clf__C': [1.0, 10.0, 100.0]},\n",
    "             ]\n",
    "\n",
    "lr_tfidf = Pipeline([('vect', tfidf),\n",
    "                     ('clf', LogisticRegression(random_state=0))])\n",
    "\n",
    "gs_lr_tfidf = GridSearchCV(lr_tfidf, param_grid, scoring='accuracy',\n",
    "                           cv=5, verbose=1, n_jobs=-1)\n",
    "\n"
   ]
  },
  {
   "cell_type": "code",
   "execution_count": 28,
   "metadata": {},
   "outputs": [
    {
     "name": "stdout",
     "output_type": "stream",
     "text": [
      "Fitting 5 folds for each of 24 candidates, totalling 120 fits\n"
     ]
    },
    {
     "name": "stderr",
     "output_type": "stream",
     "text": [
      "[Parallel(n_jobs=-1)]: Using backend LokyBackend with 8 concurrent workers.\n",
      "[Parallel(n_jobs=-1)]: Done  34 tasks      | elapsed:  2.4min\n",
      "[Parallel(n_jobs=-1)]: Done 120 out of 120 | elapsed:  8.6min finished\n",
      "C:\\Users\\liewm\\Anaconda3\\lib\\site-packages\\sklearn\\linear_model\\logistic.py:432: FutureWarning: Default solver will be changed to 'lbfgs' in 0.22. Specify a solver to silence this warning.\n",
      "  FutureWarning)\n"
     ]
    },
    {
     "data": {
      "text/plain": [
       "GridSearchCV(cv=5, error_score='raise-deprecating',\n",
       "             estimator=Pipeline(memory=None,\n",
       "                                steps=[('vect',\n",
       "                                        TfidfVectorizer(analyzer='word',\n",
       "                                                        binary=False,\n",
       "                                                        decode_error='strict',\n",
       "                                                        dtype=<class 'numpy.float64'>,\n",
       "                                                        encoding='utf-8',\n",
       "                                                        input='content',\n",
       "                                                        lowercase=False,\n",
       "                                                        max_df=1.0,\n",
       "                                                        max_features=None,\n",
       "                                                        min_df=1,\n",
       "                                                        ngram_range=(1, 1),\n",
       "                                                        norm='l2',\n",
       "                                                        preprocessor=None,\n",
       "                                                        smooth_idf=True,\n",
       "                                                        stop_word...\n",
       "                          'vect__stop_words': [['i', 'me', 'my', 'myself', 'we',\n",
       "                                                'our', 'ours', 'ourselves',\n",
       "                                                'you', \"you're\", \"you've\",\n",
       "                                                \"you'll\", \"you'd\", 'your',\n",
       "                                                'yours', 'yourself',\n",
       "                                                'yourselves', 'he', 'him',\n",
       "                                                'his', 'himself', 'she',\n",
       "                                                \"she's\", 'her', 'hers',\n",
       "                                                'herself', 'it', \"it's\", 'its',\n",
       "                                                'itself', ...],\n",
       "                                               None],\n",
       "                          'vect__use_idf': [False]}],\n",
       "             pre_dispatch='2*n_jobs', refit=True, return_train_score=False,\n",
       "             scoring='accuracy', verbose=1)"
      ]
     },
     "execution_count": 28,
     "metadata": {},
     "output_type": "execute_result"
    }
   ],
   "source": [
    "gs_lr_tfidf.fit(X_train, y_train)"
   ]
  },
  {
   "cell_type": "code",
   "execution_count": 29,
   "metadata": {},
   "outputs": [
    {
     "data": {
      "text/plain": [
       "{'clf__C': 100.0,\n",
       " 'clf__penalty': 'l1',\n",
       " 'vect__ngram_range': (1, 1),\n",
       " 'vect__stop_words': None}"
      ]
     },
     "execution_count": 29,
     "metadata": {},
     "output_type": "execute_result"
    }
   ],
   "source": [
    "gs_lr_tfidf.best_params_"
   ]
  },
  {
   "cell_type": "code",
   "execution_count": 30,
   "metadata": {},
   "outputs": [
    {
     "data": {
      "text/plain": [
       "0.7378662882036414"
      ]
     },
     "execution_count": 30,
     "metadata": {},
     "output_type": "execute_result"
    }
   ],
   "source": [
    "gs_lr_tfidf.best_score_"
   ]
  },
  {
   "cell_type": "code",
   "execution_count": 31,
   "metadata": {},
   "outputs": [
    {
     "data": {
      "text/plain": [
       "0.7356789411371847"
      ]
     },
     "execution_count": 31,
     "metadata": {},
     "output_type": "execute_result"
    }
   ],
   "source": [
    "clf = gs_lr_tfidf.best_estimator_\n",
    "clf.score(X_test, y_test)"
   ]
  },
  {
   "cell_type": "code",
   "execution_count": 32,
   "metadata": {},
   "outputs": [
    {
     "name": "stdout",
     "output_type": "stream",
     "text": [
      "Confusion matrix:\n",
      " [[12646  3679]\n",
      " [ 5028 11588]]\n"
     ]
    },
    {
     "data": {
      "image/png": "[encoded data removed]",
      "text/plain": [
       "<Figure size 432x288 with 1 Axes>"
      ]
     },
     "metadata": {
      "needs_background": "light"
     },
     "output_type": "display_data"
    },
    {
     "name": "stdout",
     "output_type": "stream",
     "text": [
      "The log loss for the Naive bayes is: 0.5466069648284763\n"
     ]
    },
    {
     "data": {
      "image/png": "[encoded data removed]",
      "text/plain": [
       "<Figure size 576x576 with 1 Axes>"
      ]
     },
     "metadata": {
      "needs_background": "light"
     },
     "output_type": "display_data"
    },
    {
     "name": "stdout",
     "output_type": "stream",
     "text": [
      "Precision : 75.90227287613807\n",
      "Recall : 69.74000962927299\n",
      "The accuracy is 73.57 %\n"
     ]
    }
   ],
   "source": [
    "# MultinomialNb with TF-IDF\n",
    "from sklearn.metrics import confusion_matrix\n",
    "from sklearn.metrics import log_loss\n",
    "\n",
    "score_Log_reg = []\n",
    "y_pred = clf.predict(X_test)\n",
    "conf_NB = confusion_matrix(y_test, y_pred)    \n",
    "\n",
    "print(\"Confusion matrix:\\n\",conf_NB)\n",
    "\n",
    "#ROC for a given alpha for NB\n",
    "from sklearn.metrics import roc_curve, auc\n",
    "# Compute ROC curve and ROC area for each class\n",
    "probs = clf.predict_proba(X_test)\n",
    "preds = probs[:,1]\n",
    "fpr, tpr, threshold = roc_curve(y_test, preds)\n",
    "roc_auc = auc(fpr, tpr)\n",
    "\n",
    "#Plot ROC\n",
    "import matplotlib.pyplot as plt\n",
    "plt.title('Receiver Operating Characteristic')\n",
    "plt.plot(fpr, tpr, 'b', label = 'AUC = %0.2f' % roc_auc)\n",
    "plt.legend(loc = 'lower right')\n",
    "plt.plot([0, 1], [0, 1],'r--')\n",
    "plt.xlim([0, 1])\n",
    "plt.ylim([0, 1])\n",
    "plt.ylabel('True Positive Rate')\n",
    "plt.xlabel('False Positive Rate')\n",
    "plt.show()\n",
    "\n",
    "#print the log loss\n",
    "a = log_loss(y_test, probs)\n",
    "print(\"The log loss for the Naive bayes is:\",a)\n",
    "\n",
    "#print confusion matrix\n",
    "show_confusion_matrix(conf_NB)\n",
    "\n",
    "#Precision and recall\n",
    "tn = conf_NB[0,0]; fp = conf_NB[0,1]; fn = conf_NB[1,0]; tp = conf_NB[1,1];\n",
    "\n",
    "precision = 100*float(tp)/(tp+fp)\n",
    "recall = 100*float(tp)/(tp+fn)\n",
    "\n",
    "print(\"Precision :\",precision)\n",
    "print(\"Recall :\",recall)\n",
    "\n",
    "tp = conf_NB[0][0]\n",
    "tn = conf_NB[1][1]\n",
    "print(\"The accuracy is {} %\".format(round(100.0*(tp+tn)/len(y_test),2)))"
   ]
  },
  {
   "cell_type": "code",
   "execution_count": 33,
   "metadata": {},
   "outputs": [
    {
     "data": {
      "text/plain": [
       "32941"
      ]
     },
     "execution_count": 33,
     "metadata": {},
     "output_type": "execute_result"
    }
   ],
   "source": [
    "len(X_test)"
   ]
  },
  {
   "cell_type": "markdown",
   "metadata": {},
   "source": [
    "## SVM\n",
    "### Essay "
   ]
  },
  {
   "cell_type": "code",
   "execution_count": 34,
   "metadata": {},
   "outputs": [],
   "source": [
    "X_train, X_test, y_train, y_test = train_test_split(essay_ds, score_ds, test_size=0.2, random_state=42)"
   ]
  },
  {
   "cell_type": "code",
   "execution_count": 37,
   "metadata": {},
   "outputs": [],
   "source": [
    "from sklearn.pipeline import Pipeline\n",
    "from sklearn.linear_model import LogisticRegression\n",
    "from sklearn import svm\n",
    "from sklearn.feature_extraction.text import TfidfVectorizer\n",
    "from sklearn.model_selection import GridSearchCV\n",
    "from nltk.corpus import stopwords\n",
    "stop = stopwords.words('english')\n",
    "\n",
    "tfidf = TfidfVectorizer(strip_accents=None, lowercase=False, preprocessor=None)\n",
    "\n",
    "param_grid = [{'vect__ngram_range': [(1, 1)],\n",
    "               'vect__stop_words': [stop, None],\n",
    "               'clf__penalty': ['l1', 'l2'],\n",
    "               'clf__C': [1.0, 10.0, 100.0]},\n",
    "              {'vect__ngram_range': [(1, 1)],\n",
    "               'vect__stop_words': [stop, None],\n",
    "               'vect__use_idf':[False],\n",
    "               'vect__norm':[None],\n",
    "               'clf__penalty': ['l1', 'l2'],\n",
    "               'clf__C': [1.0, 10.0, 100.0]},\n",
    "             ]\n",
    "\n",
    "svm_tfidf = Pipeline([('vect', tfidf),\n",
    "                     ('clf', svm.SVC(kernel='linear'))])\n",
    "\n",
    "gs_svm_tfidf = GridSearchCV(lr_tfidf, param_grid, scoring='accuracy',\n",
    "                           cv=5, verbose=1, n_jobs=-1)\n",
    "\n"
   ]
  },
  {
   "cell_type": "code",
   "execution_count": 38,
   "metadata": {},
   "outputs": [
    {
     "name": "stdout",
     "output_type": "stream",
     "text": [
      "Fitting 5 folds for each of 24 candidates, totalling 120 fits\n"
     ]
    },
    {
     "name": "stderr",
     "output_type": "stream",
     "text": [
      "[Parallel(n_jobs=-1)]: Using backend LokyBackend with 8 concurrent workers.\n",
      "[Parallel(n_jobs=-1)]: Done  34 tasks      | elapsed: 14.8min\n",
      "[Parallel(n_jobs=-1)]: Done 120 out of 120 | elapsed: 633.9min finished\n",
      "C:\\Users\\liewm\\Anaconda3\\lib\\site-packages\\sklearn\\linear_model\\logistic.py:432: FutureWarning: Default solver will be changed to 'lbfgs' in 0.22. Specify a solver to silence this warning.\n",
      "  FutureWarning)\n"
     ]
    },
    {
     "data": {
      "text/plain": [
       "GridSearchCV(cv=5, error_score='raise-deprecating',\n",
       "             estimator=Pipeline(memory=None,\n",
       "                                steps=[('vect',\n",
       "                                        TfidfVectorizer(analyzer='word',\n",
       "                                                        binary=False,\n",
       "                                                        decode_error='strict',\n",
       "                                                        dtype=<class 'numpy.float64'>,\n",
       "                                                        encoding='utf-8',\n",
       "                                                        input='content',\n",
       "                                                        lowercase=False,\n",
       "                                                        max_df=1.0,\n",
       "                                                        max_features=None,\n",
       "                                                        min_df=1,\n",
       "                                                        ngram_range=(1, 1),\n",
       "                                                        norm='l2',\n",
       "                                                        preprocessor=None,\n",
       "                                                        smooth_idf=True,\n",
       "                                                        stop_word...\n",
       "                          'vect__stop_words': [['i', 'me', 'my', 'myself', 'we',\n",
       "                                                'our', 'ours', 'ourselves',\n",
       "                                                'you', \"you're\", \"you've\",\n",
       "                                                \"you'll\", \"you'd\", 'your',\n",
       "                                                'yours', 'yourself',\n",
       "                                                'yourselves', 'he', 'him',\n",
       "                                                'his', 'himself', 'she',\n",
       "                                                \"she's\", 'her', 'hers',\n",
       "                                                'herself', 'it', \"it's\", 'its',\n",
       "                                                'itself', ...],\n",
       "                                               None],\n",
       "                          'vect__use_idf': [False]}],\n",
       "             pre_dispatch='2*n_jobs', refit=True, return_train_score=False,\n",
       "             scoring='accuracy', verbose=1)"
      ]
     },
     "execution_count": 38,
     "metadata": {},
     "output_type": "execute_result"
    }
   ],
   "source": [
    "gs_svm_tfidf.fit(X_train, y_train)"
   ]
  },
  {
   "cell_type": "code",
   "execution_count": 39,
   "metadata": {},
   "outputs": [
    {
     "data": {
      "text/plain": [
       "{'clf__C': 10.0,\n",
       " 'clf__penalty': 'l1',\n",
       " 'vect__ngram_range': (1, 1),\n",
       " 'vect__norm': None,\n",
       " 'vect__stop_words': None,\n",
       " 'vect__use_idf': False}"
      ]
     },
     "execution_count": 39,
     "metadata": {},
     "output_type": "execute_result"
    }
   ],
   "source": [
    "gs_svm_tfidf.best_params_"
   ]
  },
  {
   "cell_type": "code",
   "execution_count": 40,
   "metadata": {},
   "outputs": [
    {
     "data": {
      "text/plain": [
       "0.9108916902573599"
      ]
     },
     "execution_count": 40,
     "metadata": {},
     "output_type": "execute_result"
    }
   ],
   "source": [
    "gs_svm_tfidf.best_score_"
   ]
  },
  {
   "cell_type": "code",
   "execution_count": 41,
   "metadata": {},
   "outputs": [
    {
     "data": {
      "text/plain": [
       "0.9187031359096567"
      ]
     },
     "execution_count": 41,
     "metadata": {},
     "output_type": "execute_result"
    }
   ],
   "source": [
    "clf = gs_svm_tfidf.best_estimator_\n",
    "clf.score(X_test, y_test)"
   ]
  },
  {
   "cell_type": "code",
   "execution_count": 42,
   "metadata": {},
   "outputs": [
    {
     "name": "stdout",
     "output_type": "stream",
     "text": [
      "Confusion matrix:\n",
      " [[16271    54]\n",
      " [ 2624 13992]]\n"
     ]
    },
    {
     "data": {
      "image/png": "[encoded data removed]",
      "text/plain": [
       "<Figure size 432x288 with 1 Axes>"
      ]
     },
     "metadata": {
      "needs_background": "light"
     },
     "output_type": "display_data"
    },
    {
     "name": "stdout",
     "output_type": "stream",
     "text": [
      "The log loss for the SVM is: 0.4152987979427027\n"
     ]
    },
    {
     "data": {
      "image/png": "[encoded data removed]",
      "text/plain": [
       "<Figure size 576x576 with 1 Axes>"
      ]
     },
     "metadata": {
      "needs_background": "light"
     },
     "output_type": "display_data"
    },
    {
     "name": "stdout",
     "output_type": "stream",
     "text": [
      "Precision : 99.61554891072191\n",
      "Recall : 84.20799229658161\n",
      "The accuracy is 91.87 %\n"
     ]
    }
   ],
   "source": [
    "# MultinomialNb with TF-IDF\n",
    "from sklearn.metrics import confusion_matrix\n",
    "from sklearn.metrics import log_loss\n",
    "\n",
    "score_Log_reg = []\n",
    "y_pred = clf.predict(X_test)\n",
    "conf_NB = confusion_matrix(y_test, y_pred)    \n",
    "\n",
    "print(\"Confusion matrix:\\n\",conf_NB)\n",
    "\n",
    "#ROC for a given alpha for NB\n",
    "from sklearn.metrics import roc_curve, auc\n",
    "# Compute ROC curve and ROC area for each class\n",
    "probs = clf.predict_proba(X_test)\n",
    "preds = probs[:,1]\n",
    "fpr, tpr, threshold = roc_curve(y_test, preds)\n",
    "roc_auc = auc(fpr, tpr)\n",
    "\n",
    "#Plot ROC\n",
    "import matplotlib.pyplot as plt\n",
    "plt.title('Receiver Operating Characteristic')\n",
    "plt.plot(fpr, tpr, 'b', label = 'AUC = %0.2f' % roc_auc)\n",
    "plt.legend(loc = 'lower right')\n",
    "plt.plot([0, 1], [0, 1],'r--')\n",
    "plt.xlim([0, 1])\n",
    "plt.ylim([0, 1])\n",
    "plt.ylabel('True Positive Rate')\n",
    "plt.xlabel('False Positive Rate')\n",
    "plt.show()\n",
    "\n",
    "#print the log loss\n",
    "a = log_loss(y_test, probs)\n",
    "print(\"The log loss for the SVM is:\",a)\n",
    "\n",
    "#print confusion matrix\n",
    "show_confusion_matrix(conf_NB)\n",
    "\n",
    "#Precision and recall\n",
    "tn = conf_NB[0,0]; fp = conf_NB[0,1]; fn = conf_NB[1,0]; tp = conf_NB[1,1];\n",
    "\n",
    "precision = 100*float(tp)/(tp+fp)\n",
    "recall = 100*float(tp)/(tp+fn)\n",
    "\n",
    "print(\"Precision :\",precision)\n",
    "print(\"Recall :\",recall)\n",
    "\n",
    "tp = conf_NB[0][0]\n",
    "tn = conf_NB[1][1]\n",
    "print(\"The accuracy is {} %\".format(round(100.0*(tp+tn)/len(y_test),2)))"
   ]
  },
  {
   "cell_type": "code",
   "execution_count": null,
   "metadata": {},
   "outputs": [],
   "source": []
  },
  {
   "cell_type": "markdown",
   "metadata": {},
   "source": [
    "## 2.2 Project Resource Summary \n",
    "### 2.2.1 Logistic Regression "
   ]
  },
  {
   "cell_type": "code",
   "execution_count": null,
   "metadata": {},
   "outputs": [],
   "source": [
    "from sklearn.metrics import accuracy_score\n",
    "from sklearn.linear_model import LogisticRegression\n",
    "from sklearn.pipeline import Pipeline\n",
    "from time import time\n",
    "\n",
    "def accuracy_summary(pipeline, x_train, y_train, x_test, y_test):\n",
    "    if len(x_test[y_test == 0]) / (len(x_test)*1.) > 0.5:\n",
    "        null_accuracy = len(x_test[y_test == 0]) / (len(x_test)*1.)\n",
    "    else:\n",
    "        null_accuracy = 1. - (len(x_test[y_test == 0]) / (len(x_test)*1.))\n",
    "    t0 = time()\n",
    "    sentiment_fit = pipeline.fit(x_train, y_train)\n",
    "    y_pred = sentiment_fit.predict(x_test)\n",
    "    train_test_time = time() - t0\n",
    "    accuracy = accuracy_score(y_test, y_pred)\n",
    "    print(\"null accuracy: {0:.2f}%\".format(null_accuracy*100))\n",
    "    print(\"accuracy score: {0:.2f}%\".format(accuracy*100))\n",
    "    if accuracy > null_accuracy:\n",
    "        print(\"model is {0:.2f}% more accurate than null accuracy\".format((accuracy-null_accuracy)*100))\n",
    "    elif accuracy == null_accuracy:\n",
    "        print(\"model has the same accuracy with the null accuracy\")\n",
    "    else:\n",
    "        print(\"model is {0:.2f}% less accurate than null accuracy\".format((null_accuracy-accuracy)*100))\n",
    "    print(\"train and test time: {0:.2f}s\".format(train_test_time))\n",
    "    print(\"-\"*80)\n",
    "    return accuracy, train_test_time\n",
    "\n",
    "cvec = CountVectorizer()\n",
    "lr = LogisticRegression()\n",
    "n_features = np.arange(10000,100001,10000)\n",
    "\n",
    "def nfeature_accuracy_checker(vectorizer=cvec, n_features=n_features, stop_words=None, ngram_range=(1, 1), classifier=lr):\n",
    "    result = []\n",
    "    print (classifier)\n",
    "    print(\"\\n\")\n",
    "    for n in n_features:\n",
    "        vectorizer.set_params(stop_words=stop_words, max_features=n, ngram_range=ngram_range)\n",
    "        checker_pipeline = Pipeline([\n",
    "            ('vectorizer', vectorizer),\n",
    "            ('classifier', classifier)\n",
    "        ])\n",
    "        print(\"Validation result for {} features\".format(n))\n",
    "        nfeature_accuracy,tt_time = accuracy_summary(checker_pipeline, x_train['need'], y_train, x_validation['need'], y_validation)\n",
    "        result.append((n,nfeature_accuracy,tt_time))\n",
    "    return result\n"
   ]
  },
  {
   "cell_type": "code",
   "execution_count": null,
   "metadata": {},
   "outputs": [],
   "source": [
    "from sklearn.feature_extraction.text import TfidfVectorizer\n",
    "tvec = TfidfVectorizer()\n",
    "feature_result_ugt = nfeature_accuracy_checker(vectorizer=tvec) #Unigram\n",
    "feature_result_bgt = nfeature_accuracy_checker(vectorizer=tvec,ngram_range=(1, 2)) #Bigram\n",
    "feature_result_tgt = nfeature_accuracy_checker(vectorizer=tvec,ngram_range=(1, 3)) #Trigram \n",
    "\n",
    "feature_result_ug = nfeature_accuracy_checker(vectorizer=cvec) #Unigram\n",
    "feature_result_bg = nfeature_accuracy_checker(vectorizer=cvec,ngram_range=(1, 2)) #Bigram\n",
    "feature_result_tg = nfeature_accuracy_checker(vectorizer=ctvec,ngram_range=(1, 3)) #Trigram \n",
    "\n",
    "nfeatures_plot_tg = pd.DataFrame(feature_result_tg,columns=['nfeatures','validation_accuracy','train_test_time'])\n",
    "nfeatures_plot_bg = pd.DataFrame(feature_result_bg,columns=['nfeatures','validation_accuracy','train_test_time'])\n",
    "nfeatures_plot_ug = pd.DataFrame(feature_result_ug,columns=['nfeatures','validation_accuracy','train_test_time'])\n",
    "\n",
    "nfeatures_plot_tgt = pd.DataFrame(feature_result_tgt,columns=['nfeatures','validation_accuracy','train_test_time'])\n",
    "nfeatures_plot_bgt = pd.DataFrame(feature_result_bgt,columns=['nfeatures','validation_accuracy','train_test_time'])\n",
    "nfeatures_plot_ugt = pd.DataFrame(feature_result_ugt,columns=['nfeatures','validation_accuracy','train_test_time'])\n",
    "\n",
    "plt.figure(figsize=(8,6))\n",
    "plt.plot(nfeatures_plot_tgt.nfeatures, nfeatures_plot_tgt.validation_accuracy,label='trigram tfidf vectorizer',color='royalblue')\n",
    "plt.plot(nfeatures_plot_tg.nfeatures, nfeatures_plot_tg.validation_accuracy,label='trigram count vectorizer',linestyle=':', color='royalblue')\n",
    "plt.plot(nfeatures_plot_bgt.nfeatures, nfeatures_plot_bgt.validation_accuracy,label='bigram tfidf vectorizer',color='orangered')\n",
    "plt.plot(nfeatures_plot_bg.nfeatures, nfeatures_plot_bg.validation_accuracy,label='bigram count vectorizer',linestyle=':',color='orangered')\n",
    "plt.plot(nfeatures_plot_ugt.nfeatures, nfeatures_plot_ugt.validation_accuracy, label='unigram tfidf vectorizer',color='gold')\n",
    "plt.plot(nfeatures_plot_ug.nfeatures, nfeatures_plot_ug.validation_accuracy, label='unigram count vectorizer',linestyle=':',color='gold')\n",
    "plt.title(\"N-gram(1~3) test result : Accuracy\")\n",
    "plt.xlabel(\"Number of features\")\n",
    "plt.ylabel(\"Validation set accuracy\")\n",
    "plt.legend()"
   ]
  },
  {
   "cell_type": "markdown",
   "metadata": {},
   "source": [
    "### 2.2.2 Multinomial Naive Bayes "
   ]
  },
  {
   "cell_type": "code",
   "execution_count": null,
   "metadata": {},
   "outputs": [],
   "source": [
    "from sklearn.naive_bayes import MultinomialNB\n",
    "nb=MultinomialNB()\n",
    "feature_result_ugt = nfeature_accuracy_checker(vectorizer=tvec, classifier=nb) #Unigram\n",
    "feature_result_bgt = nfeature_accuracy_checker(vectorizer=tvec,ngram_range=(1, 2), classifier=nb) #Bigram\n",
    "feature_result_tgt = nfeature_accuracy_checker(vectorizer=tvec,ngram_range=(1, 3), classifier=nb) #Trigram \n",
    "\n",
    "feature_result_ug = nfeature_accuracy_checker(vectorizer=cvec, classifier=nb) #Unigram\n",
    "feature_result_bg = nfeature_accuracy_checker(vectorizer=cvec,ngram_range=(1, 2), classifier=nb) #Bigram\n",
    "feature_result_tg = nfeature_accuracy_checker(vectorizer=cvec,ngram_range=(1, 3), classifier=nb) #Trigram \n",
    "\n",
    "nfeatures_plot_tg = pd.DataFrame(feature_result_tg,columns=['nfeatures','validation_accuracy','train_test_time'])\n",
    "nfeatures_plot_bg = pd.DataFrame(feature_result_bg,columns=['nfeatures','validation_accuracy','train_test_time'])\n",
    "nfeatures_plot_ug = pd.DataFrame(feature_result_ug,columns=['nfeatures','validation_accuracy','train_test_time'])\n",
    "\n",
    "nfeatures_plot_tgt = pd.DataFrame(feature_result_tgt,columns=['nfeatures','validation_accuracy','train_test_time'])\n",
    "nfeatures_plot_bgt = pd.DataFrame(feature_result_bgt,columns=['nfeatures','validation_accuracy','train_test_time'])\n",
    "nfeatures_plot_ugt = pd.DataFrame(feature_result_ugt,columns=['nfeatures','validation_accuracy','train_test_time'])\n",
    "\n",
    "plt.figure(figsize=(8,6))\n",
    "plt.plot(nfeatures_plot_tgt.nfeatures, nfeatures_plot_tgt.validation_accuracy,label='trigram tfidf vectorizer',color='royalblue')\n",
    "plt.plot(nfeatures_plot_tg.nfeatures, nfeatures_plot_tg.validation_accuracy,label='trigram count vectorizer',linestyle=':', color='royalblue')\n",
    "plt.plot(nfeatures_plot_bgt.nfeatures, nfeatures_plot_bgt.validation_accuracy,label='bigram tfidf vectorizer',color='orangered')\n",
    "plt.plot(nfeatures_plot_bg.nfeatures, nfeatures_plot_bg.validation_accuracy,label='bigram count vectorizer',linestyle=':',color='orangered')\n",
    "plt.plot(nfeatures_plot_ugt.nfeatures, nfeatures_plot_ugt.validation_accuracy, label='unigram tfidf vectorizer',color='gold')\n",
    "plt.plot(nfeatures_plot_ug.nfeatures, nfeatures_plot_ug.validation_accuracy, label='unigram count vectorizer',linestyle=':',color='gold')\n",
    "plt.title(\"N-gram(1~3) test result : Accuracy\")\n",
    "plt.xlabel(\"Number of features\")\n",
    "plt.ylabel(\"Validation set accuracy\")\n",
    "plt.legend()\n",
    "\n"
   ]
  },
  {
   "cell_type": "markdown",
   "metadata": {},
   "source": [
    "### 2.2.3 SVM"
   ]
  },
  {
   "cell_type": "code",
   "execution_count": null,
   "metadata": {},
   "outputs": [],
   "source": [
    "from sklearn import svm\n",
    "sv=svm.SVC(kernel='linear')\n",
    "feature_result_ugt = nfeature_accuracy_checker(vectorizer=tvec, classifier=sv) #Unigram\n",
    "feature_result_bgt = nfeature_accuracy_checker(vectorizer=tvec,ngram_range=(1, 2), classifier=sv) #Bigram\n",
    "feature_result_tgt = nfeature_accuracy_checker(vectorizer=tvec,ngram_range=(1, 3), classifier=sv) #Trigram \n",
    "\n",
    "feature_result_ug = nfeature_accuracy_checker(vectorizer=cvec, classifier=sv) #Unigram\n",
    "feature_result_bg = nfeature_accuracy_checker(vectorizer=cvec,ngram_range=(1, 2), classifier=sv) #Bigram\n",
    "feature_result_tg = nfeature_accuracy_checker(vectorizer=cvec,ngram_range=(1, 3), classifier=sv) #Trigram \n",
    "\n",
    "nfeatures_plot_tg = pd.DataFrame(feature_result_tg,columns=['nfeatures','validation_accuracy','train_test_time'])\n",
    "nfeatures_plot_bg = pd.DataFrame(feature_result_bg,columns=['nfeatures','validation_accuracy','train_test_time'])\n",
    "nfeatures_plot_ug = pd.DataFrame(feature_result_ug,columns=['nfeatures','validation_accuracy','train_test_time'])\n",
    "\n",
    "nfeatures_plot_tgt = pd.DataFrame(feature_result_tgt,columns=['nfeatures','validation_accuracy','train_test_time'])\n",
    "nfeatures_plot_bgt = pd.DataFrame(feature_result_bgt,columns=['nfeatures','validation_accuracy','train_test_time'])\n",
    "nfeatures_plot_ugt = pd.DataFrame(feature_result_ugt,columns=['nfeatures','validation_accuracy','train_test_time'])\n",
    "\n",
    "plt.figure(figsize=(8,6))\n",
    "plt.plot(nfeatures_plot_tgt.nfeatures, nfeatures_plot_tgt.validation_accuracy,label='trigram tfidf vectorizer',color='royalblue')\n",
    "plt.plot(nfeatures_plot_tg.nfeatures, nfeatures_plot_tg.validation_accuracy,label='trigram count vectorizer',linestyle=':', color='royalblue')\n",
    "plt.plot(nfeatures_plot_bgt.nfeatures, nfeatures_plot_bgt.validation_accuracy,label='bigram tfidf vectorizer',color='orangered')\n",
    "plt.plot(nfeatures_plot_bg.nfeatures, nfeatures_plot_bg.validation_accuracy,label='bigram count vectorizer',linestyle=':',color='orangered')\n",
    "plt.plot(nfeatures_plot_ugt.nfeatures, nfeatures_plot_ugt.validation_accuracy, label='unigram tfidf vectorizer',color='gold')\n",
    "plt.plot(nfeatures_plot_ug.nfeatures, nfeatures_plot_ug.validation_accuracy, label='unigram count vectorizer',linestyle=':',color='gold')\n",
    "plt.title(\"N-gram(1~3) test result : Accuracy\")\n",
    "plt.xlabel(\"Number of features\")\n",
    "plt.ylabel(\"Validation set accuracy\")\n",
    "plt.legend()"
   ]
  }
 ],
 "metadata": {
  "kernelspec": {
   "display_name": "Python 3",
   "language": "python",
   "name": "python3"
  },
  "language_info": {
   "codemirror_mode": {
    "name": "ipython",
    "version": 3
   },
   "file_extension": ".py",
   "mimetype": "text/x-python",
   "name": "python",
   "nbconvert_exporter": "python",
   "pygments_lexer": "ipython3",
   "version": "3.7.4"
  }
 },
 "nbformat": 4,
 "nbformat_minor": 2
}
